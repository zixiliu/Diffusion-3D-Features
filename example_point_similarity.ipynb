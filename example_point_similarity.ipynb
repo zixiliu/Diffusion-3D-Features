{
 "cells": [
  {
   "cell_type": "markdown",
   "id": "b155ea17",
   "metadata": {},
   "source": [
    "# Point-to-Mesh Similarity Analysis\n",
    "\n",
    "This notebook demonstrates how to:\n",
    "1. Load two meshes\n",
    "2. Specify a particular point on the source mesh\n",
    "3. Color-map the target mesh based on similarity to that point\n",
    "\n",
    "The analysis uses diffusion features + DINO features to compute semantic similarity between mesh vertices."
   ]
  },
  {
   "cell_type": "markdown",
   "id": "b2dc6797",
   "metadata": {},
   "source": [
    "## 1. Import Dependencies"
   ]
  },
  {
   "cell_type": "code",
   "execution_count": 28,
   "id": "930249c2",
   "metadata": {},
   "outputs": [
    {
     "name": "stdout",
     "output_type": "stream",
     "text": [
      "The autoreload extension is already loaded. To reload it, use:\n",
      "  %reload_ext autoreload\n",
      "Using device: cuda\n"
     ]
    }
   ],
   "source": [
    "import torch\n",
    "from diff3f import get_features_per_vertex\n",
    "from time import time\n",
    "from utils import convert_mesh_container_to_torch_mesh, cosine_similarity, double_plot, get_colors, generate_colors\n",
    "from dataloaders.mesh_container import MeshContainer\n",
    "from diffusion import init_pipe\n",
    "from dino import init_dino\n",
    "from functional_map import compute_surface_map\n",
    "import importlib\n",
    "import meshplot as mp\n",
    "from point_to_mesh_similarity import run_point_similarity_analysis, point_similarity_colormap, visualize_point_similarity, run_multi_point_correspondence_analysis\n",
    "import numpy as np\n",
    "\n",
    "%load_ext autoreload\n",
    "%autoreload 2\n",
    "\n",
    "# Set up device\n",
    "device = torch.device(\"cuda\" if torch.cuda.is_available() else \"cpu\")\n",
    "print(f\"Using device: {device}\")"
   ]
  },
  {
   "cell_type": "markdown",
   "id": "91398f0c",
   "metadata": {},
   "source": [
    "## 2. Initialize Models\n",
    "\n",
    "This step loads the diffusion pipeline and DINO model for feature extraction."
   ]
  },
  {
   "cell_type": "code",
   "execution_count": 29,
   "id": "394b3ae4",
   "metadata": {
    "scrolled": true
   },
   "outputs": [
    {
     "name": "stdout",
     "output_type": "stream",
     "text": [
      "Initializing diffusion pipeline...\n"
     ]
    },
    {
     "data": {
      "application/vnd.jupyter.widget-view+json": {
       "model_id": "cd28ce5ee3b2463aa6e9e61859e84771",
       "version_major": 2,
       "version_minor": 0
      },
      "text/plain": [
       "Loading pipeline components...:   0%|          | 0/6 [00:00<?, ?it/s]"
      ]
     },
     "metadata": {},
     "output_type": "display_data"
    },
    {
     "name": "stderr",
     "output_type": "stream",
     "text": [
      "You have disabled the safety checker for <class 'pipeline_controlnet_img2img.StableDiffusionControlNetImg2ImgPipeline'> by passing `safety_checker=None`. Ensure that you abide to the conditions of the Stable Diffusion license and do not expose unfiltered results in services or applications open to the public. Both the diffusers team and Hugging Face strongly recommend to keep the safety filter enabled in all public facing circumstances, disabling it only for use-cases that involve analyzing network behavior or auditing its results. For more information, please have a look at https://github.com/huggingface/diffusers/pull/254 .\n"
     ]
    },
    {
     "name": "stdout",
     "output_type": "stream",
     "text": [
      "Initializing DINO model...\n"
     ]
    },
    {
     "name": "stderr",
     "output_type": "stream",
     "text": [
      "Using cache found in /home/zixiliu/.cache/torch/hub/facebookresearch_dinov2_main\n"
     ]
    },
    {
     "name": "stdout",
     "output_type": "stream",
     "text": [
      "Models initialized successfully!\n"
     ]
    }
   ],
   "source": [
    "print(\"Initializing diffusion pipeline...\")\n",
    "pipe = init_pipe(device)\n",
    "\n",
    "print(\"Initializing DINO model...\")\n",
    "dino_model = init_dino(device)\n",
    "\n",
    "print(\"Models initialized successfully!\")"
   ]
  },
  {
   "cell_type": "markdown",
   "id": "af19f72e",
   "metadata": {},
   "source": [
    "## 3. Load Meshes\n",
    "\n",
    "Load your source and target meshes. You can modify the paths below to use your own meshes."
   ]
  },
  {
   "cell_type": "code",
   "execution_count": 30,
   "id": "6bc0c293",
   "metadata": {},
   "outputs": [
    {
     "name": "stdout",
     "output_type": "stream",
     "text": [
      "Source mesh: 11799 vertices, 23334 faces\n",
      "Target mesh: 9041 vertices, 17850 faces\n"
     ]
    }
   ],
   "source": [
    "# Mesh paths - modify these to use your own meshes\n",
    "source_mesh_path = \"meshes/oakink_beaker_decomp.obj\"\n",
    "target_mesh_path = \"meshes/oakink_bottle_decomp.obj\"\n",
    "\n",
    "source_mesh = MeshContainer().load_from_file(source_mesh_path)\n",
    "target_mesh = MeshContainer().load_from_file(target_mesh_path)\n",
    "\n",
    "\n",
    "print(f\"Source mesh: {len(source_mesh.vert)} vertices, {len(source_mesh.face)} faces\")\n",
    "print(f\"Target mesh: {len(target_mesh.vert)} vertices, {len(target_mesh.face)} faces\")"
   ]
  },
  {
   "cell_type": "markdown",
   "id": "4c6403ea",
   "metadata": {},
   "source": [
    "## 4. Preview Meshes\n",
    "\n",
    "Let's visualize the meshes before analysis to get familiar with their structure."
   ]
  },
  {
   "cell_type": "code",
   "execution_count": 31,
   "id": "9ebd9cf0",
   "metadata": {},
   "outputs": [],
   "source": [
    "if 0:\n",
    "    # Preview the meshes side by side\n",
    "    d = mp.subplot(source_mesh.vert[:,0:3], source_mesh.face, s=[2, 2, 0])\n",
    "    mp.subplot(target_mesh.vert[:,0:3], target_mesh.face, s=[2, 2, 1], data=d)\n",
    "    print(\"Left: Source mesh | Right: Target mesh\")"
   ]
  },
  {
   "cell_type": "markdown",
   "id": "354bd759",
   "metadata": {},
   "source": [
    "## 5. Configure Analysis Parameters\n",
    "\n",
    "Set up the parameters for the similarity analysis."
   ]
  },
  {
   "cell_type": "code",
   "execution_count": 32,
   "id": "35136983",
   "metadata": {},
   "outputs": [
    {
     "name": "stdout",
     "output_type": "stream",
     "text": [
      "\n",
      "Analysis Configuration:\n",
      "- Text prompt: 'a beaker'\n",
      "- Number of views: 10\n"
     ]
    }
   ],
   "source": [
    "# Analysis parameters\n",
    "prompt = \"a beaker\"  # Text prompt for feature extraction\n",
    "num_views = 10  # Number of views for rendering (reduced for faster computation)\n",
    "\n",
    "print(f\"\\nAnalysis Configuration:\")\n",
    "print(f\"- Text prompt: '{prompt}'\")\n",
    "print(f\"- Number of views: {num_views}\")\n",
    "\n",
    "\n",
    "p1 = [ 0.00886742, -0.04124315, -0.01754964]\n",
    "p2 = [-0.01223545,  0.0363251 ,  0.00719686]\n",
    "p3 = [-0.01694481,  0.03424783, -0.01735426]\n",
    "p4 = [-0.01596961,  0.03464369, -0.02075735]\n",
    "source_points_3d = np.array([p1, p2, p3, p4])"
   ]
  },
  {
   "cell_type": "markdown",
   "id": "71a170a4-1177-43fa-ade4-f98c9d372ada",
   "metadata": {},
   "source": [
    "### To clean up meshes"
   ]
  },
  {
   "cell_type": "code",
   "execution_count": 33,
   "id": "39690e47-00b5-4bb3-8767-f8cbc3b7696f",
   "metadata": {},
   "outputs": [],
   "source": [
    "if 0:\n",
    "    from utils import clean_obj_file_format_only\n",
    "    source_fixed = clean_obj_file_format_only(\"meshes/oakink_beaker_decomp2.obj\")\n",
    "    target_fixed = clean_obj_file_format_only(\"meshes/oakink_mug_decomp2.obj\")\n",
    "    \n",
    "    # Now load the new target mesh with your MeshContainer\n",
    "    source_mesh_path = \"meshes/oakink_beaker_decomp2_fixed.obj\"\n",
    "    target_mesh_path = \"meshes/oakink_mug_decomp2_fixed.obj\""
   ]
  },
  {
   "cell_type": "markdown",
   "id": "a19acdd5-f2a8-4275-8aab-470696bc852f",
   "metadata": {},
   "source": [
    "### To clean up GPU cache"
   ]
  },
  {
   "cell_type": "code",
   "execution_count": 34,
   "id": "ce4be742-bdd9-4697-9013-57105d5b9fcc",
   "metadata": {},
   "outputs": [],
   "source": [
    "if 0:\n",
    "    import torch\n",
    "    \n",
    "    # Clear cache of unused memory\n",
    "    torch.cuda.empty_cache()\n",
    "    \n",
    "    # Optionally, collect unused memory from Python garbage collector\n",
    "    import gc\n",
    "    gc.collect()\n",
    "    torch.cuda.empty_cache()"
   ]
  },
  {
   "cell_type": "markdown",
   "id": "77549fde-a90f-40d8-8d5c-17e139e737b3",
   "metadata": {},
   "source": [
    "# Explore Re-mesh Open3D"
   ]
  },
  {
   "cell_type": "code",
   "execution_count": 35,
   "id": "920d3766-d453-4157-a45a-c17e7aac7aa1",
   "metadata": {},
   "outputs": [],
   "source": [
    "if 0:\n",
    "    mesh = o3d.io.read_triangle_mesh(target_mesh_path)\n",
    "    \n",
    "    # Create a point cloud with a uniform density using Poisson disk sampling\n",
    "    # The number_of_points parameter controls the point density.\n",
    "    # A higher number will result in a finer, more detailed final mesh.\n",
    "    pcd = mesh.sample_points_poisson_disk(number_of_points=10000)\n",
    "    \n",
    "    # Optional: Visualize the point cloud to inspect the distribution\n",
    "    o3d.visualization.draw_geometries([pcd])\n",
    "    \n",
    "    # The alpha parameter controls the size of the spheres used to create the mesh.\n",
    "    # A smaller alpha will produce a tighter mesh that follows the point cloud more closely,\n",
    "    # while a larger alpha will create a coarser mesh.\n",
    "    alpha = 0.005\n",
    "    new_mesh = o3d.geometry.TriangleMesh.create_from_point_cloud_alpha_shape(pcd, alpha)\n",
    "    \n",
    "    # Compute vertex normals for correct lighting and shading\n",
    "    new_mesh.compute_vertex_normals()\n",
    "    \n",
    "    # Visualize the new mesh\n",
    "    o3d.visualization.draw_geometries([new_mesh], mesh_show_back_face=True)\n",
    "    \n",
    "    # Optional: Save the new mesh\n",
    "    # o3d.io.write_triangle_mesh(\"uniform_remeshed.ply\", new_mesh)\n",
    "\n",
    "    # Convert mesh to LineSet (wireframe representation)\n",
    "    wireframe = o3d.geometry.LineSet.create_from_triangle_mesh(new_mesh)\n",
    "    wireframe.paint_uniform_color([0, 0, 0])  # black wireframe\n",
    "    \n",
    "    # Show wireframe\n",
    "    o3d.visualization.draw_geometries([wireframe])\n",
    "    \n"
   ]
  },
  {
   "cell_type": "markdown",
   "id": "2c7dd12e",
   "metadata": {},
   "source": [
    "## 6. Run Similarity Analysis\n",
    "\n",
    "This is the main computation step. It will:\n",
    "1. Extract features for both meshes using multiple camera views\n",
    "2. Compute similarity between the specified source point and all target vertices\n",
    "3. Generate the visualization\n",
    "\n",
    "⚠️ **Note**: This step can take several minutes depending on mesh complexity and number of views."
   ]
  },
  {
   "cell_type": "code",
   "execution_count": 36,
   "id": "c63dd916",
   "metadata": {},
   "outputs": [],
   "source": [
    "remesh = True\n",
    "\n",
    "if 0:\n",
    "    source_mesh_path = \"meshes/oakink_beaker_decomp2.obj\"\n",
    "    target_mesh_path = \"meshes/oakink_bottle_decomp2.obj\"\n",
    "    num_views = 10  # Number of views for rendering (reduced for faster computation)\n",
    "\n",
    "    if remesh: \n",
    "        from utils import remesh_mesh_pair\n",
    "        source_mesh_path, target_mesh_path = remesh_mesh_pair(\n",
    "            source_mesh_path,\n",
    "            target_mesh_path,\n",
    "            num_points=10000,\n",
    "            alpha=0.005\n",
    "        )\n",
    "\n",
    "    \n",
    "    source_mesh = MeshContainer().load_from_file(source_mesh_path)\n",
    "    target_mesh = MeshContainer().load_from_file(target_mesh_path)\n",
    "\n",
    "    \n",
    "    print(\"Source mesh vert:\", source_mesh.vert.shape)\n",
    "    print(\"Target mesh vert:\", target_mesh.vert.shape)\n",
    "    \n",
    "    # Run the complete analysis pipeline\n",
    "    similarity_colors, raw_similarities, source_point_idx, closest_distance = run_point_similarity_analysis(\n",
    "        source_mesh=source_mesh,\n",
    "        target_mesh=target_mesh,\n",
    "        source_point_3d=p1,\n",
    "        device=device,\n",
    "        pipe=pipe,\n",
    "        dino_model=dino_model,\n",
    "        prompt=prompt,\n",
    "        num_views=num_views\n",
    "    )\n",
    "    \n",
    "    print(\"\\n✅ Analysis complete!\")"
   ]
  },
  {
   "cell_type": "code",
   "execution_count": 37,
   "id": "e0c4c284-ebae-4006-8b8c-1a896f3b0d3e",
   "metadata": {},
   "outputs": [],
   "source": [
    "remesh = False\n",
    "\n",
    "if 0:\n",
    "    source_mesh_path = \"meshes/oakink_beaker_decomp2.obj\"\n",
    "    target_mesh_path = \"meshes/oakink_bottle_decomp2.obj\"\n",
    "    num_views = 10  # Number of views for rendering (reduced for faster computation)\n",
    "\n",
    "    if remesh: \n",
    "        from utils import remesh_mesh_pair\n",
    "        source_mesh_path, target_mesh_path = remesh_mesh_pair(\n",
    "            source_mesh_path,\n",
    "            target_mesh_path,\n",
    "            num_points=10000,\n",
    "            alpha=0.005\n",
    "        )\n",
    "\n",
    "    \n",
    "    source_mesh = MeshContainer().load_from_file(source_mesh_path)\n",
    "    target_mesh = MeshContainer().load_from_file(target_mesh_path)\n",
    "\n",
    "    \n",
    "    print(\"Source mesh vert:\", source_mesh.vert.shape)\n",
    "    print(\"Target mesh vert:\", target_mesh.vert.shape)\n",
    "    \n",
    "    # Run the complete analysis pipeline\n",
    "    similarity_colors, raw_similarities, source_point_idx, closest_distance = run_point_similarity_analysis(\n",
    "        source_mesh=source_mesh,\n",
    "        target_mesh=target_mesh,\n",
    "        source_point_3d=p1,\n",
    "        device=device,\n",
    "        pipe=pipe,\n",
    "        dino_model=dino_model,\n",
    "        prompt=prompt,\n",
    "        num_views=num_views\n",
    "    )\n",
    "    \n",
    "    print(\"\\n✅ Analysis complete!\")"
   ]
  },
  {
   "cell_type": "markdown",
   "id": "22229792-bcb8-4c15-a7f0-91cbbf35e9fd",
   "metadata": {},
   "source": [
    "# Multi point analysis"
   ]
  },
  {
   "cell_type": "code",
   "execution_count": 38,
   "id": "6da07c4d-c28d-4bcb-be20-1cd52561cc83",
   "metadata": {},
   "outputs": [],
   "source": [
    "remesh=True"
   ]
  },
  {
   "cell_type": "code",
   "execution_count": 43,
   "id": "5fb5a36e-0035-4f65-a4cc-3d4f03c272e5",
   "metadata": {},
   "outputs": [
    {
     "name": "stdout",
     "output_type": "stream",
     "text": [
      "\u001b[1;33m[Open3D WARNING] [CreateFromPointCloudAlphaShape] invalid tetra in TetraMesh\u001b[0;m\n",
      "\u001b[1;33m[Open3D WARNING] Write OBJ can not include triangle normals.\u001b[0;m\n",
      "\u001b[1;33m[Open3D WARNING] Write OBJ can not include triangle normals.\u001b[0;m\n",
      "✅ Re-mesh complete: meshes/oakink_beaker_decomp_remesh.obj, meshes/oakink_bottle_decomp_remesh.obj\n",
      "Source mesh: 9272 vertices, 18540 faces\n",
      "Target mesh: 9102 vertices, 18200 faces\n",
      "Finding correspondences for 4 source points...\n",
      "Closest vertices to input 3D points:\n",
      "  Point 0: [ 0.00886742 -0.04124315 -0.01754964] -> Vertex 4953 (distance: 0.0043)\n",
      "  Point 1: [-0.01223545  0.0363251   0.00719686] -> Vertex 3431 (distance: 0.0046)\n",
      "  Point 2: [-0.01694481  0.03424783 -0.01735426] -> Vertex 6583 (distance: 0.0048)\n",
      "  Point 3: [-0.01596961  0.03464369 -0.02075735] -> Vertex 1957 (distance: 0.0046)\n",
      "Computing features for source mesh...\n"
     ]
    },
    {
     "name": "stderr",
     "output_type": "stream",
     "text": [
      "100%|██████████████████████████████| 20/20 [00:41<00:00,  2.07s/it]\n"
     ]
    },
    {
     "name": "stdout",
     "output_type": "stream",
     "text": [
      "Number of missing features:  385 . Copied features from nearest vertices.\n",
      "Time taken in mins:  0.7364301204681396\n",
      "Computing features for target mesh...\n"
     ]
    },
    {
     "name": "stderr",
     "output_type": "stream",
     "text": [
      "100%|██████████████████████████████| 20/20 [00:41<00:00,  2.07s/it]"
     ]
    },
    {
     "name": "stdout",
     "output_type": "stream",
     "text": [
      "Number of missing features:  1477 . Copied features from nearest vertices.\n",
      "Time taken in mins:  0.7339926560719808\n",
      "  Point 0: Source vertex 4953 -> Target vertex 4678 (similarity: 0.6211)\n",
      "  Point 1: Source vertex 3431 -> Target vertex 4185 (similarity: 0.8721)\n",
      "  Point 2: Source vertex 6583 -> Target vertex 6003 (similarity: 0.8623)\n",
      "  Point 3: Source vertex 1957 -> Target vertex 8036 (similarity: 0.8696)\n",
      "🎨 Visualizing 4 correspondences:\n",
      "  Correspondence 1: Source vertex 4953 ↔ Target vertex 4678 (similarity: 0.6211)\n",
      "    Color: RGB(1.00, 0.20, 0.20)\n",
      "  Correspondence 2: Source vertex 3431 ↔ Target vertex 4185 (similarity: 0.8721)\n",
      "    Color: RGB(0.45, 0.90, 0.00)\n",
      "  Correspondence 3: Source vertex 6583 ↔ Target vertex 6003 (similarity: 0.8623)\n",
      "    Color: RGB(0.20, 1.00, 1.00)\n",
      "  Correspondence 4: Source vertex 1957 ↔ Target vertex 8036 (similarity: 0.8696)\n",
      "    Color: RGB(0.45, 0.00, 0.90)\n",
      "🎯 Creating combined mesh + 3D marker visualization...\n"
     ]
    },
    {
     "name": "stderr",
     "output_type": "stream",
     "text": [
      "\n"
     ]
    },
    {
     "data": {
      "application/vnd.jupyter.widget-view+json": {
       "model_id": "2ea35202ae914c03a83d0e12b9b685a3",
       "version_major": 2,
       "version_minor": 0
      },
      "text/plain": [
       "HBox(children=(Output(), Output()))"
      ]
     },
     "metadata": {},
     "output_type": "display_data"
    },
    {
     "data": {
      "application/vnd.jupyter.widget-view+json": {
       "model_id": "b71e393b5fe1411aaa003aadd8b308fd",
       "version_major": 2,
       "version_minor": 0
      },
      "text/plain": [
       "HBox(children=(Output(), Output()))"
      ]
     },
     "metadata": {},
     "output_type": "display_data"
    },
    {
     "name": "stdout",
     "output_type": "stream",
     "text": [
      "✅ Combined mesh + 3D octahedron markers visualization created!\n",
      "   Each correspondence pair has matching colored 3D octahedrons\n",
      "   Source mesh: 9272 vertices + 24 marker vertices\n",
      "   Target mesh: 9102 vertices + 24 marker vertices\n",
      "\n",
      "📊 Correspondence Statistics:\n",
      "  - Average similarity: 0.8063\n",
      "  - Min similarity: 0.6211\n",
      "  - Max similarity: 0.8721\n",
      "  - Total correspondences: 4\n",
      "\n",
      " target_points_3d = \n",
      " [[ 0.0098654  -0.0277576  -0.0362463 ]\n",
      " [-0.00548135  0.0309205  -0.0145579 ]\n",
      " [-0.0130016   0.0285901  -0.0313782 ]\n",
      " [-0.00885868  0.0301881  -0.0336474 ]]\n",
      "\n",
      "✅ Analysis complete!\n"
     ]
    }
   ],
   "source": [
    "## NOTE: no difference between oakink_beaker_decomp2.obj and oakink_beaker_decomp.obj\n",
    "source_mesh_path = \"meshes/oakink_beaker_decomp.obj\"\n",
    "target_mesh_path = \"meshes/oakink_bottle_decomp.obj\"\n",
    "\n",
    "if remesh: \n",
    "    from utils import remesh_mesh_pair\n",
    "    source_mesh_path, target_mesh_path = remesh_mesh_pair(\n",
    "        source_mesh_path,\n",
    "        target_mesh_path,\n",
    "        num_points=10000,\n",
    "        alpha=0.005\n",
    "    )\n",
    "source_mesh = MeshContainer().load_from_file(source_mesh_path)\n",
    "target_mesh = MeshContainer().load_from_file(target_mesh_path)\n",
    "\n",
    "print(f\"Source mesh: {len(source_mesh.vert)} vertices, {len(source_mesh.face)} faces\")\n",
    "print(f\"Target mesh: {len(target_mesh.vert)} vertices, {len(target_mesh.face)} faces\")\n",
    "\n",
    "# Analysis parameters\n",
    "num_views = 20  # Number of views for rendering (reduced for faster computation)\n",
    "\n",
    "source_prompt = \"beaker\"\n",
    "target_prompt = \"bottle\"\n",
    "# Run the complete analysis pipeline\n",
    "similarity_colors, raw_similarities, source_point_idx, closest_distance, target_points_3d = run_multi_point_correspondence_analysis(\n",
    "    source_mesh=source_mesh,\n",
    "    target_mesh=target_mesh,\n",
    "    source_points_3d=source_points_3d,\n",
    "    device=device,\n",
    "    pipe=pipe,\n",
    "    dino_model=dino_model,\n",
    "    source_prompt=source_prompt,\n",
    "    target_prompt=target_prompt,\n",
    "    num_views=num_views\n",
    ")\n",
    "\n",
    "print(\"\\n target_points_3d = \\n\", target_points_3d)\n",
    "print(\"\\n✅ Analysis complete!\")"
   ]
  },
  {
   "cell_type": "markdown",
   "id": "4f17bbb8-1d1e-47fe-9d0a-b6860838b73f",
   "metadata": {},
   "source": [
    "# A few more examples"
   ]
  },
  {
   "cell_type": "code",
   "execution_count": 44,
   "id": "5361247f-0cfc-47a1-ab96-abe26713b1ea",
   "metadata": {
    "scrolled": true
   },
   "outputs": [
    {
     "name": "stdout",
     "output_type": "stream",
     "text": [
      "\u001b[1;33m[Open3D WARNING] [CreateFromPointCloudAlphaShape] invalid tetra in TetraMesh\u001b[0;m\n",
      "\u001b[1;33m[Open3D WARNING] [CreateFromPointCloudAlphaShape] invalid tetra in TetraMesh\u001b[0;m\n",
      "\u001b[1;33m[Open3D WARNING] [CreateFromPointCloudAlphaShape] invalid tetra in TetraMesh\u001b[0;m\n",
      "\u001b[1;33m[Open3D WARNING] [CreateFromPointCloudAlphaShape] invalid tetra in TetraMesh\u001b[0;m\n",
      "\u001b[1;33m[Open3D WARNING] [CreateFromPointCloudAlphaShape] invalid tetra in TetraMesh\u001b[0;m\n",
      "\u001b[1;33m[Open3D WARNING] Write OBJ can not include triangle normals.\u001b[0;m\n",
      "\u001b[1;33m[Open3D WARNING] Write OBJ can not include triangle normals.\u001b[0;m\n",
      "✅ Re-mesh complete: meshes/oakink_beaker_decomp2_remesh.obj, meshes/oakink_mug_decomp2_remesh.obj\n",
      "Finding correspondences for 4 source points...\n",
      "Closest vertices to input 3D points:\n",
      "  Point 0: [ 0.00886742 -0.04124315 -0.01754964] -> Vertex 7273 (distance: 0.0044)\n",
      "  Point 1: [-0.01223545  0.0363251   0.00719686] -> Vertex 5159 (distance: 0.0044)\n",
      "  Point 2: [-0.01694481  0.03424783 -0.01735426] -> Vertex 5997 (distance: 0.0045)\n",
      "  Point 3: [-0.01596961  0.03464369 -0.02075735] -> Vertex 6743 (distance: 0.0046)\n",
      "Computing features for source mesh...\n"
     ]
    },
    {
     "name": "stderr",
     "output_type": "stream",
     "text": [
      "100%|██████████████████████████████| 20/20 [00:41<00:00,  2.08s/it]\n"
     ]
    },
    {
     "name": "stdout",
     "output_type": "stream",
     "text": [
      "Number of missing features:  393 . Copied features from nearest vertices.\n",
      "Time taken in mins:  0.7419969995816549\n",
      "Computing features for target mesh...\n"
     ]
    },
    {
     "name": "stderr",
     "output_type": "stream",
     "text": [
      "100%|██████████████████████████████| 20/20 [00:38<00:00,  1.90s/it]"
     ]
    },
    {
     "name": "stdout",
     "output_type": "stream",
     "text": [
      "Number of missing features:  652 . Copied features from nearest vertices.\n",
      "Time taken in mins:  0.6763251145680745\n",
      "  Point 0: Source vertex 7273 -> Target vertex 2553 (similarity: 0.7065)\n",
      "  Point 1: Source vertex 5159 -> Target vertex 249 (similarity: 0.7480)\n",
      "  Point 2: Source vertex 5997 -> Target vertex 893 (similarity: 0.7520)\n",
      "  Point 3: Source vertex 6743 -> Target vertex 893 (similarity: 0.7344)\n",
      "🎨 Visualizing 4 correspondences:\n",
      "  Correspondence 1: Source vertex 7273 ↔ Target vertex 2553 (similarity: 0.7065)\n",
      "    Color: RGB(1.00, 0.20, 0.20)\n",
      "  Correspondence 2: Source vertex 5159 ↔ Target vertex 249 (similarity: 0.7480)\n",
      "    Color: RGB(0.45, 0.90, 0.00)\n",
      "  Correspondence 3: Source vertex 5997 ↔ Target vertex 893 (similarity: 0.7520)\n",
      "    Color: RGB(0.20, 1.00, 1.00)\n",
      "  Correspondence 4: Source vertex 6743 ↔ Target vertex 893 (similarity: 0.7344)\n",
      "    Color: RGB(0.45, 0.00, 0.90)\n",
      "🎯 Creating combined mesh + 3D marker visualization...\n"
     ]
    },
    {
     "name": "stderr",
     "output_type": "stream",
     "text": [
      "\n"
     ]
    },
    {
     "data": {
      "application/vnd.jupyter.widget-view+json": {
       "model_id": "ecc8b205a9bf41d0b3320d7dd0b038da",
       "version_major": 2,
       "version_minor": 0
      },
      "text/plain": [
       "HBox(children=(Output(), Output()))"
      ]
     },
     "metadata": {},
     "output_type": "display_data"
    },
    {
     "data": {
      "application/vnd.jupyter.widget-view+json": {
       "model_id": "f37731d2730746e097fed8e936ac034f",
       "version_major": 2,
       "version_minor": 0
      },
      "text/plain": [
       "HBox(children=(Output(), Output()))"
      ]
     },
     "metadata": {},
     "output_type": "display_data"
    },
    {
     "name": "stdout",
     "output_type": "stream",
     "text": [
      "✅ Combined mesh + 3D octahedron markers visualization created!\n",
      "   Each correspondence pair has matching colored 3D octahedrons\n",
      "   Source mesh: 9267 vertices + 24 marker vertices\n",
      "   Target mesh: 8072 vertices + 24 marker vertices\n",
      "\n",
      "📊 Correspondence Statistics:\n",
      "  - Average similarity: 0.7352\n",
      "  - Min similarity: 0.7065\n",
      "  - Max similarity: 0.7520\n",
      "  - Total correspondences: 4\n",
      "\n",
      " target_points_3d = \n",
      " [[ 0.00550012 -0.0579513   0.0121382 ]\n",
      " [-0.0198648   0.0201408   0.00062377]\n",
      " [-0.0269952   0.015379   -0.00771644]\n",
      " [-0.0269952   0.015379   -0.00771644]]\n",
      "\n",
      "✅ Analysis complete!\n"
     ]
    }
   ],
   "source": [
    "num_views = 20\n",
    "\n",
    "\n",
    "source_mesh_path = \"meshes/oakink_beaker_decomp2.obj\"\n",
    "target_mesh_path = \"meshes/oakink_mug_decomp2.obj\"\n",
    "if remesh: \n",
    "    from utils import remesh_mesh_pair\n",
    "    source_mesh_path, target_mesh_path = remesh_mesh_pair(\n",
    "        source_mesh_path,\n",
    "        target_mesh_path,\n",
    "        num_points=10000,\n",
    "        alpha=0.005\n",
    "    )\n",
    "source_mesh = MeshContainer().load_from_file(source_mesh_path)\n",
    "target_mesh = MeshContainer().load_from_file(target_mesh_path)\n",
    "\n",
    "source_prompt = \"beaker\"\n",
    "target_prompt = \"mug\"\n",
    "# Run the complete analysis pipeline\n",
    "similarity_colors, raw_similarities, source_point_idx, closest_distance, target_points_3d = run_multi_point_correspondence_analysis(\n",
    "    source_mesh=source_mesh,\n",
    "    target_mesh=target_mesh,\n",
    "    source_points_3d=source_points_3d,\n",
    "    device=device,\n",
    "    pipe=pipe,\n",
    "    dino_model=dino_model,\n",
    "    source_prompt=source_prompt,\n",
    "    target_prompt=target_prompt,\n",
    "    num_views=num_views\n",
    ")\n",
    "\n",
    "\n",
    "print(\"\\n target_points_3d = \\n\", target_points_3d)\n",
    "print(\"\\n✅ Analysis complete!\")"
   ]
  },
  {
   "cell_type": "code",
   "execution_count": 46,
   "id": "dd635f8a-5c10-4006-9f36-d1e2ce15a558",
   "metadata": {
    "scrolled": true
   },
   "outputs": [
    {
     "name": "stdout",
     "output_type": "stream",
     "text": [
      "\u001b[1;33m[Open3D WARNING] [CreateFromPointCloudAlphaShape] invalid tetra in TetraMesh\u001b[0;m\n",
      "\u001b[1;33m[Open3D WARNING] [CreateFromPointCloudAlphaShape] invalid tetra in TetraMesh\u001b[0;m\n",
      "\u001b[1;33m[Open3D WARNING] [CreateFromPointCloudAlphaShape] invalid tetra in TetraMesh\u001b[0;m\n",
      "\u001b[1;33m[Open3D WARNING] [CreateFromPointCloudAlphaShape] invalid tetra in TetraMesh\u001b[0;m\n",
      "\u001b[1;33m[Open3D WARNING] [CreateFromPointCloudAlphaShape] invalid tetra in TetraMesh\u001b[0;m\n",
      "\u001b[1;33m[Open3D WARNING] [CreateFromPointCloudAlphaShape] invalid tetra in TetraMesh\u001b[0;m\n",
      "\u001b[1;33m[Open3D WARNING] [CreateFromPointCloudAlphaShape] invalid tetra in TetraMesh\u001b[0;m\n",
      "\u001b[1;33m[Open3D WARNING] [CreateFromPointCloudAlphaShape] invalid tetra in TetraMesh\u001b[0;m\n",
      "\u001b[1;33m[Open3D WARNING] [CreateFromPointCloudAlphaShape] invalid tetra in TetraMesh\u001b[0;m\n",
      "\u001b[1;33m[Open3D WARNING] [CreateFromPointCloudAlphaShape] invalid tetra in TetraMesh\u001b[0;m\n",
      "\u001b[1;33m[Open3D WARNING] [CreateFromPointCloudAlphaShape] invalid tetra in TetraMesh\u001b[0;m\n",
      "\u001b[1;33m[Open3D WARNING] [CreateFromPointCloudAlphaShape] invalid tetra in TetraMesh\u001b[0;m\n",
      "\u001b[1;33m[Open3D WARNING] [CreateFromPointCloudAlphaShape] invalid tetra in TetraMesh\u001b[0;m\n",
      "\u001b[1;33m[Open3D WARNING] [CreateFromPointCloudAlphaShape] invalid tetra in TetraMesh\u001b[0;m\n",
      "\u001b[1;33m[Open3D WARNING] [CreateFromPointCloudAlphaShape] invalid tetra in TetraMesh\u001b[0;m\n",
      "\u001b[1;33m[Open3D WARNING] [CreateFromPointCloudAlphaShape] invalid tetra in TetraMesh\u001b[0;m\n",
      "\u001b[1;33m[Open3D WARNING] [CreateFromPointCloudAlphaShape] invalid tetra in TetraMesh\u001b[0;m\n",
      "\u001b[1;33m[Open3D WARNING] [CreateFromPointCloudAlphaShape] invalid tetra in TetraMesh\u001b[0;m\n",
      "\u001b[1;33m[Open3D WARNING] [CreateFromPointCloudAlphaShape] invalid tetra in TetraMesh\u001b[0;m\n",
      "\u001b[1;33m[Open3D WARNING] [CreateFromPointCloudAlphaShape] invalid tetra in TetraMesh\u001b[0;m\n",
      "\u001b[1;33m[Open3D WARNING] [CreateFromPointCloudAlphaShape] invalid tetra in TetraMesh\u001b[0;m\n",
      "\u001b[1;33m[Open3D WARNING] [CreateFromPointCloudAlphaShape] invalid tetra in TetraMesh\u001b[0;m\n",
      "\u001b[1;33m[Open3D WARNING] [CreateFromPointCloudAlphaShape] invalid tetra in TetraMesh\u001b[0;m\n",
      "\u001b[1;33m[Open3D WARNING] [CreateFromPointCloudAlphaShape] invalid tetra in TetraMesh\u001b[0;m\n",
      "\u001b[1;33m[Open3D WARNING] [CreateFromPointCloudAlphaShape] invalid tetra in TetraMesh\u001b[0;m\n",
      "\u001b[1;33m[Open3D WARNING] [CreateFromPointCloudAlphaShape] invalid tetra in TetraMesh\u001b[0;m\n",
      "\u001b[1;33m[Open3D WARNING] [CreateFromPointCloudAlphaShape] invalid tetra in TetraMesh\u001b[0;m\n",
      "\u001b[1;33m[Open3D WARNING] [CreateFromPointCloudAlphaShape] invalid tetra in TetraMesh\u001b[0;m\n",
      "\u001b[1;33m[Open3D WARNING] [CreateFromPointCloudAlphaShape] invalid tetra in TetraMesh\u001b[0;m\n",
      "\u001b[1;33m[Open3D WARNING] [CreateFromPointCloudAlphaShape] invalid tetra in TetraMesh\u001b[0;m\n",
      "\u001b[1;33m[Open3D WARNING] [CreateFromPointCloudAlphaShape] invalid tetra in TetraMesh\u001b[0;m\n",
      "\u001b[1;33m[Open3D WARNING] [CreateFromPointCloudAlphaShape] invalid tetra in TetraMesh\u001b[0;m\n",
      "\u001b[1;33m[Open3D WARNING] [CreateFromPointCloudAlphaShape] invalid tetra in TetraMesh\u001b[0;m\n",
      "\u001b[1;33m[Open3D WARNING] [CreateFromPointCloudAlphaShape] invalid tetra in TetraMesh\u001b[0;m\n",
      "\u001b[1;33m[Open3D WARNING] [CreateFromPointCloudAlphaShape] invalid tetra in TetraMesh\u001b[0;m\n",
      "\u001b[1;33m[Open3D WARNING] [CreateFromPointCloudAlphaShape] invalid tetra in TetraMesh\u001b[0;m\n",
      "\u001b[1;33m[Open3D WARNING] [CreateFromPointCloudAlphaShape] invalid tetra in TetraMesh\u001b[0;m\n",
      "\u001b[1;33m[Open3D WARNING] [CreateFromPointCloudAlphaShape] invalid tetra in TetraMesh\u001b[0;m\n",
      "\u001b[1;33m[Open3D WARNING] [CreateFromPointCloudAlphaShape] invalid tetra in TetraMesh\u001b[0;m\n",
      "\u001b[1;33m[Open3D WARNING] [CreateFromPointCloudAlphaShape] invalid tetra in TetraMesh\u001b[0;m\n",
      "\u001b[1;33m[Open3D WARNING] [CreateFromPointCloudAlphaShape] invalid tetra in TetraMesh\u001b[0;m\n",
      "\u001b[1;33m[Open3D WARNING] [CreateFromPointCloudAlphaShape] invalid tetra in TetraMesh\u001b[0;m\n",
      "\u001b[1;33m[Open3D WARNING] [CreateFromPointCloudAlphaShape] invalid tetra in TetraMesh\u001b[0;m\n",
      "\u001b[1;33m[Open3D WARNING] [CreateFromPointCloudAlphaShape] invalid tetra in TetraMesh\u001b[0;m\n",
      "\u001b[1;33m[Open3D WARNING] [CreateFromPointCloudAlphaShape] invalid tetra in TetraMesh\u001b[0;m\n",
      "\u001b[1;33m[Open3D WARNING] [CreateFromPointCloudAlphaShape] invalid tetra in TetraMesh\u001b[0;m\n",
      "\u001b[1;33m[Open3D WARNING] [CreateFromPointCloudAlphaShape] invalid tetra in TetraMesh\u001b[0;m\n",
      "\u001b[1;33m[Open3D WARNING] [CreateFromPointCloudAlphaShape] invalid tetra in TetraMesh\u001b[0;m\n",
      "\u001b[1;33m[Open3D WARNING] [CreateFromPointCloudAlphaShape] invalid tetra in TetraMesh\u001b[0;m\n",
      "\u001b[1;33m[Open3D WARNING] [CreateFromPointCloudAlphaShape] invalid tetra in TetraMesh\u001b[0;m\n",
      "\u001b[1;33m[Open3D WARNING] [CreateFromPointCloudAlphaShape] invalid tetra in TetraMesh\u001b[0;m\n",
      "\u001b[1;33m[Open3D WARNING] [CreateFromPointCloudAlphaShape] invalid tetra in TetraMesh\u001b[0;m\n",
      "\u001b[1;33m[Open3D WARNING] [CreateFromPointCloudAlphaShape] invalid tetra in TetraMesh\u001b[0;m\n",
      "\u001b[1;33m[Open3D WARNING] [CreateFromPointCloudAlphaShape] invalid tetra in TetraMesh\u001b[0;m\n",
      "\u001b[1;33m[Open3D WARNING] [CreateFromPointCloudAlphaShape] invalid tetra in TetraMesh\u001b[0;m\n",
      "\u001b[1;33m[Open3D WARNING] [CreateFromPointCloudAlphaShape] invalid tetra in TetraMesh\u001b[0;m\n",
      "\u001b[1;33m[Open3D WARNING] [CreateFromPointCloudAlphaShape] invalid tetra in TetraMesh\u001b[0;m\n",
      "\u001b[1;33m[Open3D WARNING] [CreateFromPointCloudAlphaShape] invalid tetra in TetraMesh\u001b[0;m\n",
      "\u001b[1;33m[Open3D WARNING] [CreateFromPointCloudAlphaShape] invalid tetra in TetraMesh\u001b[0;m\n",
      "\u001b[1;33m[Open3D WARNING] [CreateFromPointCloudAlphaShape] invalid tetra in TetraMesh\u001b[0;m\n",
      "\u001b[1;33m[Open3D WARNING] [CreateFromPointCloudAlphaShape] invalid tetra in TetraMesh\u001b[0;m\n",
      "\u001b[1;33m[Open3D WARNING] [CreateFromPointCloudAlphaShape] invalid tetra in TetraMesh\u001b[0;m\n",
      "\u001b[1;33m[Open3D WARNING] [CreateFromPointCloudAlphaShape] invalid tetra in TetraMesh\u001b[0;m\n",
      "\u001b[1;33m[Open3D WARNING] [CreateFromPointCloudAlphaShape] invalid tetra in TetraMesh\u001b[0;m\n",
      "\u001b[1;33m[Open3D WARNING] [CreateFromPointCloudAlphaShape] invalid tetra in TetraMesh\u001b[0;m\n",
      "\u001b[1;33m[Open3D WARNING] [CreateFromPointCloudAlphaShape] invalid tetra in TetraMesh\u001b[0;m\n",
      "\u001b[1;33m[Open3D WARNING] [CreateFromPointCloudAlphaShape] invalid tetra in TetraMesh\u001b[0;m\n",
      "\u001b[1;33m[Open3D WARNING] [CreateFromPointCloudAlphaShape] invalid tetra in TetraMesh\u001b[0;m\n",
      "\u001b[1;33m[Open3D WARNING] [CreateFromPointCloudAlphaShape] invalid tetra in TetraMesh\u001b[0;m\n",
      "\u001b[1;33m[Open3D WARNING] [CreateFromPointCloudAlphaShape] invalid tetra in TetraMesh\u001b[0;m\n",
      "\u001b[1;33m[Open3D WARNING] [CreateFromPointCloudAlphaShape] invalid tetra in TetraMesh\u001b[0;m\n",
      "\u001b[1;33m[Open3D WARNING] [CreateFromPointCloudAlphaShape] invalid tetra in TetraMesh\u001b[0;m\n",
      "\u001b[1;33m[Open3D WARNING] [CreateFromPointCloudAlphaShape] invalid tetra in TetraMesh\u001b[0;m\n",
      "\u001b[1;33m[Open3D WARNING] [CreateFromPointCloudAlphaShape] invalid tetra in TetraMesh\u001b[0;m\n",
      "\u001b[1;33m[Open3D WARNING] [CreateFromPointCloudAlphaShape] invalid tetra in TetraMesh\u001b[0;m\n",
      "\u001b[1;33m[Open3D WARNING] [CreateFromPointCloudAlphaShape] invalid tetra in TetraMesh\u001b[0;m\n",
      "\u001b[1;33m[Open3D WARNING] [CreateFromPointCloudAlphaShape] invalid tetra in TetraMesh\u001b[0;m\n",
      "\u001b[1;33m[Open3D WARNING] [CreateFromPointCloudAlphaShape] invalid tetra in TetraMesh\u001b[0;m\n",
      "\u001b[1;33m[Open3D WARNING] [CreateFromPointCloudAlphaShape] invalid tetra in TetraMesh\u001b[0;m\n",
      "\u001b[1;33m[Open3D WARNING] [CreateFromPointCloudAlphaShape] invalid tetra in TetraMesh\u001b[0;m\n",
      "\u001b[1;33m[Open3D WARNING] [CreateFromPointCloudAlphaShape] invalid tetra in TetraMesh\u001b[0;m\n",
      "\u001b[1;33m[Open3D WARNING] [CreateFromPointCloudAlphaShape] invalid tetra in TetraMesh\u001b[0;m\n",
      "\u001b[1;33m[Open3D WARNING] [CreateFromPointCloudAlphaShape] invalid tetra in TetraMesh\u001b[0;m\n",
      "\u001b[1;33m[Open3D WARNING] [CreateFromPointCloudAlphaShape] invalid tetra in TetraMesh\u001b[0;m\n",
      "\u001b[1;33m[Open3D WARNING] [CreateFromPointCloudAlphaShape] invalid tetra in TetraMesh\u001b[0;m\n",
      "\u001b[1;33m[Open3D WARNING] [CreateFromPointCloudAlphaShape] invalid tetra in TetraMesh\u001b[0;m\n",
      "\u001b[1;33m[Open3D WARNING] [CreateFromPointCloudAlphaShape] invalid tetra in TetraMesh\u001b[0;m\n",
      "\u001b[1;33m[Open3D WARNING] [CreateFromPointCloudAlphaShape] invalid tetra in TetraMesh\u001b[0;m\n",
      "\u001b[1;33m[Open3D WARNING] [CreateFromPointCloudAlphaShape] invalid tetra in TetraMesh\u001b[0;m\n",
      "\u001b[1;33m[Open3D WARNING] [CreateFromPointCloudAlphaShape] invalid tetra in TetraMesh\u001b[0;m\n",
      "\u001b[1;33m[Open3D WARNING] [CreateFromPointCloudAlphaShape] invalid tetra in TetraMesh\u001b[0;m\n",
      "\u001b[1;33m[Open3D WARNING] [CreateFromPointCloudAlphaShape] invalid tetra in TetraMesh\u001b[0;m\n",
      "\u001b[1;33m[Open3D WARNING] [CreateFromPointCloudAlphaShape] invalid tetra in TetraMesh\u001b[0;m\n",
      "\u001b[1;33m[Open3D WARNING] [CreateFromPointCloudAlphaShape] invalid tetra in TetraMesh\u001b[0;m\n",
      "\u001b[1;33m[Open3D WARNING] [CreateFromPointCloudAlphaShape] invalid tetra in TetraMesh\u001b[0;m\n",
      "\u001b[1;33m[Open3D WARNING] [CreateFromPointCloudAlphaShape] invalid tetra in TetraMesh\u001b[0;m\n",
      "\u001b[1;33m[Open3D WARNING] [CreateFromPointCloudAlphaShape] invalid tetra in TetraMesh\u001b[0;m\n",
      "\u001b[1;33m[Open3D WARNING] [CreateFromPointCloudAlphaShape] invalid tetra in TetraMesh\u001b[0;m\n",
      "\u001b[1;33m[Open3D WARNING] [CreateFromPointCloudAlphaShape] invalid tetra in TetraMesh\u001b[0;m\n",
      "\u001b[1;33m[Open3D WARNING] [CreateFromPointCloudAlphaShape] invalid tetra in TetraMesh\u001b[0;m\n",
      "\u001b[1;33m[Open3D WARNING] [CreateFromPointCloudAlphaShape] invalid tetra in TetraMesh\u001b[0;m\n",
      "\u001b[1;33m[Open3D WARNING] [CreateFromPointCloudAlphaShape] invalid tetra in TetraMesh\u001b[0;m\n",
      "\u001b[1;33m[Open3D WARNING] [CreateFromPointCloudAlphaShape] invalid tetra in TetraMesh\u001b[0;m\n",
      "\u001b[1;33m[Open3D WARNING] [CreateFromPointCloudAlphaShape] invalid tetra in TetraMesh\u001b[0;m\n",
      "\u001b[1;33m[Open3D WARNING] [CreateFromPointCloudAlphaShape] invalid tetra in TetraMesh\u001b[0;m\n",
      "\u001b[1;33m[Open3D WARNING] [CreateFromPointCloudAlphaShape] invalid tetra in TetraMesh\u001b[0;m\n",
      "\u001b[1;33m[Open3D WARNING] [CreateFromPointCloudAlphaShape] invalid tetra in TetraMesh\u001b[0;m\n",
      "\u001b[1;33m[Open3D WARNING] [CreateFromPointCloudAlphaShape] invalid tetra in TetraMesh\u001b[0;m\n",
      "\u001b[1;33m[Open3D WARNING] [CreateFromPointCloudAlphaShape] invalid tetra in TetraMesh\u001b[0;m\n",
      "\u001b[1;33m[Open3D WARNING] [CreateFromPointCloudAlphaShape] invalid tetra in TetraMesh\u001b[0;m\n",
      "\u001b[1;33m[Open3D WARNING] [CreateFromPointCloudAlphaShape] invalid tetra in TetraMesh\u001b[0;m\n",
      "\u001b[1;33m[Open3D WARNING] [CreateFromPointCloudAlphaShape] invalid tetra in TetraMesh\u001b[0;m\n",
      "\u001b[1;33m[Open3D WARNING] [CreateFromPointCloudAlphaShape] invalid tetra in TetraMesh\u001b[0;m\n",
      "\u001b[1;33m[Open3D WARNING] [CreateFromPointCloudAlphaShape] invalid tetra in TetraMesh\u001b[0;m\n",
      "\u001b[1;33m[Open3D WARNING] [CreateFromPointCloudAlphaShape] invalid tetra in TetraMesh\u001b[0;m\n",
      "\u001b[1;33m[Open3D WARNING] [CreateFromPointCloudAlphaShape] invalid tetra in TetraMesh\u001b[0;m\n",
      "\u001b[1;33m[Open3D WARNING] [CreateFromPointCloudAlphaShape] invalid tetra in TetraMesh\u001b[0;m\n",
      "\u001b[1;33m[Open3D WARNING] [CreateFromPointCloudAlphaShape] invalid tetra in TetraMesh\u001b[0;m\n",
      "\u001b[1;33m[Open3D WARNING] [CreateFromPointCloudAlphaShape] invalid tetra in TetraMesh\u001b[0;m\n",
      "\u001b[1;33m[Open3D WARNING] [CreateFromPointCloudAlphaShape] invalid tetra in TetraMesh\u001b[0;m\n",
      "\u001b[1;33m[Open3D WARNING] [CreateFromPointCloudAlphaShape] invalid tetra in TetraMesh\u001b[0;m\n",
      "\u001b[1;33m[Open3D WARNING] [CreateFromPointCloudAlphaShape] invalid tetra in TetraMesh\u001b[0;m\n",
      "\u001b[1;33m[Open3D WARNING] [CreateFromPointCloudAlphaShape] invalid tetra in TetraMesh\u001b[0;m\n",
      "\u001b[1;33m[Open3D WARNING] [CreateFromPointCloudAlphaShape] invalid tetra in TetraMesh\u001b[0;m\n",
      "\u001b[1;33m[Open3D WARNING] [CreateFromPointCloudAlphaShape] invalid tetra in TetraMesh\u001b[0;m\n",
      "\u001b[1;33m[Open3D WARNING] [CreateFromPointCloudAlphaShape] invalid tetra in TetraMesh\u001b[0;m\n",
      "\u001b[1;33m[Open3D WARNING] [CreateFromPointCloudAlphaShape] invalid tetra in TetraMesh\u001b[0;m\n",
      "\u001b[1;33m[Open3D WARNING] [CreateFromPointCloudAlphaShape] invalid tetra in TetraMesh\u001b[0;m\n",
      "\u001b[1;33m[Open3D WARNING] [CreateFromPointCloudAlphaShape] invalid tetra in TetraMesh\u001b[0;m\n",
      "\u001b[1;33m[Open3D WARNING] [CreateFromPointCloudAlphaShape] invalid tetra in TetraMesh\u001b[0;m\n",
      "\u001b[1;33m[Open3D WARNING] [CreateFromPointCloudAlphaShape] invalid tetra in TetraMesh\u001b[0;m\n",
      "\u001b[1;33m[Open3D WARNING] [CreateFromPointCloudAlphaShape] invalid tetra in TetraMesh\u001b[0;m\n",
      "\u001b[1;33m[Open3D WARNING] [CreateFromPointCloudAlphaShape] invalid tetra in TetraMesh\u001b[0;m\n",
      "\u001b[1;33m[Open3D WARNING] [CreateFromPointCloudAlphaShape] invalid tetra in TetraMesh\u001b[0;m\n",
      "\u001b[1;33m[Open3D WARNING] [CreateFromPointCloudAlphaShape] invalid tetra in TetraMesh\u001b[0;m\n",
      "\u001b[1;33m[Open3D WARNING] [CreateFromPointCloudAlphaShape] invalid tetra in TetraMesh\u001b[0;m\n",
      "\u001b[1;33m[Open3D WARNING] [CreateFromPointCloudAlphaShape] invalid tetra in TetraMesh\u001b[0;m\n",
      "\u001b[1;33m[Open3D WARNING] [CreateFromPointCloudAlphaShape] invalid tetra in TetraMesh\u001b[0;m\n",
      "\u001b[1;33m[Open3D WARNING] [CreateFromPointCloudAlphaShape] invalid tetra in TetraMesh\u001b[0;m\n",
      "\u001b[1;33m[Open3D WARNING] [CreateFromPointCloudAlphaShape] invalid tetra in TetraMesh\u001b[0;m\n",
      "\u001b[1;33m[Open3D WARNING] [CreateFromPointCloudAlphaShape] invalid tetra in TetraMesh\u001b[0;m\n",
      "\u001b[1;33m[Open3D WARNING] [CreateFromPointCloudAlphaShape] invalid tetra in TetraMesh\u001b[0;m\n",
      "\u001b[1;33m[Open3D WARNING] [CreateFromPointCloudAlphaShape] invalid tetra in TetraMesh\u001b[0;m\n",
      "\u001b[1;33m[Open3D WARNING] [CreateFromPointCloudAlphaShape] invalid tetra in TetraMesh\u001b[0;m\n",
      "\u001b[1;33m[Open3D WARNING] [CreateFromPointCloudAlphaShape] invalid tetra in TetraMesh\u001b[0;m\n",
      "\u001b[1;33m[Open3D WARNING] [CreateFromPointCloudAlphaShape] invalid tetra in TetraMesh\u001b[0;m\n",
      "\u001b[1;33m[Open3D WARNING] [CreateFromPointCloudAlphaShape] invalid tetra in TetraMesh\u001b[0;m\n",
      "\u001b[1;33m[Open3D WARNING] [CreateFromPointCloudAlphaShape] invalid tetra in TetraMesh\u001b[0;m\n",
      "\u001b[1;33m[Open3D WARNING] [CreateFromPointCloudAlphaShape] invalid tetra in TetraMesh\u001b[0;m\n",
      "\u001b[1;33m[Open3D WARNING] [CreateFromPointCloudAlphaShape] invalid tetra in TetraMesh\u001b[0;m\n",
      "\u001b[1;33m[Open3D WARNING] [CreateFromPointCloudAlphaShape] invalid tetra in TetraMesh\u001b[0;m\n",
      "\u001b[1;33m[Open3D WARNING] [CreateFromPointCloudAlphaShape] invalid tetra in TetraMesh\u001b[0;m\n",
      "\u001b[1;33m[Open3D WARNING] [CreateFromPointCloudAlphaShape] invalid tetra in TetraMesh\u001b[0;m\n",
      "\u001b[1;33m[Open3D WARNING] [CreateFromPointCloudAlphaShape] invalid tetra in TetraMesh\u001b[0;m\n",
      "\u001b[1;33m[Open3D WARNING] [CreateFromPointCloudAlphaShape] invalid tetra in TetraMesh\u001b[0;m\n",
      "\u001b[1;33m[Open3D WARNING] [CreateFromPointCloudAlphaShape] invalid tetra in TetraMesh\u001b[0;m\n",
      "\u001b[1;33m[Open3D WARNING] [CreateFromPointCloudAlphaShape] invalid tetra in TetraMesh\u001b[0;m\n",
      "\u001b[1;33m[Open3D WARNING] [CreateFromPointCloudAlphaShape] invalid tetra in TetraMesh\u001b[0;m\n",
      "\u001b[1;33m[Open3D WARNING] [CreateFromPointCloudAlphaShape] invalid tetra in TetraMesh\u001b[0;m\n",
      "\u001b[1;33m[Open3D WARNING] [CreateFromPointCloudAlphaShape] invalid tetra in TetraMesh\u001b[0;m\n",
      "\u001b[1;33m[Open3D WARNING] [CreateFromPointCloudAlphaShape] invalid tetra in TetraMesh\u001b[0;m\n",
      "\u001b[1;33m[Open3D WARNING] [CreateFromPointCloudAlphaShape] invalid tetra in TetraMesh\u001b[0;m\n",
      "\u001b[1;33m[Open3D WARNING] [CreateFromPointCloudAlphaShape] invalid tetra in TetraMesh\u001b[0;m\n",
      "\u001b[1;33m[Open3D WARNING] [CreateFromPointCloudAlphaShape] invalid tetra in TetraMesh\u001b[0;m\n",
      "\u001b[1;33m[Open3D WARNING] [CreateFromPointCloudAlphaShape] invalid tetra in TetraMesh\u001b[0;m\n",
      "\u001b[1;33m[Open3D WARNING] [CreateFromPointCloudAlphaShape] invalid tetra in TetraMesh\u001b[0;m\n",
      "\u001b[1;33m[Open3D WARNING] [CreateFromPointCloudAlphaShape] invalid tetra in TetraMesh\u001b[0;m\n",
      "\u001b[1;33m[Open3D WARNING] [CreateFromPointCloudAlphaShape] invalid tetra in TetraMesh\u001b[0;m\n",
      "\u001b[1;33m[Open3D WARNING] [CreateFromPointCloudAlphaShape] invalid tetra in TetraMesh\u001b[0;m\n",
      "\u001b[1;33m[Open3D WARNING] [CreateFromPointCloudAlphaShape] invalid tetra in TetraMesh\u001b[0;m\n",
      "\u001b[1;33m[Open3D WARNING] [CreateFromPointCloudAlphaShape] invalid tetra in TetraMesh\u001b[0;m\n",
      "\u001b[1;33m[Open3D WARNING] [CreateFromPointCloudAlphaShape] invalid tetra in TetraMesh\u001b[0;m\n",
      "\u001b[1;33m[Open3D WARNING] [CreateFromPointCloudAlphaShape] invalid tetra in TetraMesh\u001b[0;m\n",
      "\u001b[1;33m[Open3D WARNING] [CreateFromPointCloudAlphaShape] invalid tetra in TetraMesh\u001b[0;m\n",
      "\u001b[1;33m[Open3D WARNING] [CreateFromPointCloudAlphaShape] invalid tetra in TetraMesh\u001b[0;m\n",
      "\u001b[1;33m[Open3D WARNING] [CreateFromPointCloudAlphaShape] invalid tetra in TetraMesh\u001b[0;m\n",
      "\u001b[1;33m[Open3D WARNING] [CreateFromPointCloudAlphaShape] invalid tetra in TetraMesh\u001b[0;m\n",
      "\u001b[1;33m[Open3D WARNING] [CreateFromPointCloudAlphaShape] invalid tetra in TetraMesh\u001b[0;m\n",
      "\u001b[1;33m[Open3D WARNING] [CreateFromPointCloudAlphaShape] invalid tetra in TetraMesh\u001b[0;m\n",
      "\u001b[1;33m[Open3D WARNING] [CreateFromPointCloudAlphaShape] invalid tetra in TetraMesh\u001b[0;m\n",
      "\u001b[1;33m[Open3D WARNING] [CreateFromPointCloudAlphaShape] invalid tetra in TetraMesh\u001b[0;m\n",
      "\u001b[1;33m[Open3D WARNING] [CreateFromPointCloudAlphaShape] invalid tetra in TetraMesh\u001b[0;m\n",
      "\u001b[1;33m[Open3D WARNING] [CreateFromPointCloudAlphaShape] invalid tetra in TetraMesh\u001b[0;m\n",
      "\u001b[1;33m[Open3D WARNING] [CreateFromPointCloudAlphaShape] invalid tetra in TetraMesh\u001b[0;m\n",
      "\u001b[1;33m[Open3D WARNING] [CreateFromPointCloudAlphaShape] invalid tetra in TetraMesh\u001b[0;m\n",
      "\u001b[1;33m[Open3D WARNING] [CreateFromPointCloudAlphaShape] invalid tetra in TetraMesh\u001b[0;m\n",
      "\u001b[1;33m[Open3D WARNING] [CreateFromPointCloudAlphaShape] invalid tetra in TetraMesh\u001b[0;m\n",
      "\u001b[1;33m[Open3D WARNING] [CreateFromPointCloudAlphaShape] invalid tetra in TetraMesh\u001b[0;m\n",
      "\u001b[1;33m[Open3D WARNING] [CreateFromPointCloudAlphaShape] invalid tetra in TetraMesh\u001b[0;m\n",
      "\u001b[1;33m[Open3D WARNING] [CreateFromPointCloudAlphaShape] invalid tetra in TetraMesh\u001b[0;m\n",
      "\u001b[1;33m[Open3D WARNING] [CreateFromPointCloudAlphaShape] invalid tetra in TetraMesh\u001b[0;m\n",
      "\u001b[1;33m[Open3D WARNING] [CreateFromPointCloudAlphaShape] invalid tetra in TetraMesh\u001b[0;m\n",
      "\u001b[1;33m[Open3D WARNING] [CreateFromPointCloudAlphaShape] invalid tetra in TetraMesh\u001b[0;m\n",
      "\u001b[1;33m[Open3D WARNING] [CreateFromPointCloudAlphaShape] invalid tetra in TetraMesh\u001b[0;m\n",
      "\u001b[1;33m[Open3D WARNING] [CreateFromPointCloudAlphaShape] invalid tetra in TetraMesh\u001b[0;m\n",
      "\u001b[1;33m[Open3D WARNING] [CreateFromPointCloudAlphaShape] invalid tetra in TetraMesh\u001b[0;m\n",
      "\u001b[1;33m[Open3D WARNING] [CreateFromPointCloudAlphaShape] invalid tetra in TetraMesh\u001b[0;m\n",
      "\u001b[1;33m[Open3D WARNING] [CreateFromPointCloudAlphaShape] invalid tetra in TetraMesh\u001b[0;m\n",
      "\u001b[1;33m[Open3D WARNING] [CreateFromPointCloudAlphaShape] invalid tetra in TetraMesh\u001b[0;m\n",
      "\u001b[1;33m[Open3D WARNING] [CreateFromPointCloudAlphaShape] invalid tetra in TetraMesh\u001b[0;m\n",
      "\u001b[1;33m[Open3D WARNING] [CreateFromPointCloudAlphaShape] invalid tetra in TetraMesh\u001b[0;m\n",
      "\u001b[1;33m[Open3D WARNING] [CreateFromPointCloudAlphaShape] invalid tetra in TetraMesh\u001b[0;m\n",
      "\u001b[1;33m[Open3D WARNING] [CreateFromPointCloudAlphaShape] invalid tetra in TetraMesh\u001b[0;m\n",
      "\u001b[1;33m[Open3D WARNING] [CreateFromPointCloudAlphaShape] invalid tetra in TetraMesh\u001b[0;m\n",
      "\u001b[1;33m[Open3D WARNING] [CreateFromPointCloudAlphaShape] invalid tetra in TetraMesh\u001b[0;m\n",
      "\u001b[1;33m[Open3D WARNING] [CreateFromPointCloudAlphaShape] invalid tetra in TetraMesh\u001b[0;m\n",
      "\u001b[1;33m[Open3D WARNING] [CreateFromPointCloudAlphaShape] invalid tetra in TetraMesh\u001b[0;m\n",
      "\u001b[1;33m[Open3D WARNING] [CreateFromPointCloudAlphaShape] invalid tetra in TetraMesh\u001b[0;m\n",
      "\u001b[1;33m[Open3D WARNING] [CreateFromPointCloudAlphaShape] invalid tetra in TetraMesh\u001b[0;m\n",
      "\u001b[1;33m[Open3D WARNING] [CreateFromPointCloudAlphaShape] invalid tetra in TetraMesh\u001b[0;m\n",
      "\u001b[1;33m[Open3D WARNING] [CreateFromPointCloudAlphaShape] invalid tetra in TetraMesh\u001b[0;m\n",
      "\u001b[1;33m[Open3D WARNING] [CreateFromPointCloudAlphaShape] invalid tetra in TetraMesh\u001b[0;m\n",
      "\u001b[1;33m[Open3D WARNING] [CreateFromPointCloudAlphaShape] invalid tetra in TetraMesh\u001b[0;m\n",
      "\u001b[1;33m[Open3D WARNING] [CreateFromPointCloudAlphaShape] invalid tetra in TetraMesh\u001b[0;m\n",
      "\u001b[1;33m[Open3D WARNING] [CreateFromPointCloudAlphaShape] invalid tetra in TetraMesh\u001b[0;m\n",
      "\u001b[1;33m[Open3D WARNING] [CreateFromPointCloudAlphaShape] invalid tetra in TetraMesh\u001b[0;m\n",
      "\u001b[1;33m[Open3D WARNING] [CreateFromPointCloudAlphaShape] invalid tetra in TetraMesh\u001b[0;m\n",
      "\u001b[1;33m[Open3D WARNING] [CreateFromPointCloudAlphaShape] invalid tetra in TetraMesh\u001b[0;m\n",
      "\u001b[1;33m[Open3D WARNING] [CreateFromPointCloudAlphaShape] invalid tetra in TetraMesh\u001b[0;m\n",
      "\u001b[1;33m[Open3D WARNING] [CreateFromPointCloudAlphaShape] invalid tetra in TetraMesh\u001b[0;m\n",
      "\u001b[1;33m[Open3D WARNING] [CreateFromPointCloudAlphaShape] invalid tetra in TetraMesh\u001b[0;m\n",
      "\u001b[1;33m[Open3D WARNING] [CreateFromPointCloudAlphaShape] invalid tetra in TetraMesh\u001b[0;m\n",
      "\u001b[1;33m[Open3D WARNING] [CreateFromPointCloudAlphaShape] invalid tetra in TetraMesh\u001b[0;m\n",
      "\u001b[1;33m[Open3D WARNING] [CreateFromPointCloudAlphaShape] invalid tetra in TetraMesh\u001b[0;m\n",
      "\u001b[1;33m[Open3D WARNING] [CreateFromPointCloudAlphaShape] invalid tetra in TetraMesh\u001b[0;m\n",
      "\u001b[1;33m[Open3D WARNING] [CreateFromPointCloudAlphaShape] invalid tetra in TetraMesh\u001b[0;m\n",
      "\u001b[1;33m[Open3D WARNING] [CreateFromPointCloudAlphaShape] invalid tetra in TetraMesh\u001b[0;m\n",
      "\u001b[1;33m[Open3D WARNING] [CreateFromPointCloudAlphaShape] invalid tetra in TetraMesh\u001b[0;m\n",
      "\u001b[1;33m[Open3D WARNING] [CreateFromPointCloudAlphaShape] invalid tetra in TetraMesh\u001b[0;m\n",
      "\u001b[1;33m[Open3D WARNING] [CreateFromPointCloudAlphaShape] invalid tetra in TetraMesh\u001b[0;m\n",
      "\u001b[1;33m[Open3D WARNING] [CreateFromPointCloudAlphaShape] invalid tetra in TetraMesh\u001b[0;m\n",
      "\u001b[1;33m[Open3D WARNING] [CreateFromPointCloudAlphaShape] invalid tetra in TetraMesh\u001b[0;m\n",
      "\u001b[1;33m[Open3D WARNING] [CreateFromPointCloudAlphaShape] invalid tetra in TetraMesh\u001b[0;m\n",
      "\u001b[1;33m[Open3D WARNING] [CreateFromPointCloudAlphaShape] invalid tetra in TetraMesh\u001b[0;m\n",
      "\u001b[1;33m[Open3D WARNING] [CreateFromPointCloudAlphaShape] invalid tetra in TetraMesh\u001b[0;m\n",
      "\u001b[1;33m[Open3D WARNING] [CreateFromPointCloudAlphaShape] invalid tetra in TetraMesh\u001b[0;m\n",
      "\u001b[1;33m[Open3D WARNING] [CreateFromPointCloudAlphaShape] invalid tetra in TetraMesh\u001b[0;m\n",
      "\u001b[1;33m[Open3D WARNING] [CreateFromPointCloudAlphaShape] invalid tetra in TetraMesh\u001b[0;m\n",
      "\u001b[1;33m[Open3D WARNING] [CreateFromPointCloudAlphaShape] invalid tetra in TetraMesh\u001b[0;m\n",
      "\u001b[1;33m[Open3D WARNING] [CreateFromPointCloudAlphaShape] invalid tetra in TetraMesh\u001b[0;m\n",
      "\u001b[1;33m[Open3D WARNING] [CreateFromPointCloudAlphaShape] invalid tetra in TetraMesh\u001b[0;m\n",
      "\u001b[1;33m[Open3D WARNING] [CreateFromPointCloudAlphaShape] invalid tetra in TetraMesh\u001b[0;m\n",
      "\u001b[1;33m[Open3D WARNING] [CreateFromPointCloudAlphaShape] invalid tetra in TetraMesh\u001b[0;m\n",
      "\u001b[1;33m[Open3D WARNING] [CreateFromPointCloudAlphaShape] invalid tetra in TetraMesh\u001b[0;m\n",
      "\u001b[1;33m[Open3D WARNING] [CreateFromPointCloudAlphaShape] invalid tetra in TetraMesh\u001b[0;m\n",
      "\u001b[1;33m[Open3D WARNING] [CreateFromPointCloudAlphaShape] invalid tetra in TetraMesh\u001b[0;m\n",
      "\u001b[1;33m[Open3D WARNING] [CreateFromPointCloudAlphaShape] invalid tetra in TetraMesh\u001b[0;m\n",
      "\u001b[1;33m[Open3D WARNING] [CreateFromPointCloudAlphaShape] invalid tetra in TetraMesh\u001b[0;m\n",
      "\u001b[1;33m[Open3D WARNING] [CreateFromPointCloudAlphaShape] invalid tetra in TetraMesh\u001b[0;m\n",
      "\u001b[1;33m[Open3D WARNING] [CreateFromPointCloudAlphaShape] invalid tetra in TetraMesh\u001b[0;m\n",
      "\u001b[1;33m[Open3D WARNING] [CreateFromPointCloudAlphaShape] invalid tetra in TetraMesh\u001b[0;m\n",
      "\u001b[1;33m[Open3D WARNING] [CreateFromPointCloudAlphaShape] invalid tetra in TetraMesh\u001b[0;m\n",
      "\u001b[1;33m[Open3D WARNING] [CreateFromPointCloudAlphaShape] invalid tetra in TetraMesh\u001b[0;m\n",
      "\u001b[1;33m[Open3D WARNING] [CreateFromPointCloudAlphaShape] invalid tetra in TetraMesh\u001b[0;m\n",
      "\u001b[1;33m[Open3D WARNING] [CreateFromPointCloudAlphaShape] invalid tetra in TetraMesh\u001b[0;m\n",
      "\u001b[1;33m[Open3D WARNING] [CreateFromPointCloudAlphaShape] invalid tetra in TetraMesh\u001b[0;m\n",
      "\u001b[1;33m[Open3D WARNING] [CreateFromPointCloudAlphaShape] invalid tetra in TetraMesh\u001b[0;m\n",
      "\u001b[1;33m[Open3D WARNING] [CreateFromPointCloudAlphaShape] invalid tetra in TetraMesh\u001b[0;m\n",
      "\u001b[1;33m[Open3D WARNING] [CreateFromPointCloudAlphaShape] invalid tetra in TetraMesh\u001b[0;m\n",
      "\u001b[1;33m[Open3D WARNING] [CreateFromPointCloudAlphaShape] invalid tetra in TetraMesh\u001b[0;m\n",
      "\u001b[1;33m[Open3D WARNING] [CreateFromPointCloudAlphaShape] invalid tetra in TetraMesh\u001b[0;m\n",
      "\u001b[1;33m[Open3D WARNING] [CreateFromPointCloudAlphaShape] invalid tetra in TetraMesh\u001b[0;m\n",
      "\u001b[1;33m[Open3D WARNING] [CreateFromPointCloudAlphaShape] invalid tetra in TetraMesh\u001b[0;m\n",
      "\u001b[1;33m[Open3D WARNING] [CreateFromPointCloudAlphaShape] invalid tetra in TetraMesh\u001b[0;m\n",
      "\u001b[1;33m[Open3D WARNING] [CreateFromPointCloudAlphaShape] invalid tetra in TetraMesh\u001b[0;m\n",
      "\u001b[1;33m[Open3D WARNING] [CreateFromPointCloudAlphaShape] invalid tetra in TetraMesh\u001b[0;m\n",
      "\u001b[1;33m[Open3D WARNING] [CreateFromPointCloudAlphaShape] invalid tetra in TetraMesh\u001b[0;m\n",
      "\u001b[1;33m[Open3D WARNING] [CreateFromPointCloudAlphaShape] invalid tetra in TetraMesh\u001b[0;m\n",
      "\u001b[1;33m[Open3D WARNING] [CreateFromPointCloudAlphaShape] invalid tetra in TetraMesh\u001b[0;m\n",
      "\u001b[1;33m[Open3D WARNING] [CreateFromPointCloudAlphaShape] invalid tetra in TetraMesh\u001b[0;m\n",
      "\u001b[1;33m[Open3D WARNING] [CreateFromPointCloudAlphaShape] invalid tetra in TetraMesh\u001b[0;m\n",
      "\u001b[1;33m[Open3D WARNING] [CreateFromPointCloudAlphaShape] invalid tetra in TetraMesh\u001b[0;m\n",
      "\u001b[1;33m[Open3D WARNING] [CreateFromPointCloudAlphaShape] invalid tetra in TetraMesh\u001b[0;m\n",
      "\u001b[1;33m[Open3D WARNING] [CreateFromPointCloudAlphaShape] invalid tetra in TetraMesh\u001b[0;m\n",
      "\u001b[1;33m[Open3D WARNING] [CreateFromPointCloudAlphaShape] invalid tetra in TetraMesh\u001b[0;m\n",
      "\u001b[1;33m[Open3D WARNING] [CreateFromPointCloudAlphaShape] invalid tetra in TetraMesh\u001b[0;m\n",
      "\u001b[1;33m[Open3D WARNING] [CreateFromPointCloudAlphaShape] invalid tetra in TetraMesh\u001b[0;m\n",
      "\u001b[1;33m[Open3D WARNING] [CreateFromPointCloudAlphaShape] invalid tetra in TetraMesh\u001b[0;m\n",
      "\u001b[1;33m[Open3D WARNING] [CreateFromPointCloudAlphaShape] invalid tetra in TetraMesh\u001b[0;m\n",
      "\u001b[1;33m[Open3D WARNING] [CreateFromPointCloudAlphaShape] invalid tetra in TetraMesh\u001b[0;m\n",
      "\u001b[1;33m[Open3D WARNING] [CreateFromPointCloudAlphaShape] invalid tetra in TetraMesh\u001b[0;m\n",
      "\u001b[1;33m[Open3D WARNING] [CreateFromPointCloudAlphaShape] invalid tetra in TetraMesh\u001b[0;m\n",
      "\u001b[1;33m[Open3D WARNING] [CreateFromPointCloudAlphaShape] invalid tetra in TetraMesh\u001b[0;m\n",
      "\u001b[1;33m[Open3D WARNING] [CreateFromPointCloudAlphaShape] invalid tetra in TetraMesh\u001b[0;m\n",
      "\u001b[1;33m[Open3D WARNING] [CreateFromPointCloudAlphaShape] invalid tetra in TetraMesh\u001b[0;m\n",
      "\u001b[1;33m[Open3D WARNING] [CreateFromPointCloudAlphaShape] invalid tetra in TetraMesh\u001b[0;m\n",
      "\u001b[1;33m[Open3D WARNING] [CreateFromPointCloudAlphaShape] invalid tetra in TetraMesh\u001b[0;m\n",
      "\u001b[1;33m[Open3D WARNING] [CreateFromPointCloudAlphaShape] invalid tetra in TetraMesh\u001b[0;m\n",
      "\u001b[1;33m[Open3D WARNING] [CreateFromPointCloudAlphaShape] invalid tetra in TetraMesh\u001b[0;m\n",
      "\u001b[1;33m[Open3D WARNING] [CreateFromPointCloudAlphaShape] invalid tetra in TetraMesh\u001b[0;m\n",
      "\u001b[1;33m[Open3D WARNING] [CreateFromPointCloudAlphaShape] invalid tetra in TetraMesh\u001b[0;m\n",
      "\u001b[1;33m[Open3D WARNING] [CreateFromPointCloudAlphaShape] invalid tetra in TetraMesh\u001b[0;m\n",
      "\u001b[1;33m[Open3D WARNING] [CreateFromPointCloudAlphaShape] invalid tetra in TetraMesh\u001b[0;m\n",
      "\u001b[1;33m[Open3D WARNING] [CreateFromPointCloudAlphaShape] invalid tetra in TetraMesh\u001b[0;m\n",
      "\u001b[1;33m[Open3D WARNING] [CreateFromPointCloudAlphaShape] invalid tetra in TetraMesh\u001b[0;m\n",
      "\u001b[1;33m[Open3D WARNING] [CreateFromPointCloudAlphaShape] invalid tetra in TetraMesh\u001b[0;m\n",
      "\u001b[1;33m[Open3D WARNING] [CreateFromPointCloudAlphaShape] invalid tetra in TetraMesh\u001b[0;m\n",
      "\u001b[1;33m[Open3D WARNING] [CreateFromPointCloudAlphaShape] invalid tetra in TetraMesh\u001b[0;m\n",
      "\u001b[1;33m[Open3D WARNING] [CreateFromPointCloudAlphaShape] invalid tetra in TetraMesh\u001b[0;m\n",
      "\u001b[1;33m[Open3D WARNING] [CreateFromPointCloudAlphaShape] invalid tetra in TetraMesh\u001b[0;m\n",
      "\u001b[1;33m[Open3D WARNING] [CreateFromPointCloudAlphaShape] invalid tetra in TetraMesh\u001b[0;m\n",
      "\u001b[1;33m[Open3D WARNING] [CreateFromPointCloudAlphaShape] invalid tetra in TetraMesh\u001b[0;m\n",
      "\u001b[1;33m[Open3D WARNING] [CreateFromPointCloudAlphaShape] invalid tetra in TetraMesh\u001b[0;m\n",
      "\u001b[1;33m[Open3D WARNING] [CreateFromPointCloudAlphaShape] invalid tetra in TetraMesh\u001b[0;m\n",
      "\u001b[1;33m[Open3D WARNING] [CreateFromPointCloudAlphaShape] invalid tetra in TetraMesh\u001b[0;m\n",
      "\u001b[1;33m[Open3D WARNING] [CreateFromPointCloudAlphaShape] invalid tetra in TetraMesh\u001b[0;m\n",
      "\u001b[1;33m[Open3D WARNING] [CreateFromPointCloudAlphaShape] invalid tetra in TetraMesh\u001b[0;m\n",
      "\u001b[1;33m[Open3D WARNING] [CreateFromPointCloudAlphaShape] invalid tetra in TetraMesh\u001b[0;m\n",
      "\u001b[1;33m[Open3D WARNING] [CreateFromPointCloudAlphaShape] invalid tetra in TetraMesh\u001b[0;m\n",
      "\u001b[1;33m[Open3D WARNING] [CreateFromPointCloudAlphaShape] invalid tetra in TetraMesh\u001b[0;m\n",
      "\u001b[1;33m[Open3D WARNING] [CreateFromPointCloudAlphaShape] invalid tetra in TetraMesh\u001b[0;m\n",
      "\u001b[1;33m[Open3D WARNING] [CreateFromPointCloudAlphaShape] invalid tetra in TetraMesh\u001b[0;m\n",
      "\u001b[1;33m[Open3D WARNING] [CreateFromPointCloudAlphaShape] invalid tetra in TetraMesh\u001b[0;m\n",
      "\u001b[1;33m[Open3D WARNING] [CreateFromPointCloudAlphaShape] invalid tetra in TetraMesh\u001b[0;m\n",
      "\u001b[1;33m[Open3D WARNING] [CreateFromPointCloudAlphaShape] invalid tetra in TetraMesh\u001b[0;m\n",
      "\u001b[1;33m[Open3D WARNING] [CreateFromPointCloudAlphaShape] invalid tetra in TetraMesh\u001b[0;m\n",
      "\u001b[1;33m[Open3D WARNING] [CreateFromPointCloudAlphaShape] invalid tetra in TetraMesh\u001b[0;m\n",
      "\u001b[1;33m[Open3D WARNING] [CreateFromPointCloudAlphaShape] invalid tetra in TetraMesh\u001b[0;m\n",
      "\u001b[1;33m[Open3D WARNING] [CreateFromPointCloudAlphaShape] invalid tetra in TetraMesh\u001b[0;m\n",
      "\u001b[1;33m[Open3D WARNING] [CreateFromPointCloudAlphaShape] invalid tetra in TetraMesh\u001b[0;m\n",
      "\u001b[1;33m[Open3D WARNING] [CreateFromPointCloudAlphaShape] invalid tetra in TetraMesh\u001b[0;m\n",
      "\u001b[1;33m[Open3D WARNING] [CreateFromPointCloudAlphaShape] invalid tetra in TetraMesh\u001b[0;m\n",
      "\u001b[1;33m[Open3D WARNING] [CreateFromPointCloudAlphaShape] invalid tetra in TetraMesh\u001b[0;m\n",
      "\u001b[1;33m[Open3D WARNING] [CreateFromPointCloudAlphaShape] invalid tetra in TetraMesh\u001b[0;m\n",
      "\u001b[1;33m[Open3D WARNING] [CreateFromPointCloudAlphaShape] invalid tetra in TetraMesh\u001b[0;m\n",
      "\u001b[1;33m[Open3D WARNING] [CreateFromPointCloudAlphaShape] invalid tetra in TetraMesh\u001b[0;m\n",
      "\u001b[1;33m[Open3D WARNING] [CreateFromPointCloudAlphaShape] invalid tetra in TetraMesh\u001b[0;m\n",
      "\u001b[1;33m[Open3D WARNING] [CreateFromPointCloudAlphaShape] invalid tetra in TetraMesh\u001b[0;m\n",
      "\u001b[1;33m[Open3D WARNING] [CreateFromPointCloudAlphaShape] invalid tetra in TetraMesh\u001b[0;m\n",
      "\u001b[1;33m[Open3D WARNING] [CreateFromPointCloudAlphaShape] invalid tetra in TetraMesh\u001b[0;m\n",
      "\u001b[1;33m[Open3D WARNING] [CreateFromPointCloudAlphaShape] invalid tetra in TetraMesh\u001b[0;m\n",
      "\u001b[1;33m[Open3D WARNING] [CreateFromPointCloudAlphaShape] invalid tetra in TetraMesh\u001b[0;m\n",
      "\u001b[1;33m[Open3D WARNING] [CreateFromPointCloudAlphaShape] invalid tetra in TetraMesh\u001b[0;m\n",
      "\u001b[1;33m[Open3D WARNING] [CreateFromPointCloudAlphaShape] invalid tetra in TetraMesh\u001b[0;m\n",
      "\u001b[1;33m[Open3D WARNING] [CreateFromPointCloudAlphaShape] invalid tetra in TetraMesh\u001b[0;m\n",
      "\u001b[1;33m[Open3D WARNING] [CreateFromPointCloudAlphaShape] invalid tetra in TetraMesh\u001b[0;m\n",
      "\u001b[1;33m[Open3D WARNING] [CreateFromPointCloudAlphaShape] invalid tetra in TetraMesh\u001b[0;m\n",
      "\u001b[1;33m[Open3D WARNING] [CreateFromPointCloudAlphaShape] invalid tetra in TetraMesh\u001b[0;m\n",
      "\u001b[1;33m[Open3D WARNING] [CreateFromPointCloudAlphaShape] invalid tetra in TetraMesh\u001b[0;m\n",
      "\u001b[1;33m[Open3D WARNING] [CreateFromPointCloudAlphaShape] invalid tetra in TetraMesh\u001b[0;m\n",
      "\u001b[1;33m[Open3D WARNING] [CreateFromPointCloudAlphaShape] invalid tetra in TetraMesh\u001b[0;m\n",
      "\u001b[1;33m[Open3D WARNING] [CreateFromPointCloudAlphaShape] invalid tetra in TetraMesh\u001b[0;m\n",
      "\u001b[1;33m[Open3D WARNING] [CreateFromPointCloudAlphaShape] invalid tetra in TetraMesh\u001b[0;m\n",
      "\u001b[1;33m[Open3D WARNING] [CreateFromPointCloudAlphaShape] invalid tetra in TetraMesh\u001b[0;m\n",
      "\u001b[1;33m[Open3D WARNING] [CreateFromPointCloudAlphaShape] invalid tetra in TetraMesh\u001b[0;m\n",
      "\u001b[1;33m[Open3D WARNING] [CreateFromPointCloudAlphaShape] invalid tetra in TetraMesh\u001b[0;m\n",
      "\u001b[1;33m[Open3D WARNING] [CreateFromPointCloudAlphaShape] invalid tetra in TetraMesh\u001b[0;m\n",
      "\u001b[1;33m[Open3D WARNING] [CreateFromPointCloudAlphaShape] invalid tetra in TetraMesh\u001b[0;m\n",
      "\u001b[1;33m[Open3D WARNING] [CreateFromPointCloudAlphaShape] invalid tetra in TetraMesh\u001b[0;m\n",
      "\u001b[1;33m[Open3D WARNING] [CreateFromPointCloudAlphaShape] invalid tetra in TetraMesh\u001b[0;m\n",
      "\u001b[1;33m[Open3D WARNING] [CreateFromPointCloudAlphaShape] invalid tetra in TetraMesh\u001b[0;m\n",
      "\u001b[1;33m[Open3D WARNING] [CreateFromPointCloudAlphaShape] invalid tetra in TetraMesh\u001b[0;m\n",
      "\u001b[1;33m[Open3D WARNING] [CreateFromPointCloudAlphaShape] invalid tetra in TetraMesh\u001b[0;m\n",
      "\u001b[1;33m[Open3D WARNING] [CreateFromPointCloudAlphaShape] invalid tetra in TetraMesh\u001b[0;m\n",
      "\u001b[1;33m[Open3D WARNING] [CreateFromPointCloudAlphaShape] invalid tetra in TetraMesh\u001b[0;m\n",
      "\u001b[1;33m[Open3D WARNING] [CreateFromPointCloudAlphaShape] invalid tetra in TetraMesh\u001b[0;m\n",
      "\u001b[1;33m[Open3D WARNING] [CreateFromPointCloudAlphaShape] invalid tetra in TetraMesh\u001b[0;m\n",
      "\u001b[1;33m[Open3D WARNING] [CreateFromPointCloudAlphaShape] invalid tetra in TetraMesh\u001b[0;m\n",
      "\u001b[1;33m[Open3D WARNING] [CreateFromPointCloudAlphaShape] invalid tetra in TetraMesh\u001b[0;m\n",
      "\u001b[1;33m[Open3D WARNING] [CreateFromPointCloudAlphaShape] invalid tetra in TetraMesh\u001b[0;m\n",
      "\u001b[1;33m[Open3D WARNING] [CreateFromPointCloudAlphaShape] invalid tetra in TetraMesh\u001b[0;m\n",
      "\u001b[1;33m[Open3D WARNING] [CreateFromPointCloudAlphaShape] invalid tetra in TetraMesh\u001b[0;m\n",
      "\u001b[1;33m[Open3D WARNING] [CreateFromPointCloudAlphaShape] invalid tetra in TetraMesh\u001b[0;m\n",
      "\u001b[1;33m[Open3D WARNING] [CreateFromPointCloudAlphaShape] invalid tetra in TetraMesh\u001b[0;m\n",
      "\u001b[1;33m[Open3D WARNING] [CreateFromPointCloudAlphaShape] invalid tetra in TetraMesh\u001b[0;m\n",
      "\u001b[1;33m[Open3D WARNING] [CreateFromPointCloudAlphaShape] invalid tetra in TetraMesh\u001b[0;m\n",
      "\u001b[1;33m[Open3D WARNING] [CreateFromPointCloudAlphaShape] invalid tetra in TetraMesh\u001b[0;m\n",
      "\u001b[1;33m[Open3D WARNING] [CreateFromPointCloudAlphaShape] invalid tetra in TetraMesh\u001b[0;m\n",
      "\u001b[1;33m[Open3D WARNING] [CreateFromPointCloudAlphaShape] invalid tetra in TetraMesh\u001b[0;m\n",
      "\u001b[1;33m[Open3D WARNING] [CreateFromPointCloudAlphaShape] invalid tetra in TetraMesh\u001b[0;m\n",
      "\u001b[1;33m[Open3D WARNING] [CreateFromPointCloudAlphaShape] invalid tetra in TetraMesh\u001b[0;m\n",
      "\u001b[1;33m[Open3D WARNING] [CreateFromPointCloudAlphaShape] invalid tetra in TetraMesh\u001b[0;m\n",
      "\u001b[1;33m[Open3D WARNING] [CreateFromPointCloudAlphaShape] invalid tetra in TetraMesh\u001b[0;m\n",
      "\u001b[1;33m[Open3D WARNING] [CreateFromPointCloudAlphaShape] invalid tetra in TetraMesh\u001b[0;m\n",
      "\u001b[1;33m[Open3D WARNING] [CreateFromPointCloudAlphaShape] invalid tetra in TetraMesh\u001b[0;m\n",
      "\u001b[1;33m[Open3D WARNING] [CreateFromPointCloudAlphaShape] invalid tetra in TetraMesh\u001b[0;m\n",
      "\u001b[1;33m[Open3D WARNING] [CreateFromPointCloudAlphaShape] invalid tetra in TetraMesh\u001b[0;m\n",
      "\u001b[1;33m[Open3D WARNING] [CreateFromPointCloudAlphaShape] invalid tetra in TetraMesh\u001b[0;m\n",
      "\u001b[1;33m[Open3D WARNING] [CreateFromPointCloudAlphaShape] invalid tetra in TetraMesh\u001b[0;m\n",
      "\u001b[1;33m[Open3D WARNING] [CreateFromPointCloudAlphaShape] invalid tetra in TetraMesh\u001b[0;m\n",
      "\u001b[1;33m[Open3D WARNING] [CreateFromPointCloudAlphaShape] invalid tetra in TetraMesh\u001b[0;m\n",
      "\u001b[1;33m[Open3D WARNING] [CreateFromPointCloudAlphaShape] invalid tetra in TetraMesh\u001b[0;m\n",
      "\u001b[1;33m[Open3D WARNING] [CreateFromPointCloudAlphaShape] invalid tetra in TetraMesh\u001b[0;m\n",
      "\u001b[1;33m[Open3D WARNING] [CreateFromPointCloudAlphaShape] invalid tetra in TetraMesh\u001b[0;m\n",
      "\u001b[1;33m[Open3D WARNING] [CreateFromPointCloudAlphaShape] invalid tetra in TetraMesh\u001b[0;m\n",
      "\u001b[1;33m[Open3D WARNING] [CreateFromPointCloudAlphaShape] invalid tetra in TetraMesh\u001b[0;m\n",
      "\u001b[1;33m[Open3D WARNING] [CreateFromPointCloudAlphaShape] invalid tetra in TetraMesh\u001b[0;m\n",
      "\u001b[1;33m[Open3D WARNING] [CreateFromPointCloudAlphaShape] invalid tetra in TetraMesh\u001b[0;m\n",
      "\u001b[1;33m[Open3D WARNING] [CreateFromPointCloudAlphaShape] invalid tetra in TetraMesh\u001b[0;m\n",
      "\u001b[1;33m[Open3D WARNING] [CreateFromPointCloudAlphaShape] invalid tetra in TetraMesh\u001b[0;m\n",
      "\u001b[1;33m[Open3D WARNING] [CreateFromPointCloudAlphaShape] invalid tetra in TetraMesh\u001b[0;m\n",
      "\u001b[1;33m[Open3D WARNING] [CreateFromPointCloudAlphaShape] invalid tetra in TetraMesh\u001b[0;m\n",
      "\u001b[1;33m[Open3D WARNING] [CreateFromPointCloudAlphaShape] invalid tetra in TetraMesh\u001b[0;m\n",
      "\u001b[1;33m[Open3D WARNING] [CreateFromPointCloudAlphaShape] invalid tetra in TetraMesh\u001b[0;m\n",
      "\u001b[1;33m[Open3D WARNING] [CreateFromPointCloudAlphaShape] invalid tetra in TetraMesh\u001b[0;m\n",
      "\u001b[1;33m[Open3D WARNING] [CreateFromPointCloudAlphaShape] invalid tetra in TetraMesh\u001b[0;m\n",
      "\u001b[1;33m[Open3D WARNING] [CreateFromPointCloudAlphaShape] invalid tetra in TetraMesh\u001b[0;m\n",
      "\u001b[1;33m[Open3D WARNING] [CreateFromPointCloudAlphaShape] invalid tetra in TetraMesh\u001b[0;m\n",
      "\u001b[1;33m[Open3D WARNING] [CreateFromPointCloudAlphaShape] invalid tetra in TetraMesh\u001b[0;m\n",
      "\u001b[1;33m[Open3D WARNING] [CreateFromPointCloudAlphaShape] invalid tetra in TetraMesh\u001b[0;m\n",
      "\u001b[1;33m[Open3D WARNING] [CreateFromPointCloudAlphaShape] invalid tetra in TetraMesh\u001b[0;m\n",
      "\u001b[1;33m[Open3D WARNING] [CreateFromPointCloudAlphaShape] invalid tetra in TetraMesh\u001b[0;m\n",
      "\u001b[1;33m[Open3D WARNING] [CreateFromPointCloudAlphaShape] invalid tetra in TetraMesh\u001b[0;m\n",
      "\u001b[1;33m[Open3D WARNING] [CreateFromPointCloudAlphaShape] invalid tetra in TetraMesh\u001b[0;m\n",
      "\u001b[1;33m[Open3D WARNING] [CreateFromPointCloudAlphaShape] invalid tetra in TetraMesh\u001b[0;m\n",
      "\u001b[1;33m[Open3D WARNING] [CreateFromPointCloudAlphaShape] invalid tetra in TetraMesh\u001b[0;m\n",
      "\u001b[1;33m[Open3D WARNING] [CreateFromPointCloudAlphaShape] invalid tetra in TetraMesh\u001b[0;m\n",
      "\u001b[1;33m[Open3D WARNING] [CreateFromPointCloudAlphaShape] invalid tetra in TetraMesh\u001b[0;m\n",
      "\u001b[1;33m[Open3D WARNING] [CreateFromPointCloudAlphaShape] invalid tetra in TetraMesh\u001b[0;m\n",
      "\u001b[1;33m[Open3D WARNING] [CreateFromPointCloudAlphaShape] invalid tetra in TetraMesh\u001b[0;m\n",
      "\u001b[1;33m[Open3D WARNING] [CreateFromPointCloudAlphaShape] invalid tetra in TetraMesh\u001b[0;m\n",
      "\u001b[1;33m[Open3D WARNING] [CreateFromPointCloudAlphaShape] invalid tetra in TetraMesh\u001b[0;m\n",
      "\u001b[1;33m[Open3D WARNING] [CreateFromPointCloudAlphaShape] invalid tetra in TetraMesh\u001b[0;m\n",
      "\u001b[1;33m[Open3D WARNING] [CreateFromPointCloudAlphaShape] invalid tetra in TetraMesh\u001b[0;m\n",
      "\u001b[1;33m[Open3D WARNING] [CreateFromPointCloudAlphaShape] invalid tetra in TetraMesh\u001b[0;m\n",
      "\u001b[1;33m[Open3D WARNING] [CreateFromPointCloudAlphaShape] invalid tetra in TetraMesh\u001b[0;m\n",
      "\u001b[1;33m[Open3D WARNING] [CreateFromPointCloudAlphaShape] invalid tetra in TetraMesh\u001b[0;m\n",
      "\u001b[1;33m[Open3D WARNING] [CreateFromPointCloudAlphaShape] invalid tetra in TetraMesh\u001b[0;m\n",
      "\u001b[1;33m[Open3D WARNING] [CreateFromPointCloudAlphaShape] invalid tetra in TetraMesh\u001b[0;m\n",
      "\u001b[1;33m[Open3D WARNING] [CreateFromPointCloudAlphaShape] invalid tetra in TetraMesh\u001b[0;m\n",
      "\u001b[1;33m[Open3D WARNING] [CreateFromPointCloudAlphaShape] invalid tetra in TetraMesh\u001b[0;m\n",
      "\u001b[1;33m[Open3D WARNING] [CreateFromPointCloudAlphaShape] invalid tetra in TetraMesh\u001b[0;m\n",
      "\u001b[1;33m[Open3D WARNING] [CreateFromPointCloudAlphaShape] invalid tetra in TetraMesh\u001b[0;m\n",
      "\u001b[1;33m[Open3D WARNING] [CreateFromPointCloudAlphaShape] invalid tetra in TetraMesh\u001b[0;m\n",
      "\u001b[1;33m[Open3D WARNING] [CreateFromPointCloudAlphaShape] invalid tetra in TetraMesh\u001b[0;m\n",
      "\u001b[1;33m[Open3D WARNING] [CreateFromPointCloudAlphaShape] invalid tetra in TetraMesh\u001b[0;m\n",
      "\u001b[1;33m[Open3D WARNING] [CreateFromPointCloudAlphaShape] invalid tetra in TetraMesh\u001b[0;m\n",
      "\u001b[1;33m[Open3D WARNING] [CreateFromPointCloudAlphaShape] invalid tetra in TetraMesh\u001b[0;m\n",
      "\u001b[1;33m[Open3D WARNING] [CreateFromPointCloudAlphaShape] invalid tetra in TetraMesh\u001b[0;m\n",
      "\u001b[1;33m[Open3D WARNING] [CreateFromPointCloudAlphaShape] invalid tetra in TetraMesh\u001b[0;m\n",
      "\u001b[1;33m[Open3D WARNING] [CreateFromPointCloudAlphaShape] invalid tetra in TetraMesh\u001b[0;m\n",
      "\u001b[1;33m[Open3D WARNING] [CreateFromPointCloudAlphaShape] invalid tetra in TetraMesh\u001b[0;m\n",
      "\u001b[1;33m[Open3D WARNING] [CreateFromPointCloudAlphaShape] invalid tetra in TetraMesh\u001b[0;m\n",
      "\u001b[1;33m[Open3D WARNING] [CreateFromPointCloudAlphaShape] invalid tetra in TetraMesh\u001b[0;m\n",
      "\u001b[1;33m[Open3D WARNING] [CreateFromPointCloudAlphaShape] invalid tetra in TetraMesh\u001b[0;m\n",
      "\u001b[1;33m[Open3D WARNING] [CreateFromPointCloudAlphaShape] invalid tetra in TetraMesh\u001b[0;m\n",
      "\u001b[1;33m[Open3D WARNING] [CreateFromPointCloudAlphaShape] invalid tetra in TetraMesh\u001b[0;m\n",
      "\u001b[1;33m[Open3D WARNING] [CreateFromPointCloudAlphaShape] invalid tetra in TetraMesh\u001b[0;m\n",
      "\u001b[1;33m[Open3D WARNING] [CreateFromPointCloudAlphaShape] invalid tetra in TetraMesh\u001b[0;m\n",
      "\u001b[1;33m[Open3D WARNING] [CreateFromPointCloudAlphaShape] invalid tetra in TetraMesh\u001b[0;m\n",
      "\u001b[1;33m[Open3D WARNING] [CreateFromPointCloudAlphaShape] invalid tetra in TetraMesh\u001b[0;m\n",
      "\u001b[1;33m[Open3D WARNING] [CreateFromPointCloudAlphaShape] invalid tetra in TetraMesh\u001b[0;m\n",
      "\u001b[1;33m[Open3D WARNING] [CreateFromPointCloudAlphaShape] invalid tetra in TetraMesh\u001b[0;m\n",
      "\u001b[1;33m[Open3D WARNING] [CreateFromPointCloudAlphaShape] invalid tetra in TetraMesh\u001b[0;m\n",
      "\u001b[1;33m[Open3D WARNING] [CreateFromPointCloudAlphaShape] invalid tetra in TetraMesh\u001b[0;m\n",
      "\u001b[1;33m[Open3D WARNING] [CreateFromPointCloudAlphaShape] invalid tetra in TetraMesh\u001b[0;m\n",
      "\u001b[1;33m[Open3D WARNING] [CreateFromPointCloudAlphaShape] invalid tetra in TetraMesh\u001b[0;m\n",
      "\u001b[1;33m[Open3D WARNING] [CreateFromPointCloudAlphaShape] invalid tetra in TetraMesh\u001b[0;m\n",
      "\u001b[1;33m[Open3D WARNING] [CreateFromPointCloudAlphaShape] invalid tetra in TetraMesh\u001b[0;m\n",
      "\u001b[1;33m[Open3D WARNING] [CreateFromPointCloudAlphaShape] invalid tetra in TetraMesh\u001b[0;m\n",
      "\u001b[1;33m[Open3D WARNING] [CreateFromPointCloudAlphaShape] invalid tetra in TetraMesh\u001b[0;m\n",
      "\u001b[1;33m[Open3D WARNING] [CreateFromPointCloudAlphaShape] invalid tetra in TetraMesh\u001b[0;m\n",
      "\u001b[1;33m[Open3D WARNING] [CreateFromPointCloudAlphaShape] invalid tetra in TetraMesh\u001b[0;m\n",
      "\u001b[1;33m[Open3D WARNING] [CreateFromPointCloudAlphaShape] invalid tetra in TetraMesh\u001b[0;m\n",
      "\u001b[1;33m[Open3D WARNING] [CreateFromPointCloudAlphaShape] invalid tetra in TetraMesh\u001b[0;m\n",
      "\u001b[1;33m[Open3D WARNING] [CreateFromPointCloudAlphaShape] invalid tetra in TetraMesh\u001b[0;m\n",
      "\u001b[1;33m[Open3D WARNING] [CreateFromPointCloudAlphaShape] invalid tetra in TetraMesh\u001b[0;m\n",
      "\u001b[1;33m[Open3D WARNING] [CreateFromPointCloudAlphaShape] invalid tetra in TetraMesh\u001b[0;m\n",
      "\u001b[1;33m[Open3D WARNING] [CreateFromPointCloudAlphaShape] invalid tetra in TetraMesh\u001b[0;m\n",
      "\u001b[1;33m[Open3D WARNING] [CreateFromPointCloudAlphaShape] invalid tetra in TetraMesh\u001b[0;m\n",
      "\u001b[1;33m[Open3D WARNING] [CreateFromPointCloudAlphaShape] invalid tetra in TetraMesh\u001b[0;m\n",
      "\u001b[1;33m[Open3D WARNING] [CreateFromPointCloudAlphaShape] invalid tetra in TetraMesh\u001b[0;m\n",
      "\u001b[1;33m[Open3D WARNING] [CreateFromPointCloudAlphaShape] invalid tetra in TetraMesh\u001b[0;m\n",
      "\u001b[1;33m[Open3D WARNING] [CreateFromPointCloudAlphaShape] invalid tetra in TetraMesh\u001b[0;m\n",
      "\u001b[1;33m[Open3D WARNING] [CreateFromPointCloudAlphaShape] invalid tetra in TetraMesh\u001b[0;m\n",
      "\u001b[1;33m[Open3D WARNING] [CreateFromPointCloudAlphaShape] invalid tetra in TetraMesh\u001b[0;m\n",
      "\u001b[1;33m[Open3D WARNING] [CreateFromPointCloudAlphaShape] invalid tetra in TetraMesh\u001b[0;m\n",
      "\u001b[1;33m[Open3D WARNING] [CreateFromPointCloudAlphaShape] invalid tetra in TetraMesh\u001b[0;m\n",
      "\u001b[1;33m[Open3D WARNING] [CreateFromPointCloudAlphaShape] invalid tetra in TetraMesh\u001b[0;m\n",
      "\u001b[1;33m[Open3D WARNING] [CreateFromPointCloudAlphaShape] invalid tetra in TetraMesh\u001b[0;m\n",
      "\u001b[1;33m[Open3D WARNING] [CreateFromPointCloudAlphaShape] invalid tetra in TetraMesh\u001b[0;m\n",
      "\u001b[1;33m[Open3D WARNING] [CreateFromPointCloudAlphaShape] invalid tetra in TetraMesh\u001b[0;m\n",
      "\u001b[1;33m[Open3D WARNING] [CreateFromPointCloudAlphaShape] invalid tetra in TetraMesh\u001b[0;m\n",
      "\u001b[1;33m[Open3D WARNING] [CreateFromPointCloudAlphaShape] invalid tetra in TetraMesh\u001b[0;m\n",
      "\u001b[1;33m[Open3D WARNING] [CreateFromPointCloudAlphaShape] invalid tetra in TetraMesh\u001b[0;m\n",
      "\u001b[1;33m[Open3D WARNING] [CreateFromPointCloudAlphaShape] invalid tetra in TetraMesh\u001b[0;m\n",
      "\u001b[1;33m[Open3D WARNING] [CreateFromPointCloudAlphaShape] invalid tetra in TetraMesh\u001b[0;m\n",
      "\u001b[1;33m[Open3D WARNING] [CreateFromPointCloudAlphaShape] invalid tetra in TetraMesh\u001b[0;m\n",
      "\u001b[1;33m[Open3D WARNING] [CreateFromPointCloudAlphaShape] invalid tetra in TetraMesh\u001b[0;m\n",
      "\u001b[1;33m[Open3D WARNING] [CreateFromPointCloudAlphaShape] invalid tetra in TetraMesh\u001b[0;m\n",
      "\u001b[1;33m[Open3D WARNING] [CreateFromPointCloudAlphaShape] invalid tetra in TetraMesh\u001b[0;m\n",
      "\u001b[1;33m[Open3D WARNING] [CreateFromPointCloudAlphaShape] invalid tetra in TetraMesh\u001b[0;m\n",
      "\u001b[1;33m[Open3D WARNING] [CreateFromPointCloudAlphaShape] invalid tetra in TetraMesh\u001b[0;m\n",
      "\u001b[1;33m[Open3D WARNING] [CreateFromPointCloudAlphaShape] invalid tetra in TetraMesh\u001b[0;m\n",
      "\u001b[1;33m[Open3D WARNING] [CreateFromPointCloudAlphaShape] invalid tetra in TetraMesh\u001b[0;m\n",
      "\u001b[1;33m[Open3D WARNING] [CreateFromPointCloudAlphaShape] invalid tetra in TetraMesh\u001b[0;m\n",
      "\u001b[1;33m[Open3D WARNING] [CreateFromPointCloudAlphaShape] invalid tetra in TetraMesh\u001b[0;m\n",
      "\u001b[1;33m[Open3D WARNING] [CreateFromPointCloudAlphaShape] invalid tetra in TetraMesh\u001b[0;m\n",
      "\u001b[1;33m[Open3D WARNING] [CreateFromPointCloudAlphaShape] invalid tetra in TetraMesh\u001b[0;m\n",
      "\u001b[1;33m[Open3D WARNING] [CreateFromPointCloudAlphaShape] invalid tetra in TetraMesh\u001b[0;m\n",
      "\u001b[1;33m[Open3D WARNING] [CreateFromPointCloudAlphaShape] invalid tetra in TetraMesh\u001b[0;m\n",
      "\u001b[1;33m[Open3D WARNING] [CreateFromPointCloudAlphaShape] invalid tetra in TetraMesh\u001b[0;m\n",
      "\u001b[1;33m[Open3D WARNING] [CreateFromPointCloudAlphaShape] invalid tetra in TetraMesh\u001b[0;m\n",
      "\u001b[1;33m[Open3D WARNING] [CreateFromPointCloudAlphaShape] invalid tetra in TetraMesh\u001b[0;m\n",
      "\u001b[1;33m[Open3D WARNING] [CreateFromPointCloudAlphaShape] invalid tetra in TetraMesh\u001b[0;m\n",
      "\u001b[1;33m[Open3D WARNING] [CreateFromPointCloudAlphaShape] invalid tetra in TetraMesh\u001b[0;m\n",
      "\u001b[1;33m[Open3D WARNING] [CreateFromPointCloudAlphaShape] invalid tetra in TetraMesh\u001b[0;m\n",
      "\u001b[1;33m[Open3D WARNING] [CreateFromPointCloudAlphaShape] invalid tetra in TetraMesh\u001b[0;m\n",
      "\u001b[1;33m[Open3D WARNING] [CreateFromPointCloudAlphaShape] invalid tetra in TetraMesh\u001b[0;m\n",
      "\u001b[1;33m[Open3D WARNING] [CreateFromPointCloudAlphaShape] invalid tetra in TetraMesh\u001b[0;m\n",
      "\u001b[1;33m[Open3D WARNING] [CreateFromPointCloudAlphaShape] invalid tetra in TetraMesh\u001b[0;m\n",
      "\u001b[1;33m[Open3D WARNING] [CreateFromPointCloudAlphaShape] invalid tetra in TetraMesh\u001b[0;m\n",
      "\u001b[1;33m[Open3D WARNING] [CreateFromPointCloudAlphaShape] invalid tetra in TetraMesh\u001b[0;m\n",
      "\u001b[1;33m[Open3D WARNING] [CreateFromPointCloudAlphaShape] invalid tetra in TetraMesh\u001b[0;m\n",
      "\u001b[1;33m[Open3D WARNING] [CreateFromPointCloudAlphaShape] invalid tetra in TetraMesh\u001b[0;m\n",
      "\u001b[1;33m[Open3D WARNING] [CreateFromPointCloudAlphaShape] invalid tetra in TetraMesh\u001b[0;m\n",
      "\u001b[1;33m[Open3D WARNING] [CreateFromPointCloudAlphaShape] invalid tetra in TetraMesh\u001b[0;m\n",
      "\u001b[1;33m[Open3D WARNING] [CreateFromPointCloudAlphaShape] invalid tetra in TetraMesh\u001b[0;m\n",
      "\u001b[1;33m[Open3D WARNING] [CreateFromPointCloudAlphaShape] invalid tetra in TetraMesh\u001b[0;m\n",
      "\u001b[1;33m[Open3D WARNING] [CreateFromPointCloudAlphaShape] invalid tetra in TetraMesh\u001b[0;m\n",
      "\u001b[1;33m[Open3D WARNING] [CreateFromPointCloudAlphaShape] invalid tetra in TetraMesh\u001b[0;m\n",
      "\u001b[1;33m[Open3D WARNING] [CreateFromPointCloudAlphaShape] invalid tetra in TetraMesh\u001b[0;m\n",
      "\u001b[1;33m[Open3D WARNING] [CreateFromPointCloudAlphaShape] invalid tetra in TetraMesh\u001b[0;m\n",
      "\u001b[1;33m[Open3D WARNING] [CreateFromPointCloudAlphaShape] invalid tetra in TetraMesh\u001b[0;m\n",
      "\u001b[1;33m[Open3D WARNING] [CreateFromPointCloudAlphaShape] invalid tetra in TetraMesh\u001b[0;m\n",
      "\u001b[1;33m[Open3D WARNING] [CreateFromPointCloudAlphaShape] invalid tetra in TetraMesh\u001b[0;m\n",
      "\u001b[1;33m[Open3D WARNING] [CreateFromPointCloudAlphaShape] invalid tetra in TetraMesh\u001b[0;m\n",
      "\u001b[1;33m[Open3D WARNING] [CreateFromPointCloudAlphaShape] invalid tetra in TetraMesh\u001b[0;m\n",
      "\u001b[1;33m[Open3D WARNING] [CreateFromPointCloudAlphaShape] invalid tetra in TetraMesh\u001b[0;m\n",
      "\u001b[1;33m[Open3D WARNING] [CreateFromPointCloudAlphaShape] invalid tetra in TetraMesh\u001b[0;m\n",
      "\u001b[1;33m[Open3D WARNING] [CreateFromPointCloudAlphaShape] invalid tetra in TetraMesh\u001b[0;m\n",
      "\u001b[1;33m[Open3D WARNING] [CreateFromPointCloudAlphaShape] invalid tetra in TetraMesh\u001b[0;m\n",
      "\u001b[1;33m[Open3D WARNING] [CreateFromPointCloudAlphaShape] invalid tetra in TetraMesh\u001b[0;m\n",
      "\u001b[1;33m[Open3D WARNING] [CreateFromPointCloudAlphaShape] invalid tetra in TetraMesh\u001b[0;m\n",
      "\u001b[1;33m[Open3D WARNING] [CreateFromPointCloudAlphaShape] invalid tetra in TetraMesh\u001b[0;m\n",
      "\u001b[1;33m[Open3D WARNING] [CreateFromPointCloudAlphaShape] invalid tetra in TetraMesh\u001b[0;m\n",
      "\u001b[1;33m[Open3D WARNING] [CreateFromPointCloudAlphaShape] invalid tetra in TetraMesh\u001b[0;m\n",
      "\u001b[1;33m[Open3D WARNING] [CreateFromPointCloudAlphaShape] invalid tetra in TetraMesh\u001b[0;m\n",
      "\u001b[1;33m[Open3D WARNING] [CreateFromPointCloudAlphaShape] invalid tetra in TetraMesh\u001b[0;m\n",
      "\u001b[1;33m[Open3D WARNING] [CreateFromPointCloudAlphaShape] invalid tetra in TetraMesh\u001b[0;m\n",
      "\u001b[1;33m[Open3D WARNING] [CreateFromPointCloudAlphaShape] invalid tetra in TetraMesh\u001b[0;m\n",
      "\u001b[1;33m[Open3D WARNING] [CreateFromPointCloudAlphaShape] invalid tetra in TetraMesh\u001b[0;m\n",
      "\u001b[1;33m[Open3D WARNING] [CreateFromPointCloudAlphaShape] invalid tetra in TetraMesh\u001b[0;m\n",
      "\u001b[1;33m[Open3D WARNING] [CreateFromPointCloudAlphaShape] invalid tetra in TetraMesh\u001b[0;m\n",
      "\u001b[1;33m[Open3D WARNING] [CreateFromPointCloudAlphaShape] invalid tetra in TetraMesh\u001b[0;m\n",
      "\u001b[1;33m[Open3D WARNING] [CreateFromPointCloudAlphaShape] invalid tetra in TetraMesh\u001b[0;m\n",
      "\u001b[1;33m[Open3D WARNING] [CreateFromPointCloudAlphaShape] invalid tetra in TetraMesh\u001b[0;m\n",
      "\u001b[1;33m[Open3D WARNING] [CreateFromPointCloudAlphaShape] invalid tetra in TetraMesh\u001b[0;m\n",
      "\u001b[1;33m[Open3D WARNING] [CreateFromPointCloudAlphaShape] invalid tetra in TetraMesh\u001b[0;m\n",
      "\u001b[1;33m[Open3D WARNING] [CreateFromPointCloudAlphaShape] invalid tetra in TetraMesh\u001b[0;m\n",
      "\u001b[1;33m[Open3D WARNING] [CreateFromPointCloudAlphaShape] invalid tetra in TetraMesh\u001b[0;m\n",
      "\u001b[1;33m[Open3D WARNING] [CreateFromPointCloudAlphaShape] invalid tetra in TetraMesh\u001b[0;m\n",
      "\u001b[1;33m[Open3D WARNING] [CreateFromPointCloudAlphaShape] invalid tetra in TetraMesh\u001b[0;m\n",
      "\u001b[1;33m[Open3D WARNING] [CreateFromPointCloudAlphaShape] invalid tetra in TetraMesh\u001b[0;m\n",
      "\u001b[1;33m[Open3D WARNING] [CreateFromPointCloudAlphaShape] invalid tetra in TetraMesh\u001b[0;m\n",
      "\u001b[1;33m[Open3D WARNING] [CreateFromPointCloudAlphaShape] invalid tetra in TetraMesh\u001b[0;m\n",
      "\u001b[1;33m[Open3D WARNING] [CreateFromPointCloudAlphaShape] invalid tetra in TetraMesh\u001b[0;m\n",
      "\u001b[1;33m[Open3D WARNING] [CreateFromPointCloudAlphaShape] invalid tetra in TetraMesh\u001b[0;m\n",
      "\u001b[1;33m[Open3D WARNING] [CreateFromPointCloudAlphaShape] invalid tetra in TetraMesh\u001b[0;m\n",
      "\u001b[1;33m[Open3D WARNING] [CreateFromPointCloudAlphaShape] invalid tetra in TetraMesh\u001b[0;m\n",
      "\u001b[1;33m[Open3D WARNING] [CreateFromPointCloudAlphaShape] invalid tetra in TetraMesh\u001b[0;m\n",
      "\u001b[1;33m[Open3D WARNING] [CreateFromPointCloudAlphaShape] invalid tetra in TetraMesh\u001b[0;m\n",
      "\u001b[1;33m[Open3D WARNING] [CreateFromPointCloudAlphaShape] invalid tetra in TetraMesh\u001b[0;m\n",
      "\u001b[1;33m[Open3D WARNING] [CreateFromPointCloudAlphaShape] invalid tetra in TetraMesh\u001b[0;m\n",
      "\u001b[1;33m[Open3D WARNING] [CreateFromPointCloudAlphaShape] invalid tetra in TetraMesh\u001b[0;m\n",
      "\u001b[1;33m[Open3D WARNING] [CreateFromPointCloudAlphaShape] invalid tetra in TetraMesh\u001b[0;m\n",
      "\u001b[1;33m[Open3D WARNING] [CreateFromPointCloudAlphaShape] invalid tetra in TetraMesh\u001b[0;m\n",
      "\u001b[1;33m[Open3D WARNING] [CreateFromPointCloudAlphaShape] invalid tetra in TetraMesh\u001b[0;m\n",
      "\u001b[1;33m[Open3D WARNING] [CreateFromPointCloudAlphaShape] invalid tetra in TetraMesh\u001b[0;m\n",
      "\u001b[1;33m[Open3D WARNING] [CreateFromPointCloudAlphaShape] invalid tetra in TetraMesh\u001b[0;m\n",
      "\u001b[1;33m[Open3D WARNING] [CreateFromPointCloudAlphaShape] invalid tetra in TetraMesh\u001b[0;m\n",
      "\u001b[1;33m[Open3D WARNING] [CreateFromPointCloudAlphaShape] invalid tetra in TetraMesh\u001b[0;m\n",
      "\u001b[1;33m[Open3D WARNING] [CreateFromPointCloudAlphaShape] invalid tetra in TetraMesh\u001b[0;m\n",
      "\u001b[1;33m[Open3D WARNING] [CreateFromPointCloudAlphaShape] invalid tetra in TetraMesh\u001b[0;m\n",
      "\u001b[1;33m[Open3D WARNING] [CreateFromPointCloudAlphaShape] invalid tetra in TetraMesh\u001b[0;m\n",
      "\u001b[1;33m[Open3D WARNING] [CreateFromPointCloudAlphaShape] invalid tetra in TetraMesh\u001b[0;m\n",
      "\u001b[1;33m[Open3D WARNING] [CreateFromPointCloudAlphaShape] invalid tetra in TetraMesh\u001b[0;m\n",
      "\u001b[1;33m[Open3D WARNING] [CreateFromPointCloudAlphaShape] invalid tetra in TetraMesh\u001b[0;m\n",
      "\u001b[1;33m[Open3D WARNING] [CreateFromPointCloudAlphaShape] invalid tetra in TetraMesh\u001b[0;m\n",
      "\u001b[1;33m[Open3D WARNING] [CreateFromPointCloudAlphaShape] invalid tetra in TetraMesh\u001b[0;m\n",
      "\u001b[1;33m[Open3D WARNING] [CreateFromPointCloudAlphaShape] invalid tetra in TetraMesh\u001b[0;m\n",
      "\u001b[1;33m[Open3D WARNING] [CreateFromPointCloudAlphaShape] invalid tetra in TetraMesh\u001b[0;m\n",
      "\u001b[1;33m[Open3D WARNING] [CreateFromPointCloudAlphaShape] invalid tetra in TetraMesh\u001b[0;m\n",
      "\u001b[1;33m[Open3D WARNING] [CreateFromPointCloudAlphaShape] invalid tetra in TetraMesh\u001b[0;m\n",
      "\u001b[1;33m[Open3D WARNING] [CreateFromPointCloudAlphaShape] invalid tetra in TetraMesh\u001b[0;m\n",
      "\u001b[1;33m[Open3D WARNING] [CreateFromPointCloudAlphaShape] invalid tetra in TetraMesh\u001b[0;m\n",
      "\u001b[1;33m[Open3D WARNING] [CreateFromPointCloudAlphaShape] invalid tetra in TetraMesh\u001b[0;m\n",
      "\u001b[1;33m[Open3D WARNING] [CreateFromPointCloudAlphaShape] invalid tetra in TetraMesh\u001b[0;m\n",
      "\u001b[1;33m[Open3D WARNING] [CreateFromPointCloudAlphaShape] invalid tetra in TetraMesh\u001b[0;m\n",
      "\u001b[1;33m[Open3D WARNING] [CreateFromPointCloudAlphaShape] invalid tetra in TetraMesh\u001b[0;m\n",
      "\u001b[1;33m[Open3D WARNING] [CreateFromPointCloudAlphaShape] invalid tetra in TetraMesh\u001b[0;m\n",
      "\u001b[1;33m[Open3D WARNING] [CreateFromPointCloudAlphaShape] invalid tetra in TetraMesh\u001b[0;m\n",
      "\u001b[1;33m[Open3D WARNING] [CreateFromPointCloudAlphaShape] invalid tetra in TetraMesh\u001b[0;m\n",
      "\u001b[1;33m[Open3D WARNING] [CreateFromPointCloudAlphaShape] invalid tetra in TetraMesh\u001b[0;m\n",
      "\u001b[1;33m[Open3D WARNING] [CreateFromPointCloudAlphaShape] invalid tetra in TetraMesh\u001b[0;m\n",
      "\u001b[1;33m[Open3D WARNING] [CreateFromPointCloudAlphaShape] invalid tetra in TetraMesh\u001b[0;m\n",
      "\u001b[1;33m[Open3D WARNING] [CreateFromPointCloudAlphaShape] invalid tetra in TetraMesh\u001b[0;m\n",
      "\u001b[1;33m[Open3D WARNING] [CreateFromPointCloudAlphaShape] invalid tetra in TetraMesh\u001b[0;m\n",
      "\u001b[1;33m[Open3D WARNING] [CreateFromPointCloudAlphaShape] invalid tetra in TetraMesh\u001b[0;m\n",
      "\u001b[1;33m[Open3D WARNING] [CreateFromPointCloudAlphaShape] invalid tetra in TetraMesh\u001b[0;m\n",
      "\u001b[1;33m[Open3D WARNING] [CreateFromPointCloudAlphaShape] invalid tetra in TetraMesh\u001b[0;m\n",
      "\u001b[1;33m[Open3D WARNING] [CreateFromPointCloudAlphaShape] invalid tetra in TetraMesh\u001b[0;m\n",
      "\u001b[1;33m[Open3D WARNING] [CreateFromPointCloudAlphaShape] invalid tetra in TetraMesh\u001b[0;m\n",
      "\u001b[1;33m[Open3D WARNING] [CreateFromPointCloudAlphaShape] invalid tetra in TetraMesh\u001b[0;m\n",
      "\u001b[1;33m[Open3D WARNING] [CreateFromPointCloudAlphaShape] invalid tetra in TetraMesh\u001b[0;m\n",
      "\u001b[1;33m[Open3D WARNING] [CreateFromPointCloudAlphaShape] invalid tetra in TetraMesh\u001b[0;m\n",
      "\u001b[1;33m[Open3D WARNING] [CreateFromPointCloudAlphaShape] invalid tetra in TetraMesh\u001b[0;m\n",
      "\u001b[1;33m[Open3D WARNING] [CreateFromPointCloudAlphaShape] invalid tetra in TetraMesh\u001b[0;m\n",
      "\u001b[1;33m[Open3D WARNING] [CreateFromPointCloudAlphaShape] invalid tetra in TetraMesh\u001b[0;m\n",
      "\u001b[1;33m[Open3D WARNING] [CreateFromPointCloudAlphaShape] invalid tetra in TetraMesh\u001b[0;m\n",
      "\u001b[1;33m[Open3D WARNING] [CreateFromPointCloudAlphaShape] invalid tetra in TetraMesh\u001b[0;m\n",
      "\u001b[1;33m[Open3D WARNING] [CreateFromPointCloudAlphaShape] invalid tetra in TetraMesh\u001b[0;m\n",
      "\u001b[1;33m[Open3D WARNING] [CreateFromPointCloudAlphaShape] invalid tetra in TetraMesh\u001b[0;m\n",
      "\u001b[1;33m[Open3D WARNING] [CreateFromPointCloudAlphaShape] invalid tetra in TetraMesh\u001b[0;m\n",
      "\u001b[1;33m[Open3D WARNING] [CreateFromPointCloudAlphaShape] invalid tetra in TetraMesh\u001b[0;m\n",
      "\u001b[1;33m[Open3D WARNING] [CreateFromPointCloudAlphaShape] invalid tetra in TetraMesh\u001b[0;m\n",
      "\u001b[1;33m[Open3D WARNING] [CreateFromPointCloudAlphaShape] invalid tetra in TetraMesh\u001b[0;m\n",
      "\u001b[1;33m[Open3D WARNING] [CreateFromPointCloudAlphaShape] invalid tetra in TetraMesh\u001b[0;m\n",
      "\u001b[1;33m[Open3D WARNING] [CreateFromPointCloudAlphaShape] invalid tetra in TetraMesh\u001b[0;m\n",
      "\u001b[1;33m[Open3D WARNING] [CreateFromPointCloudAlphaShape] invalid tetra in TetraMesh\u001b[0;m\n",
      "\u001b[1;33m[Open3D WARNING] [CreateFromPointCloudAlphaShape] invalid tetra in TetraMesh\u001b[0;m\n",
      "\u001b[1;33m[Open3D WARNING] [CreateFromPointCloudAlphaShape] invalid tetra in TetraMesh\u001b[0;m\n",
      "\u001b[1;33m[Open3D WARNING] [CreateFromPointCloudAlphaShape] invalid tetra in TetraMesh\u001b[0;m\n",
      "\u001b[1;33m[Open3D WARNING] [CreateFromPointCloudAlphaShape] invalid tetra in TetraMesh\u001b[0;m\n",
      "\u001b[1;33m[Open3D WARNING] Write OBJ can not include triangle normals.\u001b[0;m\n",
      "\u001b[1;33m[Open3D WARNING] Write OBJ can not include triangle normals.\u001b[0;m\n",
      "✅ Re-mesh complete: meshes/oakink_beaker_decomp2_remesh.obj, meshes/oakink_wineglass_decomp2_remesh.obj\n",
      "Finding correspondences for 4 source points...\n",
      "Closest vertices to input 3D points:\n",
      "  Point 0: [ 0.00886742 -0.04124315 -0.01754964] -> Vertex 5829 (distance: 0.0042)\n",
      "  Point 1: [-0.01223545  0.0363251   0.00719686] -> Vertex 3200 (distance: 0.0044)\n",
      "  Point 2: [-0.01694481  0.03424783 -0.01735426] -> Vertex 3192 (distance: 0.0046)\n",
      "  Point 3: [-0.01596961  0.03464369 -0.02075735] -> Vertex 5945 (distance: 0.0046)\n",
      "Computing features for source mesh...\n"
     ]
    },
    {
     "name": "stderr",
     "output_type": "stream",
     "text": [
      "100%|██████████████████████████████| 20/20 [00:41<00:00,  2.07s/it]\n"
     ]
    },
    {
     "name": "stdout",
     "output_type": "stream",
     "text": [
      "Number of missing features:  385 . Copied features from nearest vertices.\n",
      "Time taken in mins:  0.7374135851860046\n",
      "Computing features for target mesh...\n"
     ]
    },
    {
     "name": "stderr",
     "output_type": "stream",
     "text": [
      "100%|██████████████████████████████| 20/20 [00:43<00:00,  2.18s/it]"
     ]
    },
    {
     "name": "stdout",
     "output_type": "stream",
     "text": [
      "Number of missing features:  217 . Copied features from nearest vertices.\n",
      "Time taken in mins:  0.7692441344261169\n",
      "  Point 0: Source vertex 5829 -> Target vertex 2200 (similarity: 0.6177)\n",
      "  Point 1: Source vertex 3200 -> Target vertex 4005 (similarity: 0.6943)\n",
      "  Point 2: Source vertex 3192 -> Target vertex 4567 (similarity: 0.7153)\n",
      "  Point 3: Source vertex 5945 -> Target vertex 4005 (similarity: 0.7109)\n",
      "🎨 Visualizing 4 correspondences:\n",
      "  Correspondence 1: Source vertex 5829 ↔ Target vertex 2200 (similarity: 0.6177)\n",
      "    Color: RGB(1.00, 0.20, 0.20)\n",
      "  Correspondence 2: Source vertex 3200 ↔ Target vertex 4005 (similarity: 0.6943)\n",
      "    Color: RGB(0.45, 0.90, 0.00)\n",
      "  Correspondence 3: Source vertex 3192 ↔ Target vertex 4567 (similarity: 0.7153)\n",
      "    Color: RGB(0.20, 1.00, 1.00)\n",
      "  Correspondence 4: Source vertex 5945 ↔ Target vertex 4005 (similarity: 0.7109)\n",
      "    Color: RGB(0.45, 0.00, 0.90)\n",
      "🎯 Creating combined mesh + 3D marker visualization...\n"
     ]
    },
    {
     "name": "stderr",
     "output_type": "stream",
     "text": [
      "\n"
     ]
    },
    {
     "data": {
      "application/vnd.jupyter.widget-view+json": {
       "model_id": "3920372d8a3b4e62839356bb1395e0ef",
       "version_major": 2,
       "version_minor": 0
      },
      "text/plain": [
       "HBox(children=(Output(), Output()))"
      ]
     },
     "metadata": {},
     "output_type": "display_data"
    },
    {
     "data": {
      "application/vnd.jupyter.widget-view+json": {
       "model_id": "372769f454a14ed284d23f9b6766cad8",
       "version_major": 2,
       "version_minor": 0
      },
      "text/plain": [
       "HBox(children=(Output(), Output()))"
      ]
     },
     "metadata": {},
     "output_type": "display_data"
    },
    {
     "name": "stdout",
     "output_type": "stream",
     "text": [
      "✅ Combined mesh + 3D octahedron markers visualization created!\n",
      "   Each correspondence pair has matching colored 3D octahedrons\n",
      "   Source mesh: 9262 vertices + 24 marker vertices\n",
      "   Target mesh: 8490 vertices + 24 marker vertices\n",
      "\n",
      "📊 Correspondence Statistics:\n",
      "  - Average similarity: 0.6846\n",
      "  - Min similarity: 0.6177\n",
      "  - Max similarity: 0.7153\n",
      "  - Total correspondences: 4\n",
      "\n",
      " target_points_3d = \n",
      " [[ 0.0080457  -0.0276895   0.0691929 ]\n",
      " [ 0.00808573  0.0352702   0.0468748 ]\n",
      " [ 0.011697    0.0340958   0.044947  ]\n",
      " [ 0.00808573  0.0352702   0.0468748 ]]\n",
      "\n",
      "✅ Analysis complete!\n"
     ]
    }
   ],
   "source": [
    "# Mesh paths - modify these to use your own meshes\n",
    "source_mesh_path = \"meshes/oakink_beaker_decomp2.obj\"\n",
    "target_mesh_path = \"meshes/oakink_wineglass_decomp2.obj\"\n",
    "if remesh: \n",
    "    from utils import remesh_mesh_pair\n",
    "    source_mesh_path, target_mesh_path = remesh_mesh_pair(\n",
    "        source_mesh_path,\n",
    "        target_mesh_path,\n",
    "        num_points=10000,\n",
    "        alpha=0.005\n",
    "    )\n",
    "    \n",
    "source_mesh = MeshContainer().load_from_file(source_mesh_path)\n",
    "target_mesh = MeshContainer().load_from_file(target_mesh_path)\n",
    "\n",
    "# Analysis parameters\n",
    "num_views = 20  # Number of views for rendering (reduced for faster computation)\n",
    "source_prompt = \"beaker\"\n",
    "target_prompt = \"wineglass\"\n",
    "# Run the complete analysis pipeline\n",
    "similarity_colors, raw_similarities, source_point_idx, closest_distance, target_points_3d = run_multi_point_correspondence_analysis(\n",
    "    source_mesh=source_mesh,\n",
    "    target_mesh=target_mesh,\n",
    "    source_points_3d=source_points_3d,\n",
    "    device=device,\n",
    "    pipe=pipe,\n",
    "    dino_model=dino_model,\n",
    "    source_prompt=source_prompt,\n",
    "    target_prompt=target_prompt,\n",
    "    num_views=num_views\n",
    ")\n",
    "\n",
    "print(\"\\n target_points_3d = \\n\", target_points_3d)\n",
    "print(\"\\n✅ Analysis complete!\")"
   ]
  },
  {
   "cell_type": "markdown",
   "id": "7a18f8b2-f668-4ac1-b1da-155b0512dcaa",
   "metadata": {},
   "source": [
    "#### Note the bowl has issue with point distribution for re-meshing. But the original has normal triangles"
   ]
  },
  {
   "cell_type": "code",
   "execution_count": 61,
   "id": "f66e2cdd-3bfa-40c2-ba56-303c1f2f1f97",
   "metadata": {},
   "outputs": [
    {
     "name": "stdout",
     "output_type": "stream",
     "text": [
      "Source mesh: 11799 vertices, 23334 faces\n",
      "Target mesh: 15566 vertices, 30916 faces\n",
      "Finding correspondences for 4 source points...\n",
      "Closest vertices to input 3D points:\n",
      "  Point 0: [ 0.00886742 -0.04124315 -0.01754964] -> Vertex 5663 (distance: 0.0100)\n",
      "  Point 1: [-0.01223545  0.0363251   0.00719686] -> Vertex 9145 (distance: 0.0116)\n",
      "  Point 2: [-0.01694481  0.03424783 -0.01735426] -> Vertex 2712 (distance: 0.0060)\n",
      "  Point 3: [-0.01596961  0.03464369 -0.02075735] -> Vertex 2740 (distance: 0.0053)\n",
      "Computing features for source mesh...\n"
     ]
    },
    {
     "name": "stderr",
     "output_type": "stream",
     "text": [
      "100%|██████████████████████████████| 10/10 [00:25<00:00,  2.55s/it]\n"
     ]
    },
    {
     "name": "stdout",
     "output_type": "stream",
     "text": [
      "Number of missing features:  982 . Copied features from nearest vertices.\n",
      "Time taken in mins:  0.4563605984052022\n",
      "Computing features for target mesh...\n"
     ]
    },
    {
     "name": "stderr",
     "output_type": "stream",
     "text": [
      "100%|██████████████████████████████| 10/10 [00:22<00:00,  2.30s/it]"
     ]
    },
    {
     "name": "stdout",
     "output_type": "stream",
     "text": [
      "Number of missing features:  1371 . Copied features from nearest vertices.\n",
      "Time taken in mins:  0.42268147071202594\n",
      "  Point 0: Source vertex 5663 -> Target vertex 13787 (similarity: 0.4062)\n",
      "  Point 1: Source vertex 9145 -> Target vertex 3989 (similarity: 0.5610)\n",
      "  Point 2: Source vertex 2712 -> Target vertex 4799 (similarity: 0.3696)\n",
      "  Point 3: Source vertex 2740 -> Target vertex 4108 (similarity: 0.3711)\n",
      "🎨 Visualizing 4 correspondences:\n",
      "  Correspondence 1: Source vertex 5663 ↔ Target vertex 13787 (similarity: 0.4062)\n",
      "    Color: RGB(1.00, 0.20, 0.20)\n",
      "  Correspondence 2: Source vertex 9145 ↔ Target vertex 3989 (similarity: 0.5610)\n",
      "    Color: RGB(0.45, 0.90, 0.00)\n",
      "  Correspondence 3: Source vertex 2712 ↔ Target vertex 4799 (similarity: 0.3696)\n",
      "    Color: RGB(0.20, 1.00, 1.00)\n",
      "  Correspondence 4: Source vertex 2740 ↔ Target vertex 4108 (similarity: 0.3711)\n",
      "    Color: RGB(0.45, 0.00, 0.90)\n",
      "🎯 Creating combined mesh + 3D marker visualization...\n"
     ]
    },
    {
     "name": "stderr",
     "output_type": "stream",
     "text": [
      "\n"
     ]
    },
    {
     "data": {
      "application/vnd.jupyter.widget-view+json": {
       "model_id": "974ad3f5835a461c92b87c953aa094f0",
       "version_major": 2,
       "version_minor": 0
      },
      "text/plain": [
       "HBox(children=(Output(), Output()))"
      ]
     },
     "metadata": {},
     "output_type": "display_data"
    },
    {
     "data": {
      "application/vnd.jupyter.widget-view+json": {
       "model_id": "c060e8550d0a49c1a244bd5b20444219",
       "version_major": 2,
       "version_minor": 0
      },
      "text/plain": [
       "HBox(children=(Output(), Output()))"
      ]
     },
     "metadata": {},
     "output_type": "display_data"
    },
    {
     "name": "stdout",
     "output_type": "stream",
     "text": [
      "✅ Combined mesh + 3D octahedron markers visualization created!\n",
      "   Each correspondence pair has matching colored 3D octahedrons\n",
      "   Source mesh: 11799 vertices + 24 marker vertices\n",
      "   Target mesh: 15566 vertices + 24 marker vertices\n",
      "\n",
      "📊 Correspondence Statistics:\n",
      "  - Average similarity: 0.4270\n",
      "  - Min similarity: 0.3696\n",
      "  - Max similarity: 0.5610\n",
      "  - Total correspondences: 4\n",
      "\n",
      " target_points_3d = \n",
      " [[-0.00372535 -0.06896716  0.00819176]\n",
      " [-0.02775519  0.05429005  0.01184506]\n",
      " [-0.00955814  0.0672548   0.00519297]\n",
      " [-0.01615746  0.07144749  0.02109833]]\n",
      "\n",
      "✅ Analysis complete!\n"
     ]
    }
   ],
   "source": [
    "# Mesh paths - modify these to use your own meshes\n",
    "source_mesh_path = \"meshes/oakink_beaker_decomp2.obj\"\n",
    "target_mesh_path = \"meshes/oakink_bowl_decomp2.obj\"\n",
    "if 0: \n",
    "    from utils import remesh_mesh_pair\n",
    "    source_mesh_path, target_mesh_path = remesh_mesh_pair(\n",
    "        source_mesh_path,\n",
    "        target_mesh_path,\n",
    "        num_points=10000,\n",
    "        alpha=0.005\n",
    "    )\n",
    "source_mesh = MeshContainer().load_from_file(source_mesh_path)\n",
    "target_mesh = MeshContainer().load_from_file(target_mesh_path)\n",
    "\n",
    "print(f\"Source mesh: {len(source_mesh.vert)} vertices, {len(source_mesh.face)} faces\")\n",
    "print(f\"Target mesh: {len(target_mesh.vert)} vertices, {len(target_mesh.face)} faces\")\n",
    "\n",
    "# Analysis parameters\n",
    "num_views = 10  # Number of views for rendering (reduced for faster computation)\n",
    "source_prompt = \"beaker\"\n",
    "target_prompt = \"bowl\"\n",
    "# Run the complete analysis pipeline\n",
    "similarity_colors, raw_similarities, source_point_idx, closest_distance, target_points_3d = run_multi_point_correspondence_analysis(\n",
    "    source_mesh=source_mesh,\n",
    "    target_mesh=target_mesh,\n",
    "    source_points_3d=source_points_3d,\n",
    "    device=device,\n",
    "    pipe=pipe,\n",
    "    dino_model=dino_model,\n",
    "    source_prompt=source_prompt,\n",
    "    target_prompt=target_prompt,\n",
    "    num_views=num_views\n",
    ")\n",
    "\n",
    "print(\"\\n target_points_3d = \\n\", target_points_3d)\n",
    "print(\"\\n✅ Analysis complete!\")"
   ]
  },
  {
   "cell_type": "code",
   "execution_count": 68,
   "id": "12161555-abc9-4448-969e-86eb9080e2be",
   "metadata": {
    "collapsed": true,
    "jupyter": {
     "outputs_hidden": true
    }
   },
   "outputs": [
    {
     "name": "stdout",
     "output_type": "stream",
     "text": [
      "\u001b[1;33m[Open3D WARNING] [CreateFromPointCloudAlphaShape] invalid tetra in TetraMesh\u001b[0;m\n",
      "\u001b[1;33m[Open3D WARNING] [CreateFromPointCloudAlphaShape] invalid tetra in TetraMesh\u001b[0;m\n",
      "\u001b[1;33m[Open3D WARNING] [CreateFromPointCloudAlphaShape] invalid tetra in TetraMesh\u001b[0;m\n",
      "\u001b[1;33m[Open3D WARNING] [CreateFromPointCloudAlphaShape] invalid tetra in TetraMesh\u001b[0;m\n",
      "\u001b[1;33m[Open3D WARNING] [CreateFromPointCloudAlphaShape] invalid tetra in TetraMesh\u001b[0;m\n",
      "\u001b[1;33m[Open3D WARNING] [CreateFromPointCloudAlphaShape] invalid tetra in TetraMesh\u001b[0;m\n",
      "\u001b[1;33m[Open3D WARNING] [CreateFromPointCloudAlphaShape] invalid tetra in TetraMesh\u001b[0;m\n",
      "\u001b[1;33m[Open3D WARNING] [CreateFromPointCloudAlphaShape] invalid tetra in TetraMesh\u001b[0;m\n",
      "\u001b[1;33m[Open3D WARNING] [CreateFromPointCloudAlphaShape] invalid tetra in TetraMesh\u001b[0;m\n",
      "\u001b[1;33m[Open3D WARNING] [CreateFromPointCloudAlphaShape] invalid tetra in TetraMesh\u001b[0;m\n",
      "\u001b[1;33m[Open3D WARNING] [CreateFromPointCloudAlphaShape] invalid tetra in TetraMesh\u001b[0;m\n",
      "\u001b[1;33m[Open3D WARNING] [CreateFromPointCloudAlphaShape] invalid tetra in TetraMesh\u001b[0;m\n",
      "\u001b[1;33m[Open3D WARNING] [CreateFromPointCloudAlphaShape] invalid tetra in TetraMesh\u001b[0;m\n",
      "\u001b[1;33m[Open3D WARNING] [CreateFromPointCloudAlphaShape] invalid tetra in TetraMesh\u001b[0;m\n",
      "\u001b[1;33m[Open3D WARNING] [CreateFromPointCloudAlphaShape] invalid tetra in TetraMesh\u001b[0;m\n",
      "\u001b[1;33m[Open3D WARNING] [CreateFromPointCloudAlphaShape] invalid tetra in TetraMesh\u001b[0;m\n",
      "\u001b[1;33m[Open3D WARNING] [CreateFromPointCloudAlphaShape] invalid tetra in TetraMesh\u001b[0;m\n",
      "\u001b[1;33m[Open3D WARNING] [CreateFromPointCloudAlphaShape] invalid tetra in TetraMesh\u001b[0;m\n",
      "\u001b[1;33m[Open3D WARNING] [CreateFromPointCloudAlphaShape] invalid tetra in TetraMesh\u001b[0;m\n",
      "\u001b[1;33m[Open3D WARNING] Write OBJ can not include triangle normals.\u001b[0;m\n",
      "\u001b[1;33m[Open3D WARNING] Write OBJ can not include triangle normals.\u001b[0;m\n",
      "✅ Re-mesh complete: meshes/oakink_beaker_decomp2_remesh.obj, meshes/oakink_mug2_decomp_remesh.obj\n",
      "Finding correspondences for 4 source points...\n",
      "Closest vertices to input 3D points:\n",
      "  Point 0: [ 0.00886742 -0.04124315 -0.01754964] -> Vertex 2281 (distance: 0.0043)\n",
      "  Point 1: [-0.01223545  0.0363251   0.00719686] -> Vertex 6748 (distance: 0.0044)\n",
      "  Point 2: [-0.01694481  0.03424783 -0.01735426] -> Vertex 5185 (distance: 0.0045)\n",
      "  Point 3: [-0.01596961  0.03464369 -0.02075735] -> Vertex 3559 (distance: 0.0047)\n",
      "Computing features for source mesh...\n"
     ]
    },
    {
     "name": "stderr",
     "output_type": "stream",
     "text": [
      "100%|██████████████████████████████| 10/10 [00:22<00:00,  2.23s/it]\n"
     ]
    },
    {
     "name": "stdout",
     "output_type": "stream",
     "text": [
      "Number of missing features:  542 . Copied features from nearest vertices.\n",
      "Time taken in mins:  0.3980675935745239\n",
      "Computing features for target mesh...\n"
     ]
    },
    {
     "name": "stderr",
     "output_type": "stream",
     "text": [
      "100%|██████████████████████████████| 10/10 [00:19<00:00,  1.93s/it]"
     ]
    },
    {
     "name": "stdout",
     "output_type": "stream",
     "text": [
      "Number of missing features:  1042 . Copied features from nearest vertices.\n",
      "Time taken in mins:  0.3413896958033244\n",
      "  Point 0: Source vertex 2281 -> Target vertex 5183 (similarity: 0.6455)\n",
      "  Point 1: Source vertex 6748 -> Target vertex 2440 (similarity: 0.6323)\n",
      "  Point 2: Source vertex 5185 -> Target vertex 3391 (similarity: 0.6118)\n",
      "  Point 3: Source vertex 3559 -> Target vertex 2954 (similarity: 0.6284)\n",
      "🎨 Visualizing 4 correspondences:\n",
      "  Correspondence 1: Source vertex 2281 ↔ Target vertex 5183 (similarity: 0.6455)\n",
      "    Color: RGB(1.00, 0.20, 0.20)\n",
      "  Correspondence 2: Source vertex 6748 ↔ Target vertex 2440 (similarity: 0.6323)\n",
      "    Color: RGB(0.45, 0.90, 0.00)\n",
      "  Correspondence 3: Source vertex 5185 ↔ Target vertex 3391 (similarity: 0.6118)\n",
      "    Color: RGB(0.20, 1.00, 1.00)\n",
      "  Correspondence 4: Source vertex 3559 ↔ Target vertex 2954 (similarity: 0.6284)\n",
      "    Color: RGB(0.45, 0.00, 0.90)\n",
      "🎯 Creating combined mesh + 3D marker visualization...\n"
     ]
    },
    {
     "name": "stderr",
     "output_type": "stream",
     "text": [
      "\n"
     ]
    },
    {
     "data": {
      "application/vnd.jupyter.widget-view+json": {
       "model_id": "af0edbbe26cc40aaafd44784a34209d9",
       "version_major": 2,
       "version_minor": 0
      },
      "text/plain": [
       "HBox(children=(Output(), Output()))"
      ]
     },
     "metadata": {},
     "output_type": "display_data"
    },
    {
     "data": {
      "application/vnd.jupyter.widget-view+json": {
       "model_id": "6cf0f52c6b1b487f989b7bedbfa11cb2",
       "version_major": 2,
       "version_minor": 0
      },
      "text/plain": [
       "HBox(children=(Output(), Output()))"
      ]
     },
     "metadata": {},
     "output_type": "display_data"
    },
    {
     "name": "stdout",
     "output_type": "stream",
     "text": [
      "✅ Combined mesh + 3D octahedron markers visualization created!\n",
      "   Each correspondence pair has matching colored 3D octahedrons\n",
      "   Source mesh: 9283 vertices + 24 marker vertices\n",
      "   Target mesh: 7340 vertices + 24 marker vertices\n",
      "\n",
      "📊 Correspondence Statistics:\n",
      "  - Average similarity: 0.6295\n",
      "  - Min similarity: 0.6118\n",
      "  - Max similarity: 0.6455\n",
      "  - Total correspondences: 4\n",
      "\n",
      " target_points_3d = \n",
      " [[ 0.0117988  -0.0609269  -0.0114519 ]\n",
      " [-0.0249436   0.0196088   0.00441126]\n",
      " [-0.0253744   0.0209693  -0.0116892 ]\n",
      " [-0.0312149   0.0149998  -0.00086065]]\n",
      "\n",
      "✅ Analysis complete!\n"
     ]
    }
   ],
   "source": [
    "# Mesh paths - modify these to use your own meshes\n",
    "source_mesh_path = \"meshes/oakink_beaker_decomp2.obj\"\n",
    "target_mesh_path = \"meshes/oakink_mug2_decomp.obj\"\n",
    "if remesh: \n",
    "    from utils import remesh_mesh_pair\n",
    "    source_mesh_path, target_mesh_path = remesh_mesh_pair(\n",
    "        source_mesh_path,\n",
    "        target_mesh_path,\n",
    "        num_points=10000,\n",
    "        alpha=0.005\n",
    "    )\n",
    "source_mesh = MeshContainer().load_from_file(source_mesh_path)\n",
    "target_mesh = MeshContainer().load_from_file(target_mesh_path)\n",
    "\n",
    "# Analysis parameters\n",
    "num_views = 10  # Number of views for rendering (reduced for faster computation)\n",
    "source_prompt = \"beaker\"\n",
    "target_prompt = \"mug\"\n",
    "# Run the complete analysis pipeline\n",
    "similarity_colors, raw_similarities, source_point_idx, closest_distance, target_points_3d = run_multi_point_correspondence_analysis(\n",
    "    source_mesh=source_mesh,\n",
    "    target_mesh=target_mesh,\n",
    "    source_points_3d=source_points_3d,\n",
    "    device=device,\n",
    "    pipe=pipe,\n",
    "    dino_model=dino_model,\n",
    "    source_prompt=source_prompt,\n",
    "    target_prompt=target_prompt,\n",
    "    num_views=num_views\n",
    ")\n",
    "\n",
    "print(\"\\n target_points_3d = \\n\", target_points_3d)\n",
    "print(\"\\n✅ Analysis complete!\")"
   ]
  },
  {
   "cell_type": "markdown",
   "id": "41ac08a5-c7bf-4031-b543-3ace0b298a32",
   "metadata": {
    "scrolled": true
   },
   "source": [
    "#### Note the vase has issue with point distribution for re-meshing. "
   ]
  },
  {
   "cell_type": "code",
   "execution_count": 60,
   "id": "cc70839c-e2f4-4a01-bdf2-c9ac36ab67ac",
   "metadata": {},
   "outputs": [
    {
     "name": "stdout",
     "output_type": "stream",
     "text": [
      "Source mesh: 11799 vertices, 23334 faces\n",
      "Target mesh: 7845 vertices, 15610 faces\n",
      "Finding correspondences for 4 source points...\n",
      "Closest vertices to input 3D points:\n",
      "  Point 0: [ 0.00886742 -0.04124315 -0.01754964] -> Vertex 5663 (distance: 0.0100)\n",
      "  Point 1: [-0.01223545  0.0363251   0.00719686] -> Vertex 9145 (distance: 0.0116)\n",
      "  Point 2: [-0.01694481  0.03424783 -0.01735426] -> Vertex 2712 (distance: 0.0060)\n",
      "  Point 3: [-0.01596961  0.03464369 -0.02075735] -> Vertex 2740 (distance: 0.0053)\n",
      "Computing features for source mesh...\n"
     ]
    },
    {
     "name": "stderr",
     "output_type": "stream",
     "text": [
      "100%|██████████████████████████████| 10/10 [00:25<00:00,  2.55s/it]\n"
     ]
    },
    {
     "name": "stdout",
     "output_type": "stream",
     "text": [
      "Number of missing features:  982 . Copied features from nearest vertices.\n",
      "Time taken in mins:  0.45577502250671387\n",
      "Computing features for target mesh...\n"
     ]
    },
    {
     "name": "stderr",
     "output_type": "stream",
     "text": [
      "100%|██████████████████████████████| 10/10 [00:22<00:00,  2.25s/it]"
     ]
    },
    {
     "name": "stdout",
     "output_type": "stream",
     "text": [
      "Number of missing features:  572 . Copied features from nearest vertices.\n",
      "Time taken in mins:  0.3956053137779236\n",
      "  Point 0: Source vertex 5663 -> Target vertex 892 (similarity: 0.5967)\n",
      "  Point 1: Source vertex 9145 -> Target vertex 4976 (similarity: 0.4028)\n",
      "  Point 2: Source vertex 2712 -> Target vertex 4647 (similarity: 0.6406)\n",
      "  Point 3: Source vertex 2740 -> Target vertex 4647 (similarity: 0.6357)\n",
      "🎨 Visualizing 4 correspondences:\n",
      "  Correspondence 1: Source vertex 5663 ↔ Target vertex 892 (similarity: 0.5967)\n",
      "    Color: RGB(1.00, 0.20, 0.20)\n",
      "  Correspondence 2: Source vertex 9145 ↔ Target vertex 4976 (similarity: 0.4028)\n",
      "    Color: RGB(0.45, 0.90, 0.00)\n",
      "  Correspondence 3: Source vertex 2712 ↔ Target vertex 4647 (similarity: 0.6406)\n",
      "    Color: RGB(0.20, 1.00, 1.00)\n",
      "  Correspondence 4: Source vertex 2740 ↔ Target vertex 4647 (similarity: 0.6357)\n",
      "    Color: RGB(0.45, 0.00, 0.90)\n",
      "🎯 Creating combined mesh + 3D marker visualization...\n"
     ]
    },
    {
     "name": "stderr",
     "output_type": "stream",
     "text": [
      "\n"
     ]
    },
    {
     "data": {
      "application/vnd.jupyter.widget-view+json": {
       "model_id": "826e4c6bbc054c8aa1bcae75da7bb5f6",
       "version_major": 2,
       "version_minor": 0
      },
      "text/plain": [
       "HBox(children=(Output(), Output()))"
      ]
     },
     "metadata": {},
     "output_type": "display_data"
    },
    {
     "data": {
      "application/vnd.jupyter.widget-view+json": {
       "model_id": "d3a43ffaa8fc462cb68e7f240965d55d",
       "version_major": 2,
       "version_minor": 0
      },
      "text/plain": [
       "HBox(children=(Output(), Output()))"
      ]
     },
     "metadata": {},
     "output_type": "display_data"
    },
    {
     "name": "stdout",
     "output_type": "stream",
     "text": [
      "✅ Combined mesh + 3D octahedron markers visualization created!\n",
      "   Each correspondence pair has matching colored 3D octahedrons\n",
      "   Source mesh: 11799 vertices + 24 marker vertices\n",
      "   Target mesh: 7845 vertices + 24 marker vertices\n",
      "\n",
      "📊 Correspondence Statistics:\n",
      "  - Average similarity: 0.5690\n",
      "  - Min similarity: 0.4028\n",
      "  - Max similarity: 0.6406\n",
      "  - Total correspondences: 4\n",
      "\n",
      " target_points_3d = \n",
      " [[ 0.01797572 -0.0314595  -0.03472932]\n",
      " [-0.00011542  0.01414152  0.06510469]\n",
      " [ 0.00510972  0.02760778 -0.00388352]\n",
      " [ 0.00510972  0.02760778 -0.00388352]]\n",
      "\n",
      "✅ Analysis complete!\n"
     ]
    }
   ],
   "source": [
    "# Mesh paths - modify these to use your own meshes\n",
    "source_mesh_path = \"meshes/oakink_beaker_decomp2.obj\"\n",
    "target_mesh_path = \"meshes/oakink_vase_decomp.obj\"\n",
    "if 0: \n",
    "    from utils import remesh_mesh_pair\n",
    "    source_mesh_path, target_mesh_path = remesh_mesh_pair(\n",
    "        source_mesh_path,\n",
    "        target_mesh_path,\n",
    "        num_points=10000,\n",
    "        alpha=0.005\n",
    "    )\n",
    "source_mesh = MeshContainer().load_from_file(source_mesh_path)\n",
    "target_mesh = MeshContainer().load_from_file(target_mesh_path)\n",
    "\n",
    "print(f\"Source mesh: {len(source_mesh.vert)} vertices, {len(source_mesh.face)} faces\")\n",
    "print(f\"Target mesh: {len(target_mesh.vert)} vertices, {len(target_mesh.face)} faces\")\n",
    "\n",
    "# Analysis parameters\n",
    "num_views = 10  # Number of views for rendering (reduced for faster computation)\n",
    "source_prompt = \"beaker\"\n",
    "target_prompt = \"vase\"\n",
    "# Run the complete analysis pipeline\n",
    "similarity_colors, raw_similarities, source_point_idx, closest_distance, target_points_3d = run_multi_point_correspondence_analysis(\n",
    "    source_mesh=source_mesh,\n",
    "    target_mesh=target_mesh,\n",
    "    source_points_3d=source_points_3d,\n",
    "    device=device,\n",
    "    pipe=pipe,\n",
    "    dino_model=dino_model,\n",
    "    source_prompt=source_prompt,\n",
    "    target_prompt=target_prompt,\n",
    "    num_views=num_views\n",
    ")\n",
    "\n",
    "print(\"\\n target_points_3d = \\n\", target_points_3d)\n",
    "print(\"\\n✅ Analysis complete!\")"
   ]
  },
  {
   "cell_type": "code",
   "execution_count": 56,
   "id": "3762447e-e339-4936-a3ef-03943fd51ae2",
   "metadata": {},
   "outputs": [],
   "source": [
    "if 0:\n",
    "    import open3d as o3d\n",
    "    mesh = o3d.io.read_triangle_mesh(target_mesh_path)\n",
    "    \n",
    "    # Create a point cloud with a uniform density using Poisson disk sampling\n",
    "    # The number_of_points parameter controls the point density.\n",
    "    # A higher number will result in a finer, more detailed final mesh.\n",
    "    pcd = mesh.sample_points_poisson_disk(number_of_points=1000)\n",
    "    \n",
    "    # Optional: Visualize the point cloud to inspect the distribution\n",
    "    o3d.visualization.draw_geometries([pcd])\n",
    "    \n",
    "    # The alpha parameter controls the size of the spheres used to create the mesh.\n",
    "    # A smaller alpha will produce a tighter mesh that follows the point cloud more closely,\n",
    "    # while a larger alpha will create a coarser mesh.\n",
    "    alpha = 0.005\n",
    "    new_mesh = o3d.geometry.TriangleMesh.create_from_point_cloud_alpha_shape(pcd, alpha)\n",
    "    \n",
    "    # Compute vertex normals for correct lighting and shading\n",
    "    new_mesh.compute_vertex_normals()\n",
    "    \n",
    "    # Visualize the new mesh\n",
    "    o3d.visualization.draw_geometries([new_mesh], mesh_show_back_face=True)\n",
    "    \n",
    "    # Optional: Save the new mesh\n",
    "    # o3d.io.write_triangle_mesh(\"uniform_remeshed.ply\", new_mesh)\n",
    "\n",
    "    # Convert mesh to LineSet (wireframe representation)\n",
    "    wireframe = o3d.geometry.LineSet.create_from_triangle_mesh(new_mesh)\n",
    "    wireframe.paint_uniform_color([0, 0, 0])  # black wireframe\n",
    "    \n",
    "    # Show wireframe\n",
    "    o3d.visualization.draw_geometries([wireframe])\n",
    "    \n"
   ]
  },
  {
   "cell_type": "code",
   "execution_count": 70,
   "id": "5379b271-60e7-4f4a-9e0b-911ec5d3ee4b",
   "metadata": {},
   "outputs": [
    {
     "name": "stdout",
     "output_type": "stream",
     "text": [
      "Source mesh: 11799 vertices, 23334 faces\n",
      "Target mesh: 13513 vertices, 26746 faces\n",
      "Finding correspondences for 4 source points...\n",
      "Closest vertices to input 3D points:\n",
      "  Point 0: [ 0.00886742 -0.04124315 -0.01754964] -> Vertex 5663 (distance: 0.0100)\n",
      "  Point 1: [-0.01223545  0.0363251   0.00719686] -> Vertex 9145 (distance: 0.0116)\n",
      "  Point 2: [-0.01694481  0.03424783 -0.01735426] -> Vertex 2712 (distance: 0.0060)\n",
      "  Point 3: [-0.01596961  0.03464369 -0.02075735] -> Vertex 2740 (distance: 0.0053)\n",
      "Computing features for source mesh...\n"
     ]
    },
    {
     "name": "stderr",
     "output_type": "stream",
     "text": [
      "100%|██████████████████████████████| 20/20 [00:50<00:00,  2.50s/it]\n"
     ]
    },
    {
     "name": "stdout",
     "output_type": "stream",
     "text": [
      "Number of missing features:  521 . Copied features from nearest vertices.\n",
      "Time taken in mins:  0.8935544927914937\n",
      "Computing features for target mesh...\n"
     ]
    },
    {
     "name": "stderr",
     "output_type": "stream",
     "text": [
      "100%|██████████████████████████████| 20/20 [00:51<00:00,  2.60s/it]"
     ]
    },
    {
     "name": "stdout",
     "output_type": "stream",
     "text": [
      "Number of missing features:  1067 . Copied features from nearest vertices.\n",
      "Time taken in mins:  0.9328925530115764\n",
      "  Point 0: Source vertex 5663 -> Target vertex 4003 (similarity: 0.7969)\n",
      "  Point 1: Source vertex 9145 -> Target vertex 8806 (similarity: 0.3945)\n",
      "  Point 2: Source vertex 2712 -> Target vertex 71 (similarity: 0.8716)\n",
      "  Point 3: Source vertex 2740 -> Target vertex 71 (similarity: 0.8643)\n",
      "🎨 Visualizing 4 correspondences:\n",
      "  Correspondence 1: Source vertex 5663 ↔ Target vertex 4003 (similarity: 0.7969)\n",
      "    Color: RGB(1.00, 0.20, 0.20)\n",
      "  Correspondence 2: Source vertex 9145 ↔ Target vertex 8806 (similarity: 0.3945)\n",
      "    Color: RGB(0.45, 0.90, 0.00)\n",
      "  Correspondence 3: Source vertex 2712 ↔ Target vertex 71 (similarity: 0.8716)\n",
      "    Color: RGB(0.20, 1.00, 1.00)\n",
      "  Correspondence 4: Source vertex 2740 ↔ Target vertex 71 (similarity: 0.8643)\n",
      "    Color: RGB(0.45, 0.00, 0.90)\n",
      "🎯 Creating combined mesh + 3D marker visualization...\n"
     ]
    },
    {
     "name": "stderr",
     "output_type": "stream",
     "text": [
      "\n"
     ]
    },
    {
     "data": {
      "application/vnd.jupyter.widget-view+json": {
       "model_id": "285f0a1abe014fb78a6c84b206e7fc3a",
       "version_major": 2,
       "version_minor": 0
      },
      "text/plain": [
       "HBox(children=(Output(), Output()))"
      ]
     },
     "metadata": {},
     "output_type": "display_data"
    },
    {
     "data": {
      "application/vnd.jupyter.widget-view+json": {
       "model_id": "d5e7d1bbb33f4454856c2bb4854837ca",
       "version_major": 2,
       "version_minor": 0
      },
      "text/plain": [
       "HBox(children=(Output(), Output()))"
      ]
     },
     "metadata": {},
     "output_type": "display_data"
    },
    {
     "name": "stdout",
     "output_type": "stream",
     "text": [
      "✅ Combined mesh + 3D octahedron markers visualization created!\n",
      "   Each correspondence pair has matching colored 3D octahedrons\n",
      "   Source mesh: 11799 vertices + 24 marker vertices\n",
      "   Target mesh: 13513 vertices + 24 marker vertices\n",
      "\n",
      "📊 Correspondence Statistics:\n",
      "  - Average similarity: 0.7318\n",
      "  - Min similarity: 0.3945\n",
      "  - Max similarity: 0.8716\n",
      "  - Total correspondences: 4\n",
      "\n",
      " target_points_3d = \n",
      " [[ 0.03289173 -0.05716169 -0.0028039 ]\n",
      " [ 0.00190182 -0.04391325  0.07511032]\n",
      " [ 0.00946672  0.06469485  0.0045614 ]\n",
      " [ 0.00946672  0.06469485  0.0045614 ]]\n",
      "\n",
      "✅ Analysis complete!\n"
     ]
    }
   ],
   "source": [
    "# Mesh paths - modify these to use your own meshes\n",
    "source_mesh_path = \"meshes/oakink_beaker_decomp2.obj\"\n",
    "target_mesh_path = \"meshes/oakink_jar_decomp.obj\"\n",
    "if 0: \n",
    "    from utils import remesh_mesh_pair\n",
    "    source_mesh_path, target_mesh_path = remesh_mesh_pair(\n",
    "        source_mesh_path,\n",
    "        target_mesh_path,\n",
    "        num_points=10000,\n",
    "        alpha=0.005\n",
    "    )\n",
    "    \n",
    "source_mesh = MeshContainer().load_from_file(source_mesh_path)\n",
    "target_mesh = MeshContainer().load_from_file(target_mesh_path)\n",
    "\n",
    "print(f\"Source mesh: {len(source_mesh.vert)} vertices, {len(source_mesh.face)} faces\")\n",
    "print(f\"Target mesh: {len(target_mesh.vert)} vertices, {len(target_mesh.face)} faces\")\n",
    "\n",
    "# Analysis parameters\n",
    "num_views = 20  # Number of views for rendering (reduced for faster computation)\n",
    "source_prompt = \"beaker\"\n",
    "target_prompt = \"jar\"\n",
    "# Run the complete analysis pipeline\n",
    "similarity_colors, raw_similarities, source_point_idx, closest_distance, target_points_3d = run_multi_point_correspondence_analysis(\n",
    "    source_mesh=source_mesh,\n",
    "    target_mesh=target_mesh,\n",
    "    source_points_3d=source_points_3d,\n",
    "    device=device,\n",
    "    pipe=pipe,\n",
    "    dino_model=dino_model,\n",
    "    source_prompt=source_prompt,\n",
    "    target_prompt=target_prompt,\n",
    "    num_views=num_views\n",
    ")\n",
    "\n",
    "print(\"\\n target_points_3d = \\n\", target_points_3d)\n",
    "print(\"\\n✅ Analysis complete!\")"
   ]
  },
  {
   "cell_type": "code",
   "execution_count": null,
   "id": "dd540bc5-03d9-4488-b9bf-0b1183332c11",
   "metadata": {},
   "outputs": [],
   "source": []
  },
  {
   "cell_type": "markdown",
   "id": "f693f9b8",
   "metadata": {},
   "source": [
    "## 7. Analyze Results\n",
    "\n",
    "Let's examine the similarity scores and find the most similar regions."
   ]
  },
  {
   "cell_type": "code",
   "execution_count": null,
   "id": "0d472d74",
   "metadata": {},
   "outputs": [],
   "source": [
    "# Find the most similar points on target mesh\n",
    "top_k = 10\n",
    "most_similar_indices = np.argsort(raw_similarities)[-top_k:][::-1]\n",
    "least_similar_indices = np.argsort(raw_similarities)[:top_k]\n",
    "\n",
    "print(f\"📊 Similarity Statistics:\")\n",
    "print(f\"- Min similarity: {raw_similarities.min():.4f}\")\n",
    "print(f\"- Max similarity: {raw_similarities.max():.4f}\")\n",
    "print(f\"- Mean similarity: {raw_similarities.mean():.4f}\")\n",
    "print(f\"- Std similarity: {raw_similarities.std():.4f}\")\n",
    "\n",
    "print(f\"\\n🔥 Top {top_k} most similar vertices on target mesh:\")\n",
    "for i, idx in enumerate(most_similar_indices):\n",
    "    print(f\"  {i+1:2d}. Vertex {idx:5d}: similarity = {raw_similarities[idx]:.4f}\")\n",
    "\n",
    "print(f\"\\n❄️  Bottom {top_k} least similar vertices on target mesh:\")\n",
    "for i, idx in enumerate(least_similar_indices):\n",
    "    print(f\"  {i+1:2d}. Vertex {idx:5d}: similarity = {raw_similarities[idx]:.4f}\")"
   ]
  },
  {
   "cell_type": "markdown",
   "id": "2ddfe71d",
   "metadata": {},
   "source": [
    "## 8. Visualize Similarity Distribution\n",
    "\n",
    "Plot the distribution of similarity scores to understand the data better."
   ]
  },
  {
   "cell_type": "code",
   "execution_count": null,
   "id": "385b7406",
   "metadata": {},
   "outputs": [],
   "source": [
    "import matplotlib.pyplot as plt \n",
    "\n",
    "# Plot similarity distribution\n",
    "plt.figure(figsize=(12, 4))\n",
    "\n",
    "plt.subplot(1, 2, 1)\n",
    "plt.hist(raw_similarities, bins=50, alpha=0.7, edgecolor='black')\n",
    "plt.axvline(raw_similarities.mean(), color='red', linestyle='--', label=f'Mean: {raw_similarities.mean():.3f}')\n",
    "plt.axvline(raw_similarities.max(), color='green', linestyle='--', label=f'Max: {raw_similarities.max():.3f}')\n",
    "plt.xlabel('Similarity Score')\n",
    "plt.ylabel('Frequency')\n",
    "plt.title('Distribution of Similarity Scores')\n",
    "plt.legend()\n",
    "plt.grid(True, alpha=0.3)\n",
    "\n",
    "plt.subplot(1, 2, 2)\n",
    "plt.plot(sorted(raw_similarities, reverse=True), linewidth=2)\n",
    "plt.xlabel('Vertex Rank (sorted by similarity)')\n",
    "plt.ylabel('Similarity Score')\n",
    "plt.title('Similarity Scores (Ranked)')\n",
    "plt.grid(True, alpha=0.3)\n",
    "\n",
    "plt.tight_layout()\n",
    "plt.show()"
   ]
  },
  {
   "cell_type": "markdown",
   "id": "9bec786b",
   "metadata": {},
   "source": [
    "## 9. Interactive Visualization\n",
    "\n",
    "The main result visualization showing:\n",
    "- **Left**: Source mesh (gray) with the selected point highlighted in red\n",
    "- **Right**: Target mesh colored by similarity (warmer colors = more similar)\n",
    "\n",
    "You can interact with the 3D visualization to rotate and zoom the meshes."
   ]
  },
  {
   "cell_type": "code",
   "execution_count": null,
   "id": "645b2a72",
   "metadata": {},
   "outputs": [],
   "source": [
    "print(\"🎨 Interactive Visualization:\")\n",
    "print(\"- Source mesh (left): Gray with red point showing the reference vertex\")\n",
    "print(\"- Target mesh (right): Colored by similarity (warmer colors = more similar)\")\n",
    "print(\"- Use mouse to rotate and zoom the 3D view\")\n",
    "\n",
    "# The visualization was already created by run_point_similarity_analysis\n",
    "# But let's create it again with custom colormap options\n",
    "visualize_point_similarity(\n",
    "    source_mesh=source_mesh,\n",
    "    target_mesh=target_mesh,\n",
    "    source_point_idx=source_point_idx,\n",
    "    similarity_colors=similarity_colors,\n",
    ")"
   ]
  },
  {
   "cell_type": "markdown",
   "id": "65f4dff0",
   "metadata": {},
   "source": [
    "## 10. Experiment with Different Points\n",
    "\n",
    "Try analyzing different points on the source mesh to see how similarity patterns change."
   ]
  },
  {
   "cell_type": "code",
   "execution_count": null,
   "id": "76965326",
   "metadata": {},
   "outputs": [],
   "source": [
    "# Experiment with different source points\n",
    "# You can change these indices and re-run this cell\n",
    "experiment_points = [100, 500, 1500, 2000]  # Different vertex indices to try\n",
    "\n",
    "for point_idx in experiment_points:\n",
    "    if point_idx < len(source_mesh.vert):\n",
    "        print(f\"\\n🔬 Experimenting with source vertex {point_idx}...\")\n",
    "\n",
    "        # Quick analysis with fewer views for faster computation\n",
    "        exp_colors, exp_similarities = point_similarity_colormap(\n",
    "            device=device,\n",
    "            pipe=pipe,\n",
    "            dino_model=dino_model,\n",
    "            source_mesh=source_mesh,\n",
    "            target_mesh=target_mesh,\n",
    "            source_point_idx=point_idx,\n",
    "            prompt=prompt,\n",
    "            num_views=10  # Fewer views for quick experiment\n",
    "        )\n",
    "\n",
    "        # Show quick stats\n",
    "        top_match = np.argmax(exp_similarities)\n",
    "        print(f\"  Best match: vertex {top_match} (similarity: {exp_similarities[top_match]:.4f})\")\n",
    "\n",
    "        # Visualize\n",
    "        visualize_point_similarity(\n",
    "            source_mesh=source_mesh,\n",
    "            target_mesh=target_mesh,\n",
    "            source_point_idx=point_idx,\n",
    "            similarity_colors=exp_colors,\n",
    "            colormap='viridis'\n",
    "        )\n",
    "    else:\n",
    "        print(f\"Skipping vertex {point_idx} (mesh only has {len(source_mesh.vert)} vertices)\")"
   ]
  },
  {
   "cell_type": "markdown",
   "id": "b4e136c9",
   "metadata": {},
   "source": [
    "## 11. Save Results (Optional)\n",
    "\n",
    "Save the similarity data for later analysis."
   ]
  },
  {
   "cell_type": "code",
   "execution_count": null,
   "id": "474618dd",
   "metadata": {},
   "outputs": [],
   "source": [
    "# Save results to files\n",
    "output_prefix = f\"similarity_results_vertex_{source_point_idx}\"\n",
    "\n",
    "# Save similarity scores\n",
    "np.save(f\"{output_prefix}_similarities.npy\", raw_similarities)\n",
    "np.save(f\"{output_prefix}_colors.npy\", similarity_colors)\n",
    "\n",
    "# Save analysis summary\n",
    "summary = {\n",
    "    'source_mesh_path': source_mesh_path,\n",
    "    'target_mesh_path': target_mesh_path,\n",
    "    'source_point_idx': source_point_idx,\n",
    "    'prompt': prompt,\n",
    "    'num_views': num_views,\n",
    "    'min_similarity': float(raw_similarities.min()),\n",
    "    'max_similarity': float(raw_similarities.max()),\n",
    "    'mean_similarity': float(raw_similarities.mean()),\n",
    "    'std_similarity': float(raw_similarities.std()),\n",
    "    'top_matches': [int(idx) for idx in most_similar_indices[:5]]\n",
    "}\n",
    "\n",
    "import json\n",
    "with open(f\"{output_prefix}_summary.json\", 'w') as f:\n",
    "    json.dump(summary, f, indent=2)\n",
    "\n",
    "print(f\"✅ Results saved:\")\n",
    "print(f\"  - Similarities: {output_prefix}_similarities.npy\")\n",
    "print(f\"  - Colors: {output_prefix}_colors.npy\")\n",
    "print(f\"  - Summary: {output_prefix}_summary.json\")"
   ]
  },
  {
   "cell_type": "markdown",
   "id": "d96f80cb",
   "metadata": {},
   "source": [
    "## Summary\n",
    "\n",
    "This notebook demonstrated how to:\n",
    "\n",
    "1. ✅ Load and visualize 3D meshes\n",
    "2. ✅ Extract semantic features using diffusion + DINO models\n",
    "3. ✅ Compute similarity between a specific source point and all target vertices\n",
    "4. ✅ Visualize results with interactive 3D plots\n",
    "5. ✅ Analyze similarity distributions and find best matches\n",
    "6. ✅ Experiment with different source points\n",
    "7. ✅ Save results for future analysis\n",
    "\n",
    "### Next Steps\n",
    "\n",
    "- Try different mesh pairs\n",
    "- Experiment with different prompts\n",
    "- Adjust the number of views for quality vs. speed trade-offs\n",
    "- Use the saved similarity data for further analysis or applications"
   ]
  }
 ],
 "metadata": {
  "kernelspec": {
   "display_name": "Python (diff3f_copy2)",
   "language": "python",
   "name": "diff3f_copy2"
  },
  "language_info": {
   "codemirror_mode": {
    "name": "ipython",
    "version": 3
   },
   "file_extension": ".py",
   "mimetype": "text/x-python",
   "name": "python",
   "nbconvert_exporter": "python",
   "pygments_lexer": "ipython3",
   "version": "3.10.18"
  }
 },
 "nbformat": 4,
 "nbformat_minor": 5
}
