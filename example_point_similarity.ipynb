{
 "cells": [
  {
   "cell_type": "markdown",
   "id": "b155ea17",
   "metadata": {},
   "source": [
    "# Point-to-Mesh Similarity Analysis\n",
    "\n",
    "This notebook demonstrates how to:\n",
    "1. Load two meshes\n",
    "2. Specify a particular point on the source mesh\n",
    "3. Color-map the target mesh based on similarity to that point\n",
    "\n",
    "The analysis uses diffusion features + DINO features to compute semantic similarity between mesh vertices."
   ]
  },
  {
   "cell_type": "markdown",
   "id": "b2dc6797",
   "metadata": {},
   "source": [
    "## 1. Import Dependencies"
   ]
  },
  {
   "cell_type": "code",
   "execution_count": null,
   "id": "930249c2",
   "metadata": {},
   "outputs": [],
   "source": [
    "import torch\n",
    "import numpy as np\n",
    "from dataloaders.mesh_container import MeshContainer\n",
    "from diffusion import init_pipe\n",
    "from dino import init_dino\n",
    "from point_to_mesh_similarity import run_point_similarity_analysis, point_similarity_colormap, visualize_point_similarity\n",
    "import meshplot as mp\n",
    "import matplotlib.pyplot as plt\n",
    "\n",
    "# Set up device\n",
    "device = torch.device(\"cuda\" if torch.cuda.is_available() else \"cpu\")\n",
    "print(f\"Using device: {device}\")"
   ]
  },
  {
   "cell_type": "markdown",
   "id": "91398f0c",
   "metadata": {},
   "source": [
    "## 2. Initialize Models\n",
    "\n",
    "This step loads the diffusion pipeline and DINO model for feature extraction."
   ]
  },
  {
   "cell_type": "code",
   "execution_count": null,
   "id": "394b3ae4",
   "metadata": {},
   "outputs": [],
   "source": [
    "print(\"Initializing diffusion pipeline...\")\n",
    "pipe = init_pipe(device)\n",
    "\n",
    "print(\"Initializing DINO model...\")\n",
    "dino_model = init_dino(device)\n",
    "\n",
    "print(\"Models initialized successfully!\")"
   ]
  },
  {
   "cell_type": "markdown",
   "id": "af19f72e",
   "metadata": {},
   "source": [
    "## 3. Load Meshes\n",
    "\n",
    "Load your source and target meshes. You can modify the paths below to use your own meshes."
   ]
  },
  {
   "cell_type": "code",
   "execution_count": null,
   "id": "6bc0c293",
   "metadata": {},
   "outputs": [],
   "source": [
    "# Mesh paths - modify these to use your own meshes\n",
    "source_mesh_path = \"meshes/cat.off\"  # Example mesh\n",
    "target_mesh_path = \"meshes/lion.off\"  # Example mesh\n",
    "\n",
    "print(f\"Loading source mesh: {source_mesh_path}\")\n",
    "source_mesh = MeshContainer(source_mesh_path)\n",
    "\n",
    "print(f\"Loading target mesh: {target_mesh_path}\")\n",
    "target_mesh = MeshContainer(target_mesh_path)\n",
    "\n",
    "print(f\"Source mesh: {len(source_mesh.vert)} vertices, {len(source_mesh.face)} faces\")\n",
    "print(f\"Target mesh: {len(target_mesh.vert)} vertices, {len(target_mesh.face)} faces\")"
   ]
  },
  {
   "cell_type": "markdown",
   "id": "4c6403ea",
   "metadata": {},
   "source": [
    "## 4. Preview Meshes\n",
    "\n",
    "Let's visualize the meshes before analysis to get familiar with their structure."
   ]
  },
  {
   "cell_type": "code",
   "execution_count": null,
   "id": "9ebd9cf0",
   "metadata": {},
   "outputs": [],
   "source": [
    "# Preview the meshes side by side\n",
    "d = mp.subplot(source_mesh.vert, source_mesh.face, s=[2, 2, 0])\n",
    "mp.subplot(target_mesh.vert, target_mesh.face, s=[2, 2, 1], data=d)\n",
    "print(\"Left: Source mesh | Right: Target mesh\")"
   ]
  },
  {
   "cell_type": "markdown",
   "id": "354bd759",
   "metadata": {},
   "source": [
    "## 5. Configure Analysis Parameters\n",
    "\n",
    "Set up the parameters for the similarity analysis."
   ]
  },
  {
   "cell_type": "code",
   "execution_count": null,
   "id": "35136983",
   "metadata": {},
   "outputs": [],
   "source": [
    "# Analysis parameters\n",
    "source_point_idx = 1000  # Choose any vertex index (0 to num_vertices-1)\n",
    "prompt = \"a 3D animal model\"  # Text prompt for feature extraction\n",
    "num_views = 30  # Number of views for rendering (reduced for faster computation)\n",
    "\n",
    "# Validate the source point index\n",
    "if source_point_idx >= len(source_mesh.vert):\n",
    "    source_point_idx = len(source_mesh.vert) // 2  # Use middle vertex as fallback\n",
    "    print(f\"Adjusted source_point_idx to {source_point_idx} (mesh has {len(source_mesh.vert)} vertices)\")\n",
    "\n",
    "print(f\"\\nAnalysis Configuration:\")\n",
    "print(f\"- Source point vertex index: {source_point_idx}\")\n",
    "print(f\"- Text prompt: '{prompt}'\")\n",
    "print(f\"- Number of views: {num_views}\")"
   ]
  },
  {
   "cell_type": "markdown",
   "id": "2c7dd12e",
   "metadata": {},
   "source": [
    "## 6. Run Similarity Analysis\n",
    "\n",
    "This is the main computation step. It will:\n",
    "1. Extract features for both meshes using multiple camera views\n",
    "2. Compute similarity between the specified source point and all target vertices\n",
    "3. Generate the visualization\n",
    "\n",
    "⚠️ **Note**: This step can take several minutes depending on mesh complexity and number of views."
   ]
  },
  {
   "cell_type": "code",
   "execution_count": null,
   "id": "c63dd916",
   "metadata": {},
   "outputs": [],
   "source": [
    "print(f\"Starting similarity analysis for source vertex {source_point_idx}...\")\n",
    "print(\"This may take several minutes...\\n\")\n",
    "\n",
    "# Run the complete analysis pipeline\n",
    "similarity_colors, raw_similarities = run_point_similarity_analysis(\n",
    "    source_mesh=source_mesh,\n",
    "    target_mesh=target_mesh,\n",
    "    source_point_idx=source_point_idx,\n",
    "    device=device,\n",
    "    pipe=pipe,\n",
    "    dino_model=dino_model,\n",
    "    prompt=prompt,\n",
    "    num_views=num_views\n",
    ")\n",
    "\n",
    "print(\"\\n✅ Analysis complete!\")"
   ]
  },
  {
   "cell_type": "markdown",
   "id": "f693f9b8",
   "metadata": {},
   "source": [
    "## 7. Analyze Results\n",
    "\n",
    "Let's examine the similarity scores and find the most similar regions."
   ]
  },
  {
   "cell_type": "code",
   "execution_count": null,
   "id": "0d472d74",
   "metadata": {},
   "outputs": [],
   "source": [
    "# Find the most similar points on target mesh\n",
    "top_k = 10\n",
    "most_similar_indices = np.argsort(raw_similarities)[-top_k:][::-1]\n",
    "least_similar_indices = np.argsort(raw_similarities)[:top_k]\n",
    "\n",
    "print(f\"📊 Similarity Statistics:\")\n",
    "print(f\"- Min similarity: {raw_similarities.min():.4f}\")\n",
    "print(f\"- Max similarity: {raw_similarities.max():.4f}\")\n",
    "print(f\"- Mean similarity: {raw_similarities.mean():.4f}\")\n",
    "print(f\"- Std similarity: {raw_similarities.std():.4f}\")\n",
    "\n",
    "print(f\"\\n🔥 Top {top_k} most similar vertices on target mesh:\")\n",
    "for i, idx in enumerate(most_similar_indices):\n",
    "    print(f\"  {i+1:2d}. Vertex {idx:5d}: similarity = {raw_similarities[idx]:.4f}\")\n",
    "\n",
    "print(f\"\\n❄️  Bottom {top_k} least similar vertices on target mesh:\")\n",
    "for i, idx in enumerate(least_similar_indices):\n",
    "    print(f\"  {i+1:2d}. Vertex {idx:5d}: similarity = {raw_similarities[idx]:.4f}\")"
   ]
  },
  {
   "cell_type": "markdown",
   "id": "2ddfe71d",
   "metadata": {},
   "source": [
    "## 8. Visualize Similarity Distribution\n",
    "\n",
    "Plot the distribution of similarity scores to understand the data better."
   ]
  },
  {
   "cell_type": "code",
   "execution_count": null,
   "id": "385b7406",
   "metadata": {},
   "outputs": [],
   "source": [
    "# Plot similarity distribution\n",
    "plt.figure(figsize=(12, 4))\n",
    "\n",
    "plt.subplot(1, 2, 1)\n",
    "plt.hist(raw_similarities, bins=50, alpha=0.7, edgecolor='black')\n",
    "plt.axvline(raw_similarities.mean(), color='red', linestyle='--', label=f'Mean: {raw_similarities.mean():.3f}')\n",
    "plt.axvline(raw_similarities.max(), color='green', linestyle='--', label=f'Max: {raw_similarities.max():.3f}')\n",
    "plt.xlabel('Similarity Score')\n",
    "plt.ylabel('Frequency')\n",
    "plt.title('Distribution of Similarity Scores')\n",
    "plt.legend()\n",
    "plt.grid(True, alpha=0.3)\n",
    "\n",
    "plt.subplot(1, 2, 2)\n",
    "plt.plot(sorted(raw_similarities, reverse=True), linewidth=2)\n",
    "plt.xlabel('Vertex Rank (sorted by similarity)')\n",
    "plt.ylabel('Similarity Score')\n",
    "plt.title('Similarity Scores (Ranked)')\n",
    "plt.grid(True, alpha=0.3)\n",
    "\n",
    "plt.tight_layout()\n",
    "plt.show()"
   ]
  },
  {
   "cell_type": "markdown",
   "id": "9bec786b",
   "metadata": {},
   "source": [
    "## 9. Interactive Visualization\n",
    "\n",
    "The main result visualization showing:\n",
    "- **Left**: Source mesh (gray) with the selected point highlighted in red\n",
    "- **Right**: Target mesh colored by similarity (warmer colors = more similar)\n",
    "\n",
    "You can interact with the 3D visualization to rotate and zoom the meshes."
   ]
  },
  {
   "cell_type": "code",
   "execution_count": null,
   "id": "645b2a72",
   "metadata": {},
   "outputs": [],
   "source": [
    "print(\"🎨 Interactive Visualization:\")\n",
    "print(\"- Source mesh (left): Gray with red point showing the reference vertex\")\n",
    "print(\"- Target mesh (right): Colored by similarity (warmer colors = more similar)\")\n",
    "print(\"- Use mouse to rotate and zoom the 3D view\")\n",
    "\n",
    "# The visualization was already created by run_point_similarity_analysis\n",
    "# But let's create it again with custom colormap options\n",
    "visualize_point_similarity(\n",
    "    source_mesh=source_mesh,\n",
    "    target_mesh=target_mesh,\n",
    "    source_point_idx=source_point_idx,\n",
    "    similarity_colors=similarity_colors,\n",
    "    colormap='plasma'  # Try 'viridis', 'plasma', 'inferno', 'magma'\n",
    ")"
   ]
  },
  {
   "cell_type": "markdown",
   "id": "65f4dff0",
   "metadata": {},
   "source": [
    "## 10. Experiment with Different Points\n",
    "\n",
    "Try analyzing different points on the source mesh to see how similarity patterns change."
   ]
  },
  {
   "cell_type": "code",
   "execution_count": null,
   "id": "76965326",
   "metadata": {},
   "outputs": [],
   "source": [
    "# Experiment with different source points\n",
    "# You can change these indices and re-run this cell\n",
    "experiment_points = [100, 500, 1500, 2000]  # Different vertex indices to try\n",
    "\n",
    "for point_idx in experiment_points:\n",
    "    if point_idx < len(source_mesh.vert):\n",
    "        print(f\"\\n🔬 Experimenting with source vertex {point_idx}...\")\n",
    "\n",
    "        # Quick analysis with fewer views for faster computation\n",
    "        exp_colors, exp_similarities = point_similarity_colormap(\n",
    "            device=device,\n",
    "            pipe=pipe,\n",
    "            dino_model=dino_model,\n",
    "            source_mesh=source_mesh,\n",
    "            target_mesh=target_mesh,\n",
    "            source_point_idx=point_idx,\n",
    "            prompt=prompt,\n",
    "            num_views=10  # Fewer views for quick experiment\n",
    "        )\n",
    "\n",
    "        # Show quick stats\n",
    "        top_match = np.argmax(exp_similarities)\n",
    "        print(f\"  Best match: vertex {top_match} (similarity: {exp_similarities[top_match]:.4f})\")\n",
    "\n",
    "        # Visualize\n",
    "        visualize_point_similarity(\n",
    "            source_mesh=source_mesh,\n",
    "            target_mesh=target_mesh,\n",
    "            source_point_idx=point_idx,\n",
    "            similarity_colors=exp_colors,\n",
    "            colormap='viridis'\n",
    "        )\n",
    "    else:\n",
    "        print(f\"Skipping vertex {point_idx} (mesh only has {len(source_mesh.vert)} vertices)\")"
   ]
  },
  {
   "cell_type": "markdown",
   "id": "b4e136c9",
   "metadata": {},
   "source": [
    "## 11. Save Results (Optional)\n",
    "\n",
    "Save the similarity data for later analysis."
   ]
  },
  {
   "cell_type": "code",
   "execution_count": null,
   "id": "474618dd",
   "metadata": {},
   "outputs": [],
   "source": [
    "# Save results to files\n",
    "output_prefix = f\"similarity_results_vertex_{source_point_idx}\"\n",
    "\n",
    "# Save similarity scores\n",
    "np.save(f\"{output_prefix}_similarities.npy\", raw_similarities)\n",
    "np.save(f\"{output_prefix}_colors.npy\", similarity_colors)\n",
    "\n",
    "# Save analysis summary\n",
    "summary = {\n",
    "    'source_mesh_path': source_mesh_path,\n",
    "    'target_mesh_path': target_mesh_path,\n",
    "    'source_point_idx': source_point_idx,\n",
    "    'prompt': prompt,\n",
    "    'num_views': num_views,\n",
    "    'min_similarity': float(raw_similarities.min()),\n",
    "    'max_similarity': float(raw_similarities.max()),\n",
    "    'mean_similarity': float(raw_similarities.mean()),\n",
    "    'std_similarity': float(raw_similarities.std()),\n",
    "    'top_matches': [int(idx) for idx in most_similar_indices[:5]]\n",
    "}\n",
    "\n",
    "import json\n",
    "with open(f\"{output_prefix}_summary.json\", 'w') as f:\n",
    "    json.dump(summary, f, indent=2)\n",
    "\n",
    "print(f\"✅ Results saved:\")\n",
    "print(f\"  - Similarities: {output_prefix}_similarities.npy\")\n",
    "print(f\"  - Colors: {output_prefix}_colors.npy\")\n",
    "print(f\"  - Summary: {output_prefix}_summary.json\")"
   ]
  },
  {
   "cell_type": "markdown",
   "id": "d96f80cb",
   "metadata": {},
   "source": [
    "## Summary\n",
    "\n",
    "This notebook demonstrated how to:\n",
    "\n",
    "1. ✅ Load and visualize 3D meshes\n",
    "2. ✅ Extract semantic features using diffusion + DINO models\n",
    "3. ✅ Compute similarity between a specific source point and all target vertices\n",
    "4. ✅ Visualize results with interactive 3D plots\n",
    "5. ✅ Analyze similarity distributions and find best matches\n",
    "6. ✅ Experiment with different source points\n",
    "7. ✅ Save results for future analysis\n",
    "\n",
    "### Next Steps\n",
    "\n",
    "- Try different mesh pairs\n",
    "- Experiment with different prompts\n",
    "- Adjust the number of views for quality vs. speed trade-offs\n",
    "- Use the saved similarity data for further analysis or applications"
   ]
  }
 ],
 "metadata": {
  "language_info": {
   "name": "python"
  }
 },
 "nbformat": 4,
 "nbformat_minor": 5
}
