{
 "cells": [
  {
   "cell_type": "markdown",
   "id": "b155ea17",
   "metadata": {},
   "source": [
    "# Point-to-Mesh Similarity Analysis\n",
    "\n",
    "This notebook demonstrates how to:\n",
    "1. Load two meshes\n",
    "2. Specify a particular point on the source mesh\n",
    "3. Color-map the target mesh based on similarity to that point\n",
    "\n",
    "The analysis uses diffusion features + DINO features to compute semantic similarity between mesh vertices."
   ]
  },
  {
   "cell_type": "markdown",
   "id": "b2dc6797",
   "metadata": {},
   "source": [
    "## 1. Import Dependencies"
   ]
  },
  {
   "cell_type": "code",
   "execution_count": 1,
   "id": "930249c2",
   "metadata": {},
   "outputs": [
    {
     "name": "stderr",
     "output_type": "stream",
     "text": [
      "/home/zixiliu/miniforge3/envs/diff3f/lib/python3.10/site-packages/accelerate/utils/torch_xla.py:18: UserWarning: pkg_resources is deprecated as an API. See https://setuptools.pypa.io/en/latest/pkg_resources.html. The pkg_resources package is slated for removal as early as 2025-11-30. Refrain from using this package or pin to Setuptools<81.\n",
      "  import pkg_resources\n"
     ]
    },
    {
     "name": "stdout",
     "output_type": "stream",
     "text": [
      "Using device: cuda\n"
     ]
    }
   ],
   "source": [
    "import torch\n",
    "from diff3f import get_features_per_vertex\n",
    "from time import time\n",
    "from utils import convert_mesh_container_to_torch_mesh, cosine_similarity, double_plot, get_colors, generate_colors\n",
    "from dataloaders.mesh_container import MeshContainer\n",
    "from diffusion import init_pipe\n",
    "from dino import init_dino\n",
    "from functional_map import compute_surface_map\n",
    "import importlib\n",
    "import meshplot as mp\n",
    "from point_to_mesh_similarity import run_point_similarity_analysis, point_similarity_colormap, visualize_point_similarity, run_multi_point_correspondence_analysis\n",
    "\n",
    "# Set up device\n",
    "device = torch.device(\"cuda\" if torch.cuda.is_available() else \"cpu\")\n",
    "print(f\"Using device: {device}\")"
   ]
  },
  {
   "cell_type": "markdown",
   "id": "91398f0c",
   "metadata": {},
   "source": [
    "## 2. Initialize Models\n",
    "\n",
    "This step loads the diffusion pipeline and DINO model for feature extraction."
   ]
  },
  {
   "cell_type": "code",
   "execution_count": 2,
   "id": "394b3ae4",
   "metadata": {},
   "outputs": [
    {
     "name": "stdout",
     "output_type": "stream",
     "text": [
      "Initializing diffusion pipeline...\n"
     ]
    },
    {
     "name": "stderr",
     "output_type": "stream",
     "text": [
      "/home/zixiliu/miniforge3/envs/diff3f/lib/python3.10/site-packages/diffusers/configuration_utils.py:239: FutureWarning: It is deprecated to pass a pretrained model name or path to `from_config`.If you were trying to load a model, please use <class 'unet_2d_condition.UNet2DConditionModel'>.load_config(...) followed by <class 'unet_2d_condition.UNet2DConditionModel'>.from_config(...) instead. Otherwise, please make sure to pass a configuration dictionary instead. This functionality will be removed in v1.0.0.\n",
      "  deprecate(\"config-passed-as-path\", \"1.0.0\", deprecation_message, standard_warn=False)\n"
     ]
    },
    {
     "data": {
      "application/vnd.jupyter.widget-view+json": {
       "model_id": "4b6da4fe62f640d8b4622086e8b59bc6",
       "version_major": 2,
       "version_minor": 0
      },
      "text/plain": [
       "Loading pipeline components...:   0%|          | 0/6 [00:00<?, ?it/s]"
      ]
     },
     "metadata": {},
     "output_type": "display_data"
    },
    {
     "name": "stderr",
     "output_type": "stream",
     "text": [
      "You have disabled the safety checker for <class 'pipeline_controlnet_img2img.StableDiffusionControlNetImg2ImgPipeline'> by passing `safety_checker=None`. Ensure that you abide to the conditions of the Stable Diffusion license and do not expose unfiltered results in services or applications open to the public. Both the diffusers team and Hugging Face strongly recommend to keep the safety filter enabled in all public facing circumstances, disabling it only for use-cases that involve analyzing network behavior or auditing its results. For more information, please have a look at https://github.com/huggingface/diffusers/pull/254 .\n"
     ]
    },
    {
     "name": "stdout",
     "output_type": "stream",
     "text": [
      "Initializing DINO model...\n"
     ]
    },
    {
     "name": "stderr",
     "output_type": "stream",
     "text": [
      "Using cache found in /home/zixiliu/.cache/torch/hub/facebookresearch_dinov2_main\n",
      "/home/zixiliu/.cache/torch/hub/facebookresearch_dinov2_main/dinov2/layers/swiglu_ffn.py:43: UserWarning: xFormers is available (SwiGLU)\n",
      "  warnings.warn(\"xFormers is available (SwiGLU)\")\n",
      "/home/zixiliu/.cache/torch/hub/facebookresearch_dinov2_main/dinov2/layers/attention.py:27: UserWarning: xFormers is available (Attention)\n",
      "  warnings.warn(\"xFormers is available (Attention)\")\n",
      "/home/zixiliu/.cache/torch/hub/facebookresearch_dinov2_main/dinov2/layers/block.py:33: UserWarning: xFormers is available (Block)\n",
      "  warnings.warn(\"xFormers is available (Block)\")\n"
     ]
    },
    {
     "name": "stdout",
     "output_type": "stream",
     "text": [
      "Models initialized successfully!\n"
     ]
    }
   ],
   "source": [
    "print(\"Initializing diffusion pipeline...\")\n",
    "pipe = init_pipe(device)\n",
    "\n",
    "print(\"Initializing DINO model...\")\n",
    "dino_model = init_dino(device)\n",
    "\n",
    "print(\"Models initialized successfully!\")"
   ]
  },
  {
   "cell_type": "markdown",
   "id": "af19f72e",
   "metadata": {},
   "source": [
    "## 3. Load Meshes\n",
    "\n",
    "Load your source and target meshes. You can modify the paths below to use your own meshes."
   ]
  },
  {
   "cell_type": "code",
   "execution_count": 3,
   "id": "6bc0c293",
   "metadata": {},
   "outputs": [
    {
     "name": "stdout",
     "output_type": "stream",
     "text": [
      "Source mesh: 11799 vertices, 23334 faces\n",
      "Target mesh: 9041 vertices, 17850 faces\n"
     ]
    }
   ],
   "source": [
    "# Mesh paths - modify these to use your own meshes\n",
    "source_mesh_path = \"meshes/oakink_beaker_decomp2.obj\"\n",
    "target_mesh_path = \"meshes/oakink_bottle_decomp2.obj\"\n",
    "\n",
    "source_mesh = MeshContainer().load_from_file(source_mesh_path)\n",
    "target_mesh = MeshContainer().load_from_file(target_mesh_path)\n",
    "\n",
    "\n",
    "print(f\"Source mesh: {len(source_mesh.vert)} vertices, {len(source_mesh.face)} faces\")\n",
    "print(f\"Target mesh: {len(target_mesh.vert)} vertices, {len(target_mesh.face)} faces\")"
   ]
  },
  {
   "cell_type": "markdown",
   "id": "4c6403ea",
   "metadata": {},
   "source": [
    "## 4. Preview Meshes\n",
    "\n",
    "Let's visualize the meshes before analysis to get familiar with their structure."
   ]
  },
  {
   "cell_type": "code",
   "execution_count": 4,
   "id": "9ebd9cf0",
   "metadata": {},
   "outputs": [
    {
     "data": {
      "application/vnd.jupyter.widget-view+json": {
       "model_id": "da0d7cac0d334b8fab83ecbfdf08a7bc",
       "version_major": 2,
       "version_minor": 0
      },
      "text/plain": [
       "HBox(children=(Output(), Output()))"
      ]
     },
     "metadata": {},
     "output_type": "display_data"
    },
    {
     "data": {
      "application/vnd.jupyter.widget-view+json": {
       "model_id": "eae535948e584d6b835802d68a673154",
       "version_major": 2,
       "version_minor": 0
      },
      "text/plain": [
       "HBox(children=(Output(), Output()))"
      ]
     },
     "metadata": {},
     "output_type": "display_data"
    },
    {
     "name": "stdout",
     "output_type": "stream",
     "text": [
      "Left: Source mesh | Right: Target mesh\n"
     ]
    }
   ],
   "source": [
    "if 1:\n",
    "    # Preview the meshes side by side\n",
    "    d = mp.subplot(source_mesh.vert, source_mesh.face, s=[2, 2, 0])\n",
    "    mp.subplot(target_mesh.vert, target_mesh.face, s=[2, 2, 1], data=d)\n",
    "    print(\"Left: Source mesh | Right: Target mesh\")"
   ]
  },
  {
   "cell_type": "markdown",
   "id": "354bd759",
   "metadata": {},
   "source": [
    "## 5. Configure Analysis Parameters\n",
    "\n",
    "Set up the parameters for the similarity analysis."
   ]
  },
  {
   "cell_type": "code",
   "execution_count": 5,
   "id": "35136983",
   "metadata": {},
   "outputs": [
    {
     "name": "stdout",
     "output_type": "stream",
     "text": [
      "\n",
      "Analysis Configuration:\n",
      "- Text prompt: 'a beaker'\n",
      "- Number of views: 10\n"
     ]
    }
   ],
   "source": [
    "# Analysis parameters\n",
    "prompt = \"a beaker\"  # Text prompt for feature extraction\n",
    "num_views = 10  # Number of views for rendering (reduced for faster computation)\n",
    "\n",
    "print(f\"\\nAnalysis Configuration:\")\n",
    "print(f\"- Text prompt: '{prompt}'\")\n",
    "print(f\"- Number of views: {num_views}\")"
   ]
  },
  {
   "cell_type": "markdown",
   "id": "2c7dd12e",
   "metadata": {},
   "source": [
    "## 6. Run Similarity Analysis\n",
    "\n",
    "This is the main computation step. It will:\n",
    "1. Extract features for both meshes using multiple camera views\n",
    "2. Compute similarity between the specified source point and all target vertices\n",
    "3. Generate the visualization\n",
    "\n",
    "⚠️ **Note**: This step can take several minutes depending on mesh complexity and number of views."
   ]
  },
  {
   "cell_type": "code",
   "execution_count": 6,
   "id": "ce4be742-bdd9-4697-9013-57105d5b9fcc",
   "metadata": {},
   "outputs": [],
   "source": [
    "if 0:\n",
    "    import torch\n",
    "    \n",
    "    # Clear cache of unused memory\n",
    "    torch.cuda.empty_cache()\n",
    "    \n",
    "    # Optionally, collect unused memory from Python garbage collector\n",
    "    import gc\n",
    "    gc.collect()\n",
    "    torch.cuda.empty_cache()"
   ]
  },
  {
   "cell_type": "code",
   "execution_count": 7,
   "id": "c63dd916",
   "metadata": {},
   "outputs": [
    {
     "name": "stdout",
     "output_type": "stream",
     "text": [
      "Input 3D point: [ 0.01231679  0.0029739  -0.00678797]\n",
      "Closest vertex: 10093 (distance: 0.0221)\n",
      "Closest vertex coordinates: [ 0.03249347  0.01198952 -0.00654438]\n",
      "Computing features for source mesh...\n",
      "Rendering complete\n"
     ]
    },
    {
     "name": "stderr",
     "output_type": "stream",
     "text": [
      "/home/zixiliu/miniforge3/envs/diff3f/lib/python3.10/site-packages/torch/functional.py:554: UserWarning: torch.meshgrid: in an upcoming release, it will be required to pass the indexing argument. (Triggered internally at /pytorch/aten/src/ATen/native/TensorShape.cpp:4322.)\n",
      "  return _VF.meshgrid(tensors, **kwargs)  # type: ignore[attr-defined]\n",
      "100%|████████████████████████████████████████████████████████████████████████████████████████████████| 4/4 [00:11<00:00,  2.78s/it]\n"
     ]
    },
    {
     "name": "stdout",
     "output_type": "stream",
     "text": [
      "Number of missing features:  2667\n",
      "Copied features from nearest vertices\n",
      "Time taken in mins:  0.1998427391052246\n",
      "Computing features for target mesh...\n",
      "Rendering complete\n"
     ]
    },
    {
     "name": "stderr",
     "output_type": "stream",
     "text": [
      "100%|████████████████████████████████████████████████████████████████████████████████████████████████| 4/4 [00:08<00:00,  2.21s/it]"
     ]
    },
    {
     "name": "stdout",
     "output_type": "stream",
     "text": [
      "Number of missing features:  2336\n",
      "Copied features from nearest vertices\n",
      "Time taken in mins:  0.15821497837702433\n"
     ]
    },
    {
     "name": "stderr",
     "output_type": "stream",
     "text": [
      "\n"
     ]
    },
    {
     "data": {
      "application/vnd.jupyter.widget-view+json": {
       "model_id": "9b3470f7582d4968b2d55daabcdaa2ac",
       "version_major": 2,
       "version_minor": 0
      },
      "text/plain": [
       "HBox(children=(Output(), Output()))"
      ]
     },
     "metadata": {},
     "output_type": "display_data"
    },
    {
     "data": {
      "application/vnd.jupyter.widget-view+json": {
       "model_id": "6c67f0e420d549b0a5ad1aea3aa51264",
       "version_major": 2,
       "version_minor": 0
      },
      "text/plain": [
       "HBox(children=(Output(), Output()))"
      ]
     },
     "metadata": {},
     "output_type": "display_data"
    },
    {
     "name": "stdout",
     "output_type": "stream",
     "text": [
      "ℹ️  Using vertex highlighting (3D markers unavailable: __enter__)\n",
      "Source point (red): vertex 10093\n",
      "Target mesh: colored by similarity + MOST SIMILAR vertex 1751 in RED\n",
      "Most similar vertex similarity: 0.4561\n",
      "Similarity range: 0.000 to 1.000\n",
      "\n",
      "✅ Analysis complete!\n"
     ]
    }
   ],
   "source": [
    "import numpy as np\n",
    "source_point_3d = np.array([0.01231679, 0.0029739, -0.00678797])\n",
    "\n",
    "if 1:\n",
    "\n",
    "    # source_mesh_path = \"meshes/oakink_beaker_decomp.obj\"\n",
    "    # target_mesh_path = \"meshes/oakink_mug_decomp.obj\"\n",
    "    \n",
    "    # source_mesh = MeshContainer().load_from_file(source_mesh_path)\n",
    "    # target_mesh = MeshContainer().load_from_file(target_mesh_path)\n",
    "\n",
    "    # if 0:\n",
    "    #     # Set desired maximum edge length for uniform triangle size\n",
    "    #     max_edge_length = 0.01  # Adjust as needed\n",
    "    #     # Remesh source mesh\n",
    "    #     new_source_vert, new_source_face = subdivide_to_size(\n",
    "    #         source_mesh.vert, source_mesh.face, max_edge=max_edge_length\n",
    "    #     )\n",
    "    #     source_mesh.vert = new_source_vert\n",
    "    #     source_mesh.face = new_source_face\n",
    "    #     # Remesh target mesh\n",
    "    #     new_target_vert, new_target_face = subdivide_to_size(\n",
    "    #         target_mesh.vert, target_mesh.face, max_edge=max_edge_length\n",
    "    #     )\n",
    "    #     target_mesh.vert = new_target_vert\n",
    "    #     target_mesh.face = new_target_face\n",
    "\n",
    "    \n",
    "    # print(f\"Source mesh: {len(source_mesh.vert)} vertices, {len(source_mesh.face)} faces\")\n",
    "    # print(f\"Target mesh: {len(target_mesh.vert)} vertices, {len(target_mesh.face)} faces\")\n",
    "    \n",
    "    # Analysis parameters\n",
    "    prompt = \"a beaker\"  # Text prompt for feature extraction\n",
    "    num_views = 4  # Number of views for rendering (reduced for faster computation)\n",
    "\n",
    "    \n",
    "    # Run the complete analysis pipeline\n",
    "    similarity_colors, raw_similarities, source_point_idx, closest_distance = run_point_similarity_analysis(\n",
    "        source_mesh=source_mesh,\n",
    "        target_mesh=target_mesh,\n",
    "        source_point_3d=source_point_3d,\n",
    "        device=device,\n",
    "        pipe=pipe,\n",
    "        dino_model=dino_model,\n",
    "        prompt=prompt,\n",
    "        num_views=num_views\n",
    "    )\n",
    "    \n",
    "    print(\"\\n✅ Analysis complete!\")"
   ]
  },
  {
   "cell_type": "markdown",
   "id": "22229792-bcb8-4c15-a7f0-91cbbf35e9fd",
   "metadata": {},
   "source": [
    "# Multi point analysis"
   ]
  },
  {
   "cell_type": "code",
   "execution_count": 8,
   "id": "7d1dc2de-b400-4b31-a4ce-6e58cd22e0f6",
   "metadata": {},
   "outputs": [
    {
     "name": "stdout",
     "output_type": "stream",
     "text": [
      "Finding correspondences for 4 source points...\n",
      "Closest vertices to input 3D points:\n",
      "  Point 0: [-0.00793887 -0.0099004  -0.02071472] -> Vertex 7884 (distance: 0.0246)\n",
      "  Point 1: [ 0.01191107  0.00449564 -0.02732792] -> Vertex 9922 (distance: 0.0217)\n",
      "  Point 2: [ 0.01248061  0.00253191 -0.05360645] -> Vertex 197 (distance: 0.0112)\n",
      "  Point 3: [ 0.01231679  0.0029739  -0.00678797] -> Vertex 10093 (distance: 0.0221)\n",
      "Computing features for source mesh...\n",
      "Rendering complete\n"
     ]
    },
    {
     "name": "stderr",
     "output_type": "stream",
     "text": [
      "100%|██████████████████████████████████████████████████████████████████████████████████████████████| 10/10 [00:24<00:00,  2.48s/it]\n"
     ]
    },
    {
     "name": "stdout",
     "output_type": "stream",
     "text": [
      "Number of missing features:  982\n",
      "Copied features from nearest vertices\n",
      "Time taken in mins:  0.4434179663658142\n",
      "Computing features for target mesh...\n",
      "Rendering complete\n"
     ]
    },
    {
     "name": "stderr",
     "output_type": "stream",
     "text": [
      "100%|██████████████████████████████████████████████████████████████████████████████████████████████| 10/10 [00:22<00:00,  2.24s/it]"
     ]
    },
    {
     "name": "stdout",
     "output_type": "stream",
     "text": [
      "Number of missing features:  937\n",
      "Copied features from nearest vertices\n",
      "Time taken in mins:  0.3974198261896769\n",
      "  Point 0: Source vertex 7884 -> Target vertex 6005 (similarity: 0.9155)\n",
      "  Point 1: Source vertex 9922 -> Target vertex 3778 (similarity: 0.7852)\n",
      "  Point 2: Source vertex 197 -> Target vertex 72 (similarity: 0.5200)\n",
      "  Point 3: Source vertex 10093 -> Target vertex 1728 (similarity: 0.7690)\n",
      "🎨 Visualizing 4 correspondences:\n",
      "  Correspondence 1: Source vertex 7884 ↔ Target vertex 6005 (similarity: 0.9155)\n",
      "    Color: RGB(1.00, 0.20, 0.20)\n",
      "  Correspondence 2: Source vertex 9922 ↔ Target vertex 3778 (similarity: 0.7852)\n",
      "    Color: RGB(0.45, 0.90, 0.00)\n",
      "  Correspondence 3: Source vertex 197 ↔ Target vertex 72 (similarity: 0.5200)\n",
      "    Color: RGB(0.20, 1.00, 1.00)\n",
      "  Correspondence 4: Source vertex 10093 ↔ Target vertex 1728 (similarity: 0.7690)\n",
      "    Color: RGB(0.45, 0.00, 0.90)\n",
      "🎯 Creating combined mesh + 3D marker visualization...\n"
     ]
    },
    {
     "name": "stderr",
     "output_type": "stream",
     "text": [
      "\n"
     ]
    },
    {
     "data": {
      "application/vnd.jupyter.widget-view+json": {
       "model_id": "374ab5888da8447692f7b4b4b23e1fcb",
       "version_major": 2,
       "version_minor": 0
      },
      "text/plain": [
       "HBox(children=(Output(), Output()))"
      ]
     },
     "metadata": {},
     "output_type": "display_data"
    },
    {
     "data": {
      "application/vnd.jupyter.widget-view+json": {
       "model_id": "8a75de9ca0c1454da309eaefed0875bd",
       "version_major": 2,
       "version_minor": 0
      },
      "text/plain": [
       "HBox(children=(Output(), Output()))"
      ]
     },
     "metadata": {},
     "output_type": "display_data"
    },
    {
     "name": "stdout",
     "output_type": "stream",
     "text": [
      "✅ Combined mesh + 3D octahedron markers visualization created!\n",
      "   Each correspondence pair has matching colored 3D octahedrons\n",
      "   Source mesh: 11799 vertices + 24 marker vertices\n",
      "   Target mesh: 9041 vertices + 24 marker vertices\n",
      "\n",
      "📊 Correspondence Statistics:\n",
      "  - Average similarity: 0.7474\n",
      "  - Min similarity: 0.5200\n",
      "  - Max similarity: 0.9155\n",
      "  - Total correspondences: 4\n",
      "\n",
      "✅ Analysis complete!\n"
     ]
    }
   ],
   "source": [
    "import numpy as np\n",
    "source_points_3d = np.array([[-0.00793887, -0.0099004, -0.02071472], \n",
    "                             [0.01191107, 0.00449564, -0.02732792], \n",
    "                             [0.01248061, 0.00253191, -0.05360645], \n",
    "                             [0.01231679, 0.0029739, -0.00678797]])\n",
    "\n",
    "\n",
    "# Analysis parameters\n",
    "prompt = \"a beaker\"  # Text prompt for feature extraction\n",
    "num_views = 10  # Number of views for rendering (reduced for faster computation)\n",
    "\n",
    "\n",
    "# Run the complete analysis pipeline\n",
    "similarity_colors, raw_similarities, source_point_idx, closest_distance = run_multi_point_correspondence_analysis(\n",
    "    source_mesh=source_mesh,\n",
    "    target_mesh=target_mesh,\n",
    "    source_points_3d=source_points_3d,\n",
    "    device=device,\n",
    "    pipe=pipe,\n",
    "    dino_model=dino_model,\n",
    "    prompt=prompt,\n",
    "    num_views=num_views\n",
    ")\n",
    "\n",
    "print(\"\\n✅ Analysis complete!\")"
   ]
  },
  {
   "cell_type": "markdown",
   "id": "4f17bbb8-1d1e-47fe-9d0a-b6860838b73f",
   "metadata": {},
   "source": [
    "# A few more examples"
   ]
  },
  {
   "cell_type": "code",
   "execution_count": 9,
   "id": "e6d4856f-da34-4640-8c4f-45781a33d617",
   "metadata": {},
   "outputs": [
    {
     "name": "stdout",
     "output_type": "stream",
     "text": [
      "Source mesh: 11799 vertices, 23334 faces\n",
      "Target mesh: 11392 vertices, 22696 faces\n",
      "\n",
      "Analysis Configuration:\n",
      "- Text prompt: 'a beaker'\n",
      "- Number of views: 4\n",
      "Finding correspondences for 4 source points...\n",
      "Closest vertices to input 3D points:\n",
      "  Point 0: [-0.00793887 -0.0099004  -0.02071472] -> Vertex 7884 (distance: 0.0246)\n",
      "  Point 1: [ 0.01191107  0.00449564 -0.02732792] -> Vertex 9922 (distance: 0.0217)\n",
      "  Point 2: [ 0.01248061  0.00253191 -0.05360645] -> Vertex 197 (distance: 0.0112)\n",
      "  Point 3: [ 0.01231679  0.0029739  -0.00678797] -> Vertex 10093 (distance: 0.0221)\n",
      "Computing features for source mesh...\n",
      "Rendering complete\n"
     ]
    },
    {
     "name": "stderr",
     "output_type": "stream",
     "text": [
      "100%|████████████████████████████████████████████████████████████████████████████████████████████████| 4/4 [00:09<00:00,  2.42s/it]\n"
     ]
    },
    {
     "name": "stdout",
     "output_type": "stream",
     "text": [
      "Number of missing features:  2667\n",
      "Copied features from nearest vertices\n",
      "Time taken in mins:  0.17537790536880493\n",
      "Computing features for target mesh...\n",
      "Rendering complete\n"
     ]
    },
    {
     "name": "stderr",
     "output_type": "stream",
     "text": [
      "100%|████████████████████████████████████████████████████████████████████████████████████████████████| 4/4 [00:09<00:00,  2.28s/it]"
     ]
    },
    {
     "name": "stdout",
     "output_type": "stream",
     "text": [
      "Number of missing features:  2353\n",
      "Copied features from nearest vertices\n",
      "Time taken in mins:  0.16537917455037435\n",
      "  Point 0: Source vertex 7884 -> Target vertex 8776 (similarity: 0.7314)\n",
      "  Point 1: Source vertex 9922 -> Target vertex 5488 (similarity: 0.5967)\n",
      "  Point 2: Source vertex 197 -> Target vertex 21 (similarity: 0.3557)\n",
      "  Point 3: Source vertex 10093 -> Target vertex 4883 (similarity: 0.4807)\n",
      "🎨 Visualizing 4 correspondences:\n",
      "  Correspondence 1: Source vertex 7884 ↔ Target vertex 8776 (similarity: 0.7314)\n",
      "    Color: RGB(1.00, 0.20, 0.20)\n",
      "  Correspondence 2: Source vertex 9922 ↔ Target vertex 5488 (similarity: 0.5967)\n",
      "    Color: RGB(0.45, 0.90, 0.00)\n",
      "  Correspondence 3: Source vertex 197 ↔ Target vertex 21 (similarity: 0.3557)\n",
      "    Color: RGB(0.20, 1.00, 1.00)\n",
      "  Correspondence 4: Source vertex 10093 ↔ Target vertex 4883 (similarity: 0.4807)\n",
      "    Color: RGB(0.45, 0.00, 0.90)\n",
      "🎯 Creating combined mesh + 3D marker visualization...\n"
     ]
    },
    {
     "name": "stderr",
     "output_type": "stream",
     "text": [
      "\n"
     ]
    },
    {
     "data": {
      "application/vnd.jupyter.widget-view+json": {
       "model_id": "3c005568af9149429f395fc1528e76f9",
       "version_major": 2,
       "version_minor": 0
      },
      "text/plain": [
       "HBox(children=(Output(), Output()))"
      ]
     },
     "metadata": {},
     "output_type": "display_data"
    },
    {
     "data": {
      "application/vnd.jupyter.widget-view+json": {
       "model_id": "51d55aee1ce54e70b1cb6e5918a7128b",
       "version_major": 2,
       "version_minor": 0
      },
      "text/plain": [
       "HBox(children=(Output(), Output()))"
      ]
     },
     "metadata": {},
     "output_type": "display_data"
    },
    {
     "name": "stdout",
     "output_type": "stream",
     "text": [
      "✅ Combined mesh + 3D octahedron markers visualization created!\n",
      "   Each correspondence pair has matching colored 3D octahedrons\n",
      "   Source mesh: 11799 vertices + 24 marker vertices\n",
      "   Target mesh: 11392 vertices + 24 marker vertices\n",
      "\n",
      "📊 Correspondence Statistics:\n",
      "  - Average similarity: 0.5411\n",
      "  - Min similarity: 0.3557\n",
      "  - Max similarity: 0.7314\n",
      "  - Total correspondences: 4\n",
      "\n",
      "✅ Analysis complete!\n"
     ]
    }
   ],
   "source": [
    "# Mesh paths - modify these to use your own meshes\n",
    "source_mesh_path = \"meshes/oakink_beaker_decomp.obj\"\n",
    "target_mesh_path = \"meshes/oakink_mug_decomp.obj\"\n",
    "\n",
    "# source_mesh = MeshContainer().load_from_file(source_mesh_path)\n",
    "target_mesh = MeshContainer().load_from_file(target_mesh_path)\n",
    "\n",
    "print(f\"Source mesh: {len(source_mesh.vert)} vertices, {len(source_mesh.face)} faces\")\n",
    "print(f\"Target mesh: {len(target_mesh.vert)} vertices, {len(target_mesh.face)} faces\")\n",
    "\n",
    "# Analysis parameters\n",
    "prompt = \"a beaker\"  # Text prompt for feature extraction\n",
    "num_views = 4  # Number of views for rendering (reduced for faster computation)\n",
    "\n",
    "print(f\"\\nAnalysis Configuration:\")\n",
    "print(f\"- Text prompt: '{prompt}'\")\n",
    "print(f\"- Number of views: {num_views}\")\n",
    "\n",
    "\n",
    "\n",
    "# Run the complete analysis pipeline\n",
    "similarity_colors, raw_similarities, source_point_idx, closest_distance = run_multi_point_correspondence_analysis(\n",
    "    source_mesh=source_mesh,\n",
    "    target_mesh=target_mesh,\n",
    "    source_points_3d=source_points_3d,\n",
    "    device=device,\n",
    "    pipe=pipe,\n",
    "    dino_model=dino_model,\n",
    "    prompt=prompt,\n",
    "    num_views=num_views\n",
    ")\n",
    "\n",
    "print(\"\\n✅ Analysis complete!\")"
   ]
  },
  {
   "cell_type": "code",
   "execution_count": 10,
   "id": "d97f2053-d251-4466-8bc8-a1d6eae46da4",
   "metadata": {},
   "outputs": [
    {
     "name": "stdout",
     "output_type": "stream",
     "text": [
      "Source mesh: 11799 vertices, 23334 faces\n",
      "Target mesh: 11392 vertices, 22696 faces\n",
      "\n",
      "Analysis Configuration:\n",
      "- Text prompt: 'a beaker'\n",
      "- Number of views: 10\n",
      "Finding correspondences for 4 source points...\n",
      "Closest vertices to input 3D points:\n",
      "  Point 0: [-0.00793887 -0.0099004  -0.02071472] -> Vertex 7884 (distance: 0.0246)\n",
      "  Point 1: [ 0.01191107  0.00449564 -0.02732792] -> Vertex 9922 (distance: 0.0217)\n",
      "  Point 2: [ 0.01248061  0.00253191 -0.05360645] -> Vertex 197 (distance: 0.0112)\n",
      "  Point 3: [ 0.01231679  0.0029739  -0.00678797] -> Vertex 10093 (distance: 0.0221)\n",
      "Computing features for source mesh...\n",
      "Rendering complete\n"
     ]
    },
    {
     "name": "stderr",
     "output_type": "stream",
     "text": [
      "100%|██████████████████████████████████████████████████████████████████████████████████████████████| 10/10 [00:24<00:00,  2.48s/it]\n"
     ]
    },
    {
     "name": "stdout",
     "output_type": "stream",
     "text": [
      "Number of missing features:  982\n",
      "Copied features from nearest vertices\n",
      "Time taken in mins:  0.44326613744099935\n",
      "Computing features for target mesh...\n",
      "Rendering complete\n"
     ]
    },
    {
     "name": "stderr",
     "output_type": "stream",
     "text": [
      "100%|██████████████████████████████████████████████████████████████████████████████████████████████| 10/10 [00:22<00:00,  2.28s/it]"
     ]
    },
    {
     "name": "stdout",
     "output_type": "stream",
     "text": [
      "Number of missing features:  1590\n",
      "Copied features from nearest vertices\n",
      "Time taken in mins:  0.4084542314211527\n",
      "  Point 0: Source vertex 7884 -> Target vertex 9296 (similarity: 0.7969)\n",
      "  Point 1: Source vertex 9922 -> Target vertex 3626 (similarity: 0.8301)\n",
      "  Point 2: Source vertex 197 -> Target vertex 21 (similarity: 0.3557)\n",
      "  Point 3: Source vertex 10093 -> Target vertex 3273 (similarity: 0.7949)\n",
      "🎨 Visualizing 4 correspondences:\n",
      "  Correspondence 1: Source vertex 7884 ↔ Target vertex 9296 (similarity: 0.7969)\n",
      "    Color: RGB(1.00, 0.20, 0.20)\n",
      "  Correspondence 2: Source vertex 9922 ↔ Target vertex 3626 (similarity: 0.8301)\n",
      "    Color: RGB(0.45, 0.90, 0.00)\n",
      "  Correspondence 3: Source vertex 197 ↔ Target vertex 21 (similarity: 0.3557)\n",
      "    Color: RGB(0.20, 1.00, 1.00)\n",
      "  Correspondence 4: Source vertex 10093 ↔ Target vertex 3273 (similarity: 0.7949)\n",
      "    Color: RGB(0.45, 0.00, 0.90)\n",
      "🎯 Creating combined mesh + 3D marker visualization...\n"
     ]
    },
    {
     "name": "stderr",
     "output_type": "stream",
     "text": [
      "\n"
     ]
    },
    {
     "data": {
      "application/vnd.jupyter.widget-view+json": {
       "model_id": "eb932f4079284d4c9b5128577f9f3142",
       "version_major": 2,
       "version_minor": 0
      },
      "text/plain": [
       "HBox(children=(Output(), Output()))"
      ]
     },
     "metadata": {},
     "output_type": "display_data"
    },
    {
     "data": {
      "application/vnd.jupyter.widget-view+json": {
       "model_id": "651e59637aea45f1b20ead950f5ae676",
       "version_major": 2,
       "version_minor": 0
      },
      "text/plain": [
       "HBox(children=(Output(), Output()))"
      ]
     },
     "metadata": {},
     "output_type": "display_data"
    },
    {
     "name": "stdout",
     "output_type": "stream",
     "text": [
      "✅ Combined mesh + 3D octahedron markers visualization created!\n",
      "   Each correspondence pair has matching colored 3D octahedrons\n",
      "   Source mesh: 11799 vertices + 24 marker vertices\n",
      "   Target mesh: 11392 vertices + 24 marker vertices\n",
      "\n",
      "📊 Correspondence Statistics:\n",
      "  - Average similarity: 0.6944\n",
      "  - Min similarity: 0.3557\n",
      "  - Max similarity: 0.8301\n",
      "  - Total correspondences: 4\n",
      "\n",
      "✅ Analysis complete!\n"
     ]
    }
   ],
   "source": [
    "# Mesh paths - modify these to use your own meshes\n",
    "source_mesh_path = \"meshes/oakink_beaker_decomp.obj\"\n",
    "target_mesh_path = \"meshes/oakink_mug_decomp.obj\"\n",
    "\n",
    "# source_mesh = MeshContainer().load_from_file(source_mesh_path)\n",
    "target_mesh = MeshContainer().load_from_file(target_mesh_path)\n",
    "\n",
    "print(f\"Source mesh: {len(source_mesh.vert)} vertices, {len(source_mesh.face)} faces\")\n",
    "print(f\"Target mesh: {len(target_mesh.vert)} vertices, {len(target_mesh.face)} faces\")\n",
    "\n",
    "# Analysis parameters\n",
    "prompt = \"a beaker\"  # Text prompt for feature extraction\n",
    "num_views = 10  # Number of views for rendering (reduced for faster computation)\n",
    "\n",
    "print(f\"\\nAnalysis Configuration:\")\n",
    "print(f\"- Text prompt: '{prompt}'\")\n",
    "print(f\"- Number of views: {num_views}\")\n",
    "\n",
    "\n",
    "\n",
    "# Run the complete analysis pipeline\n",
    "similarity_colors, raw_similarities, source_point_idx, closest_distance = run_multi_point_correspondence_analysis(\n",
    "    source_mesh=source_mesh,\n",
    "    target_mesh=target_mesh,\n",
    "    source_points_3d=source_points_3d,\n",
    "    device=device,\n",
    "    pipe=pipe,\n",
    "    dino_model=dino_model,\n",
    "    prompt=prompt,\n",
    "    num_views=num_views\n",
    ")\n",
    "\n",
    "print(\"\\n✅ Analysis complete!\")"
   ]
  },
  {
   "cell_type": "code",
   "execution_count": 11,
   "id": "33a4802b-62f9-41e7-bbc0-141194de93ea",
   "metadata": {},
   "outputs": [
    {
     "name": "stdout",
     "output_type": "stream",
     "text": [
      "Source mesh: 11799 vertices, 23334 faces\n",
      "Target mesh: 11591 vertices, 23046 faces\n",
      "\n",
      "Analysis Configuration:\n",
      "- Text prompt: 'a beaker'\n",
      "- Number of views: 10\n",
      "Finding correspondences for 4 source points...\n",
      "Closest vertices to input 3D points:\n",
      "  Point 0: [-0.00793887 -0.0099004  -0.02071472] -> Vertex 7884 (distance: 0.0246)\n",
      "  Point 1: [ 0.01191107  0.00449564 -0.02732792] -> Vertex 9922 (distance: 0.0217)\n",
      "  Point 2: [ 0.01248061  0.00253191 -0.05360645] -> Vertex 197 (distance: 0.0112)\n",
      "  Point 3: [ 0.01231679  0.0029739  -0.00678797] -> Vertex 10093 (distance: 0.0221)\n",
      "Computing features for source mesh...\n",
      "Rendering complete\n"
     ]
    },
    {
     "name": "stderr",
     "output_type": "stream",
     "text": [
      "100%|██████████████████████████████████████████████████████████████████████████████████████████████| 10/10 [00:24<00:00,  2.50s/it]\n"
     ]
    },
    {
     "name": "stdout",
     "output_type": "stream",
     "text": [
      "Number of missing features:  982\n",
      "Copied features from nearest vertices\n",
      "Time taken in mins:  0.44616601467132566\n",
      "Computing features for target mesh...\n",
      "Rendering complete\n"
     ]
    },
    {
     "name": "stderr",
     "output_type": "stream",
     "text": [
      "100%|██████████████████████████████████████████████████████████████████████████████████████████████| 10/10 [00:25<00:00,  2.57s/it]"
     ]
    },
    {
     "name": "stdout",
     "output_type": "stream",
     "text": [
      "Number of missing features:  768\n",
      "Copied features from nearest vertices\n",
      "Time taken in mins:  0.4579790790875753\n",
      "  Point 0: Source vertex 7884 -> Target vertex 9423 (similarity: 0.6318)\n",
      "  Point 1: Source vertex 9922 -> Target vertex 5300 (similarity: 0.6318)\n",
      "  Point 2: Source vertex 197 -> Target vertex 11380 (similarity: 0.5396)\n",
      "  Point 3: Source vertex 10093 -> Target vertex 1195 (similarity: 0.6470)\n",
      "🎨 Visualizing 4 correspondences:\n",
      "  Correspondence 1: Source vertex 7884 ↔ Target vertex 9423 (similarity: 0.6318)\n",
      "    Color: RGB(1.00, 0.20, 0.20)\n",
      "  Correspondence 2: Source vertex 9922 ↔ Target vertex 5300 (similarity: 0.6318)\n",
      "    Color: RGB(0.45, 0.90, 0.00)\n",
      "  Correspondence 3: Source vertex 197 ↔ Target vertex 11380 (similarity: 0.5396)\n",
      "    Color: RGB(0.20, 1.00, 1.00)\n",
      "  Correspondence 4: Source vertex 10093 ↔ Target vertex 1195 (similarity: 0.6470)\n",
      "    Color: RGB(0.45, 0.00, 0.90)\n",
      "🎯 Creating combined mesh + 3D marker visualization...\n"
     ]
    },
    {
     "name": "stderr",
     "output_type": "stream",
     "text": [
      "\n"
     ]
    },
    {
     "data": {
      "application/vnd.jupyter.widget-view+json": {
       "model_id": "83422a74d76a4917a47d386f24095608",
       "version_major": 2,
       "version_minor": 0
      },
      "text/plain": [
       "HBox(children=(Output(), Output()))"
      ]
     },
     "metadata": {},
     "output_type": "display_data"
    },
    {
     "data": {
      "application/vnd.jupyter.widget-view+json": {
       "model_id": "af376016536a40ea88cee087d701dea8",
       "version_major": 2,
       "version_minor": 0
      },
      "text/plain": [
       "HBox(children=(Output(), Output()))"
      ]
     },
     "metadata": {},
     "output_type": "display_data"
    },
    {
     "name": "stdout",
     "output_type": "stream",
     "text": [
      "✅ Combined mesh + 3D octahedron markers visualization created!\n",
      "   Each correspondence pair has matching colored 3D octahedrons\n",
      "   Source mesh: 11799 vertices + 24 marker vertices\n",
      "   Target mesh: 11591 vertices + 24 marker vertices\n",
      "\n",
      "📊 Correspondence Statistics:\n",
      "  - Average similarity: 0.6125\n",
      "  - Min similarity: 0.5396\n",
      "  - Max similarity: 0.6470\n",
      "  - Total correspondences: 4\n",
      "\n",
      "✅ Analysis complete!\n"
     ]
    }
   ],
   "source": [
    "# Mesh paths - modify these to use your own meshes\n",
    "source_mesh_path = \"meshes/oakink_beaker_decomp.obj\"\n",
    "target_mesh_path = \"meshes/oakink_wineglass_decomp.obj\"\n",
    "\n",
    "# source_mesh = MeshContainer().load_from_file(source_mesh_path)\n",
    "target_mesh = MeshContainer().load_from_file(target_mesh_path)\n",
    "\n",
    "print(f\"Source mesh: {len(source_mesh.vert)} vertices, {len(source_mesh.face)} faces\")\n",
    "print(f\"Target mesh: {len(target_mesh.vert)} vertices, {len(target_mesh.face)} faces\")\n",
    "\n",
    "# Analysis parameters\n",
    "prompt = \"a beaker\"  # Text prompt for feature extraction\n",
    "num_views = 10  # Number of views for rendering (reduced for faster computation)\n",
    "\n",
    "print(f\"\\nAnalysis Configuration:\")\n",
    "print(f\"- Text prompt: '{prompt}'\")\n",
    "print(f\"- Number of views: {num_views}\")\n",
    "\n",
    "\n",
    "\n",
    "# Run the complete analysis pipeline\n",
    "similarity_colors, raw_similarities, source_point_idx, closest_distance = run_multi_point_correspondence_analysis(\n",
    "    source_mesh=source_mesh,\n",
    "    target_mesh=target_mesh,\n",
    "    source_points_3d=source_points_3d,\n",
    "    device=device,\n",
    "    pipe=pipe,\n",
    "    dino_model=dino_model,\n",
    "    prompt=prompt,\n",
    "    num_views=num_views\n",
    ")\n",
    "\n",
    "print(\"\\n✅ Analysis complete!\")"
   ]
  },
  {
   "cell_type": "code",
   "execution_count": 20,
   "id": "dd635f8a-5c10-4006-9f36-d1e2ce15a558",
   "metadata": {},
   "outputs": [
    {
     "name": "stdout",
     "output_type": "stream",
     "text": [
      "Source mesh: 11799 vertices, 23334 faces\n",
      "Target mesh: 11591 vertices, 23046 faces\n",
      "\n",
      "Analysis Configuration:\n",
      "- Text prompt: 'a beaker'\n",
      "- Number of views: 6\n",
      "Finding correspondences for 4 source points...\n",
      "Closest vertices to input 3D points:\n",
      "  Point 0: [-0.00793887 -0.0099004  -0.02071472] -> Vertex 7884 (distance: 0.0246)\n",
      "  Point 1: [ 0.01191107  0.00449564 -0.02732792] -> Vertex 9922 (distance: 0.0217)\n",
      "  Point 2: [ 0.01248061  0.00253191 -0.05360645] -> Vertex 197 (distance: 0.0112)\n",
      "  Point 3: [ 0.01231679  0.0029739  -0.00678797] -> Vertex 10093 (distance: 0.0221)\n",
      "Computing features for source mesh...\n",
      "Rendering complete\n"
     ]
    },
    {
     "name": "stderr",
     "output_type": "stream",
     "text": [
      "100%|████████████████████████████████████████████████████████████████████████████████████████████████| 6/6 [00:14<00:00,  2.45s/it]\n"
     ]
    },
    {
     "name": "stdout",
     "output_type": "stream",
     "text": [
      "Number of missing features:  2400\n",
      "Copied features from nearest vertices\n",
      "Time taken in mins:  0.2647365132967631\n",
      "Computing features for target mesh...\n",
      "Rendering complete\n"
     ]
    },
    {
     "name": "stderr",
     "output_type": "stream",
     "text": [
      "100%|████████████████████████████████████████████████████████████████████████████████████████████████| 6/6 [00:15<00:00,  2.55s/it]"
     ]
    },
    {
     "name": "stdout",
     "output_type": "stream",
     "text": [
      "Number of missing features:  2798\n",
      "Copied features from nearest vertices\n",
      "Time taken in mins:  0.2738132079442342\n",
      "  Point 0: Source vertex 7884 -> Target vertex 7110 (similarity: 0.6230)\n",
      "  Point 1: Source vertex 9922 -> Target vertex 1367 (similarity: 0.7212)\n",
      "  Point 2: Source vertex 197 -> Target vertex 11354 (similarity: 0.5396)\n",
      "  Point 3: Source vertex 10093 -> Target vertex 1115 (similarity: 0.6274)\n",
      "🎨 Visualizing 4 correspondences:\n",
      "  Correspondence 1: Source vertex 7884 ↔ Target vertex 7110 (similarity: 0.6230)\n",
      "    Color: RGB(1.00, 0.20, 0.20)\n",
      "  Correspondence 2: Source vertex 9922 ↔ Target vertex 1367 (similarity: 0.7212)\n",
      "    Color: RGB(0.45, 0.90, 0.00)\n",
      "  Correspondence 3: Source vertex 197 ↔ Target vertex 11354 (similarity: 0.5396)\n",
      "    Color: RGB(0.20, 1.00, 1.00)\n",
      "  Correspondence 4: Source vertex 10093 ↔ Target vertex 1115 (similarity: 0.6274)\n",
      "    Color: RGB(0.45, 0.00, 0.90)\n",
      "🎯 Creating combined mesh + 3D marker visualization...\n"
     ]
    },
    {
     "name": "stderr",
     "output_type": "stream",
     "text": [
      "\n"
     ]
    },
    {
     "data": {
      "application/vnd.jupyter.widget-view+json": {
       "model_id": "707dccfb6be84035b203032b54d645e1",
       "version_major": 2,
       "version_minor": 0
      },
      "text/plain": [
       "HBox(children=(Output(), Output()))"
      ]
     },
     "metadata": {},
     "output_type": "display_data"
    },
    {
     "data": {
      "application/vnd.jupyter.widget-view+json": {
       "model_id": "45978f6d682f499ab8a70db34e69495d",
       "version_major": 2,
       "version_minor": 0
      },
      "text/plain": [
       "HBox(children=(Output(), Output()))"
      ]
     },
     "metadata": {},
     "output_type": "display_data"
    },
    {
     "name": "stdout",
     "output_type": "stream",
     "text": [
      "✅ Combined mesh + 3D octahedron markers visualization created!\n",
      "   Each correspondence pair has matching colored 3D octahedrons\n",
      "   Source mesh: 11799 vertices + 24 marker vertices\n",
      "   Target mesh: 11591 vertices + 24 marker vertices\n",
      "\n",
      "📊 Correspondence Statistics:\n",
      "  - Average similarity: 0.6278\n",
      "  - Min similarity: 0.5396\n",
      "  - Max similarity: 0.7212\n",
      "  - Total correspondences: 4\n",
      "\n",
      "✅ Analysis complete!\n"
     ]
    }
   ],
   "source": [
    "# Mesh paths - modify these to use your own meshes\n",
    "source_mesh_path = \"meshes/oakink_beaker_decomp.obj\"\n",
    "target_mesh_path = \"meshes/oakink_wineglass_decomp.obj\"\n",
    "\n",
    "# source_mesh = MeshContainer().load_from_file(source_mesh_path)\n",
    "target_mesh = MeshContainer().load_from_file(target_mesh_path)\n",
    "\n",
    "print(f\"Source mesh: {len(source_mesh.vert)} vertices, {len(source_mesh.face)} faces\")\n",
    "print(f\"Target mesh: {len(target_mesh.vert)} vertices, {len(target_mesh.face)} faces\")\n",
    "\n",
    "# Analysis parameters\n",
    "prompt = \"a beaker\"  # Text prompt for feature extraction\n",
    "num_views = 6  # Number of views for rendering (reduced for faster computation)\n",
    "\n",
    "print(f\"\\nAnalysis Configuration:\")\n",
    "print(f\"- Text prompt: '{prompt}'\")\n",
    "print(f\"- Number of views: {num_views}\")\n",
    "\n",
    "\n",
    "\n",
    "# Run the complete analysis pipeline\n",
    "similarity_colors, raw_similarities, source_point_idx, closest_distance = run_multi_point_correspondence_analysis(\n",
    "    source_mesh=source_mesh,\n",
    "    target_mesh=target_mesh,\n",
    "    source_points_3d=source_points_3d,\n",
    "    device=device,\n",
    "    pipe=pipe,\n",
    "    dino_model=dino_model,\n",
    "    prompt=prompt,\n",
    "    num_views=num_views\n",
    ")\n",
    "\n",
    "print(\"\\n✅ Analysis complete!\")"
   ]
  },
  {
   "cell_type": "code",
   "execution_count": 12,
   "id": "f66e2cdd-3bfa-40c2-ba56-303c1f2f1f97",
   "metadata": {},
   "outputs": [
    {
     "name": "stdout",
     "output_type": "stream",
     "text": [
      "Source mesh: 11799 vertices, 23334 faces\n",
      "Target mesh: 15566 vertices, 30916 faces\n",
      "\n",
      "Analysis Configuration:\n",
      "- Text prompt: 'a beaker'\n",
      "- Number of views: 10\n",
      "Finding correspondences for 4 source points...\n",
      "Closest vertices to input 3D points:\n",
      "  Point 0: [-0.00793887 -0.0099004  -0.02071472] -> Vertex 7884 (distance: 0.0246)\n",
      "  Point 1: [ 0.01191107  0.00449564 -0.02732792] -> Vertex 9922 (distance: 0.0217)\n",
      "  Point 2: [ 0.01248061  0.00253191 -0.05360645] -> Vertex 197 (distance: 0.0112)\n",
      "  Point 3: [ 0.01231679  0.0029739  -0.00678797] -> Vertex 10093 (distance: 0.0221)\n",
      "Computing features for source mesh...\n",
      "Rendering complete\n"
     ]
    },
    {
     "name": "stderr",
     "output_type": "stream",
     "text": [
      "100%|██████████████████████████████████████████████████████████████████████████████████████████████| 10/10 [00:24<00:00,  2.49s/it]\n"
     ]
    },
    {
     "name": "stdout",
     "output_type": "stream",
     "text": [
      "Number of missing features:  982\n",
      "Copied features from nearest vertices\n",
      "Time taken in mins:  0.4528127153714498\n",
      "Computing features for target mesh...\n",
      "Rendering complete\n"
     ]
    },
    {
     "name": "stderr",
     "output_type": "stream",
     "text": [
      "100%|██████████████████████████████████████████████████████████████████████████████████████████████| 10/10 [00:24<00:00,  2.43s/it]"
     ]
    },
    {
     "name": "stdout",
     "output_type": "stream",
     "text": [
      "Number of missing features:  1371\n",
      "Copied features from nearest vertices\n",
      "Time taken in mins:  0.4431464711825053\n",
      "  Point 0: Source vertex 7884 -> Target vertex 3626 (similarity: 0.5425)\n",
      "  Point 1: Source vertex 9922 -> Target vertex 9198 (similarity: 0.5269)\n",
      "  Point 2: Source vertex 197 -> Target vertex 9448 (similarity: 0.5132)\n",
      "  Point 3: Source vertex 10093 -> Target vertex 2610 (similarity: 0.5752)\n",
      "🎨 Visualizing 4 correspondences:\n",
      "  Correspondence 1: Source vertex 7884 ↔ Target vertex 3626 (similarity: 0.5425)\n",
      "    Color: RGB(1.00, 0.20, 0.20)\n",
      "  Correspondence 2: Source vertex 9922 ↔ Target vertex 9198 (similarity: 0.5269)\n",
      "    Color: RGB(0.45, 0.90, 0.00)\n",
      "  Correspondence 3: Source vertex 197 ↔ Target vertex 9448 (similarity: 0.5132)\n",
      "    Color: RGB(0.20, 1.00, 1.00)\n",
      "  Correspondence 4: Source vertex 10093 ↔ Target vertex 2610 (similarity: 0.5752)\n",
      "    Color: RGB(0.45, 0.00, 0.90)\n",
      "🎯 Creating combined mesh + 3D marker visualization...\n"
     ]
    },
    {
     "name": "stderr",
     "output_type": "stream",
     "text": [
      "\n"
     ]
    },
    {
     "data": {
      "application/vnd.jupyter.widget-view+json": {
       "model_id": "0bf00acf1c1249f08661ab3de48a768f",
       "version_major": 2,
       "version_minor": 0
      },
      "text/plain": [
       "HBox(children=(Output(), Output()))"
      ]
     },
     "metadata": {},
     "output_type": "display_data"
    },
    {
     "data": {
      "application/vnd.jupyter.widget-view+json": {
       "model_id": "0254fdd1711148fe9020ee8e0057c1f2",
       "version_major": 2,
       "version_minor": 0
      },
      "text/plain": [
       "HBox(children=(Output(), Output()))"
      ]
     },
     "metadata": {},
     "output_type": "display_data"
    },
    {
     "name": "stdout",
     "output_type": "stream",
     "text": [
      "✅ Combined mesh + 3D octahedron markers visualization created!\n",
      "   Each correspondence pair has matching colored 3D octahedrons\n",
      "   Source mesh: 11799 vertices + 24 marker vertices\n",
      "   Target mesh: 15566 vertices + 24 marker vertices\n",
      "\n",
      "📊 Correspondence Statistics:\n",
      "  - Average similarity: 0.5394\n",
      "  - Min similarity: 0.5132\n",
      "  - Max similarity: 0.5752\n",
      "  - Total correspondences: 4\n",
      "\n",
      "✅ Analysis complete!\n"
     ]
    }
   ],
   "source": [
    "# Mesh paths - modify these to use your own meshes\n",
    "source_mesh_path = \"meshes/oakink_beaker_decomp.obj\"\n",
    "target_mesh_path = \"meshes/oakink_bowl_decomp.obj\"\n",
    "\n",
    "# source_mesh = MeshContainer().load_from_file(source_mesh_path)\n",
    "target_mesh = MeshContainer().load_from_file(target_mesh_path)\n",
    "\n",
    "print(f\"Source mesh: {len(source_mesh.vert)} vertices, {len(source_mesh.face)} faces\")\n",
    "print(f\"Target mesh: {len(target_mesh.vert)} vertices, {len(target_mesh.face)} faces\")\n",
    "\n",
    "# Analysis parameters\n",
    "prompt = \"a beaker\"  # Text prompt for feature extraction\n",
    "num_views = 10  # Number of views for rendering (reduced for faster computation)\n",
    "\n",
    "print(f\"\\nAnalysis Configuration:\")\n",
    "print(f\"- Text prompt: '{prompt}'\")\n",
    "print(f\"- Number of views: {num_views}\")\n",
    "\n",
    "\n",
    "\n",
    "# Run the complete analysis pipeline\n",
    "similarity_colors, raw_similarities, source_point_idx, closest_distance = run_multi_point_correspondence_analysis(\n",
    "    source_mesh=source_mesh,\n",
    "    target_mesh=target_mesh,\n",
    "    source_points_3d=source_points_3d,\n",
    "    device=device,\n",
    "    pipe=pipe,\n",
    "    dino_model=dino_model,\n",
    "    prompt=prompt,\n",
    "    num_views=num_views\n",
    ")\n",
    "\n",
    "print(\"\\n✅ Analysis complete!\")"
   ]
  },
  {
   "cell_type": "code",
   "execution_count": 13,
   "id": "12161555-abc9-4448-969e-86eb9080e2be",
   "metadata": {},
   "outputs": [
    {
     "name": "stdout",
     "output_type": "stream",
     "text": [
      "Source mesh: 11799 vertices, 23334 faces\n",
      "Target mesh: 23304 vertices, 45840 faces\n",
      "\n",
      "Analysis Configuration:\n",
      "- Text prompt: 'a beaker'\n",
      "- Number of views: 10\n",
      "Finding correspondences for 4 source points...\n",
      "Closest vertices to input 3D points:\n",
      "  Point 0: [-0.00793887 -0.0099004  -0.02071472] -> Vertex 7884 (distance: 0.0246)\n",
      "  Point 1: [ 0.01191107  0.00449564 -0.02732792] -> Vertex 9922 (distance: 0.0217)\n",
      "  Point 2: [ 0.01248061  0.00253191 -0.05360645] -> Vertex 197 (distance: 0.0112)\n",
      "  Point 3: [ 0.01231679  0.0029739  -0.00678797] -> Vertex 10093 (distance: 0.0221)\n",
      "Computing features for source mesh...\n",
      "Rendering complete\n"
     ]
    },
    {
     "name": "stderr",
     "output_type": "stream",
     "text": [
      "100%|██████████████████████████████████████████████████████████████████████████████████████████████| 10/10 [00:29<00:00,  2.95s/it]\n"
     ]
    },
    {
     "name": "stdout",
     "output_type": "stream",
     "text": [
      "Number of missing features:  982\n",
      "Copied features from nearest vertices\n",
      "Time taken in mins:  0.5213716427485148\n",
      "Computing features for target mesh...\n",
      "Rendering complete\n"
     ]
    },
    {
     "name": "stderr",
     "output_type": "stream",
     "text": [
      "100%|██████████████████████████████████████████████████████████████████████████████████████████████| 10/10 [00:31<00:00,  3.19s/it]"
     ]
    },
    {
     "name": "stdout",
     "output_type": "stream",
     "text": [
      "Number of missing features:  3917\n",
      "Copied features from nearest vertices\n",
      "Time taken in mins:  0.5942243059476217\n",
      "  Point 0: Source vertex 7884 -> Target vertex 8059 (similarity: 0.7974)\n",
      "  Point 1: Source vertex 9922 -> Target vertex 9522 (similarity: 0.8232)\n",
      "  Point 2: Source vertex 197 -> Target vertex 322 (similarity: 0.5249)\n",
      "  Point 3: Source vertex 10093 -> Target vertex 4826 (similarity: 0.7974)\n",
      "🎨 Visualizing 4 correspondences:\n",
      "  Correspondence 1: Source vertex 7884 ↔ Target vertex 8059 (similarity: 0.7974)\n",
      "    Color: RGB(1.00, 0.20, 0.20)\n",
      "  Correspondence 2: Source vertex 9922 ↔ Target vertex 9522 (similarity: 0.8232)\n",
      "    Color: RGB(0.45, 0.90, 0.00)\n",
      "  Correspondence 3: Source vertex 197 ↔ Target vertex 322 (similarity: 0.5249)\n",
      "    Color: RGB(0.20, 1.00, 1.00)\n",
      "  Correspondence 4: Source vertex 10093 ↔ Target vertex 4826 (similarity: 0.7974)\n",
      "    Color: RGB(0.45, 0.00, 0.90)\n",
      "🎯 Creating combined mesh + 3D marker visualization...\n"
     ]
    },
    {
     "name": "stderr",
     "output_type": "stream",
     "text": [
      "\n"
     ]
    },
    {
     "data": {
      "application/vnd.jupyter.widget-view+json": {
       "model_id": "13eed21278ef42e4985aa89d5d5227dc",
       "version_major": 2,
       "version_minor": 0
      },
      "text/plain": [
       "HBox(children=(Output(), Output()))"
      ]
     },
     "metadata": {},
     "output_type": "display_data"
    },
    {
     "data": {
      "application/vnd.jupyter.widget-view+json": {
       "model_id": "8fa3520a0cfd407b93ccf7f6332a11e0",
       "version_major": 2,
       "version_minor": 0
      },
      "text/plain": [
       "HBox(children=(Output(), Output()))"
      ]
     },
     "metadata": {},
     "output_type": "display_data"
    },
    {
     "name": "stdout",
     "output_type": "stream",
     "text": [
      "✅ Combined mesh + 3D octahedron markers visualization created!\n",
      "   Each correspondence pair has matching colored 3D octahedrons\n",
      "   Source mesh: 11799 vertices + 24 marker vertices\n",
      "   Target mesh: 23304 vertices + 24 marker vertices\n",
      "\n",
      "📊 Correspondence Statistics:\n",
      "  - Average similarity: 0.7357\n",
      "  - Min similarity: 0.5249\n",
      "  - Max similarity: 0.8232\n",
      "  - Total correspondences: 4\n",
      "\n",
      "✅ Analysis complete!\n"
     ]
    }
   ],
   "source": [
    "# Mesh paths - modify these to use your own meshes\n",
    "source_mesh_path = \"meshes/oakink_beaker_decomp.obj\"\n",
    "target_mesh_path = \"meshes/oakink_mug2_decomp.obj\"\n",
    "\n",
    "# source_mesh = MeshContainer().load_from_file(source_mesh_path)\n",
    "target_mesh = MeshContainer().load_from_file(target_mesh_path)\n",
    "\n",
    "print(f\"Source mesh: {len(source_mesh.vert)} vertices, {len(source_mesh.face)} faces\")\n",
    "print(f\"Target mesh: {len(target_mesh.vert)} vertices, {len(target_mesh.face)} faces\")\n",
    "\n",
    "# Analysis parameters\n",
    "prompt = \"a beaker\"  # Text prompt for feature extraction\n",
    "num_views = 10  # Number of views for rendering (reduced for faster computation)\n",
    "\n",
    "print(f\"\\nAnalysis Configuration:\")\n",
    "print(f\"- Text prompt: '{prompt}'\")\n",
    "print(f\"- Number of views: {num_views}\")\n",
    "\n",
    "\n",
    "\n",
    "# Run the complete analysis pipeline\n",
    "similarity_colors, raw_similarities, source_point_idx, closest_distance = run_multi_point_correspondence_analysis(\n",
    "    source_mesh=source_mesh,\n",
    "    target_mesh=target_mesh,\n",
    "    source_points_3d=source_points_3d,\n",
    "    device=device,\n",
    "    pipe=pipe,\n",
    "    dino_model=dino_model,\n",
    "    prompt=prompt,\n",
    "    num_views=num_views\n",
    ")\n",
    "\n",
    "print(\"\\n✅ Analysis complete!\")"
   ]
  },
  {
   "cell_type": "code",
   "execution_count": 14,
   "id": "ac6c84e6-7ecd-43e2-8592-10d7853d7503",
   "metadata": {},
   "outputs": [
    {
     "name": "stdout",
     "output_type": "stream",
     "text": [
      "Source mesh: 11799 vertices, 23334 faces\n",
      "Target mesh: 7845 vertices, 15610 faces\n",
      "\n",
      "Analysis Configuration:\n",
      "- Text prompt: 'a beaker'\n",
      "- Number of views: 10\n",
      "Finding correspondences for 4 source points...\n",
      "Closest vertices to input 3D points:\n",
      "  Point 0: [-0.00793887 -0.0099004  -0.02071472] -> Vertex 7884 (distance: 0.0246)\n",
      "  Point 1: [ 0.01191107  0.00449564 -0.02732792] -> Vertex 9922 (distance: 0.0217)\n",
      "  Point 2: [ 0.01248061  0.00253191 -0.05360645] -> Vertex 197 (distance: 0.0112)\n",
      "  Point 3: [ 0.01231679  0.0029739  -0.00678797] -> Vertex 10093 (distance: 0.0221)\n",
      "Computing features for source mesh...\n",
      "Rendering complete\n"
     ]
    },
    {
     "name": "stderr",
     "output_type": "stream",
     "text": [
      "100%|██████████████████████████████████████████████████████████████████████████████████████████████| 10/10 [00:32<00:00,  3.28s/it]\n"
     ]
    },
    {
     "name": "stdout",
     "output_type": "stream",
     "text": [
      "Number of missing features:  982\n",
      "Copied features from nearest vertices\n",
      "Time taken in mins:  0.5796547253926595\n",
      "Computing features for target mesh...\n",
      "Rendering complete\n"
     ]
    },
    {
     "name": "stderr",
     "output_type": "stream",
     "text": [
      "100%|██████████████████████████████████████████████████████████████████████████████████████████████| 10/10 [00:29<00:00,  2.99s/it]"
     ]
    },
    {
     "name": "stdout",
     "output_type": "stream",
     "text": [
      "Number of missing features:  572\n",
      "Copied features from nearest vertices\n",
      "Time taken in mins:  0.5217287739117941\n",
      "  Point 0: Source vertex 7884 -> Target vertex 1459 (similarity: 0.7407)\n",
      "  Point 1: Source vertex 9922 -> Target vertex 4677 (similarity: 0.6577)\n",
      "  Point 2: Source vertex 197 -> Target vertex 7254 (similarity: 0.3733)\n",
      "  Point 3: Source vertex 10093 -> Target vertex 4648 (similarity: 0.6421)\n",
      "🎨 Visualizing 4 correspondences:\n",
      "  Correspondence 1: Source vertex 7884 ↔ Target vertex 1459 (similarity: 0.7407)\n",
      "    Color: RGB(1.00, 0.20, 0.20)\n",
      "  Correspondence 2: Source vertex 9922 ↔ Target vertex 4677 (similarity: 0.6577)\n",
      "    Color: RGB(0.45, 0.90, 0.00)\n",
      "  Correspondence 3: Source vertex 197 ↔ Target vertex 7254 (similarity: 0.3733)\n",
      "    Color: RGB(0.20, 1.00, 1.00)\n",
      "  Correspondence 4: Source vertex 10093 ↔ Target vertex 4648 (similarity: 0.6421)\n",
      "    Color: RGB(0.45, 0.00, 0.90)\n",
      "🎯 Creating combined mesh + 3D marker visualization...\n"
     ]
    },
    {
     "name": "stderr",
     "output_type": "stream",
     "text": [
      "\n"
     ]
    },
    {
     "data": {
      "application/vnd.jupyter.widget-view+json": {
       "model_id": "f4150777c53a46b49d778c585563eb86",
       "version_major": 2,
       "version_minor": 0
      },
      "text/plain": [
       "HBox(children=(Output(), Output()))"
      ]
     },
     "metadata": {},
     "output_type": "display_data"
    },
    {
     "data": {
      "application/vnd.jupyter.widget-view+json": {
       "model_id": "8daf2f514c26430facfcfb2ba8f27d9f",
       "version_major": 2,
       "version_minor": 0
      },
      "text/plain": [
       "HBox(children=(Output(), Output()))"
      ]
     },
     "metadata": {},
     "output_type": "display_data"
    },
    {
     "name": "stdout",
     "output_type": "stream",
     "text": [
      "✅ Combined mesh + 3D octahedron markers visualization created!\n",
      "   Each correspondence pair has matching colored 3D octahedrons\n",
      "   Source mesh: 11799 vertices + 24 marker vertices\n",
      "   Target mesh: 7845 vertices + 24 marker vertices\n",
      "\n",
      "📊 Correspondence Statistics:\n",
      "  - Average similarity: 0.6035\n",
      "  - Min similarity: 0.3733\n",
      "  - Max similarity: 0.7407\n",
      "  - Total correspondences: 4\n",
      "\n",
      "✅ Analysis complete!\n"
     ]
    }
   ],
   "source": [
    "# Mesh paths - modify these to use your own meshes\n",
    "source_mesh_path = \"meshes/oakink_beaker_decomp.obj\"\n",
    "target_mesh_path = \"meshes/oakink_vase_decomp.obj\"\n",
    "\n",
    "# source_mesh = MeshContainer().load_from_file(source_mesh_path)\n",
    "target_mesh = MeshContainer().load_from_file(target_mesh_path)\n",
    "\n",
    "print(f\"Source mesh: {len(source_mesh.vert)} vertices, {len(source_mesh.face)} faces\")\n",
    "print(f\"Target mesh: {len(target_mesh.vert)} vertices, {len(target_mesh.face)} faces\")\n",
    "\n",
    "# Analysis parameters\n",
    "prompt = \"a beaker\"  # Text prompt for feature extraction\n",
    "num_views = 10  # Number of views for rendering (reduced for faster computation)\n",
    "\n",
    "print(f\"\\nAnalysis Configuration:\")\n",
    "print(f\"- Text prompt: '{prompt}'\")\n",
    "print(f\"- Number of views: {num_views}\")\n",
    "\n",
    "\n",
    "\n",
    "# Run the complete analysis pipeline\n",
    "similarity_colors, raw_similarities, source_point_idx, closest_distance = run_multi_point_correspondence_analysis(\n",
    "    source_mesh=source_mesh,\n",
    "    target_mesh=target_mesh,\n",
    "    source_points_3d=source_points_3d,\n",
    "    device=device,\n",
    "    pipe=pipe,\n",
    "    dino_model=dino_model,\n",
    "    prompt=prompt,\n",
    "    num_views=num_views\n",
    ")\n",
    "\n",
    "print(\"\\n✅ Analysis complete!\")"
   ]
  },
  {
   "cell_type": "code",
   "execution_count": 15,
   "id": "5379b271-60e7-4f4a-9e0b-911ec5d3ee4b",
   "metadata": {},
   "outputs": [
    {
     "name": "stdout",
     "output_type": "stream",
     "text": [
      "Source mesh: 11799 vertices, 23334 faces\n",
      "Target mesh: 13513 vertices, 26746 faces\n",
      "\n",
      "Analysis Configuration:\n",
      "- Text prompt: 'a beaker'\n",
      "- Number of views: 10\n",
      "Finding correspondences for 4 source points...\n",
      "Closest vertices to input 3D points:\n",
      "  Point 0: [-0.00793887 -0.0099004  -0.02071472] -> Vertex 7884 (distance: 0.0246)\n",
      "  Point 1: [ 0.01191107  0.00449564 -0.02732792] -> Vertex 9922 (distance: 0.0217)\n",
      "  Point 2: [ 0.01248061  0.00253191 -0.05360645] -> Vertex 197 (distance: 0.0112)\n",
      "  Point 3: [ 0.01231679  0.0029739  -0.00678797] -> Vertex 10093 (distance: 0.0221)\n",
      "Computing features for source mesh...\n",
      "Rendering complete\n"
     ]
    },
    {
     "name": "stderr",
     "output_type": "stream",
     "text": [
      "100%|██████████████████████████████████████████████████████████████████████████████████████████████| 10/10 [00:31<00:00,  3.10s/it]\n"
     ]
    },
    {
     "name": "stdout",
     "output_type": "stream",
     "text": [
      "Number of missing features:  982\n",
      "Copied features from nearest vertices\n",
      "Time taken in mins:  0.5497798164685567\n",
      "Computing features for target mesh...\n",
      "Rendering complete\n"
     ]
    },
    {
     "name": "stderr",
     "output_type": "stream",
     "text": [
      "100%|██████████████████████████████████████████████████████████████████████████████████████████████| 10/10 [00:30<00:00,  3.03s/it]"
     ]
    },
    {
     "name": "stdout",
     "output_type": "stream",
     "text": [
      "Number of missing features:  1574\n",
      "Copied features from nearest vertices\n",
      "Time taken in mins:  0.540040123462677\n",
      "  Point 0: Source vertex 7884 -> Target vertex 5488 (similarity: 0.7646)\n",
      "  Point 1: Source vertex 9922 -> Target vertex 7697 (similarity: 0.7485)\n",
      "  Point 2: Source vertex 197 -> Target vertex 6349 (similarity: 0.3638)\n",
      "  Point 3: Source vertex 10093 -> Target vertex 7696 (similarity: 0.7407)\n",
      "🎨 Visualizing 4 correspondences:\n",
      "  Correspondence 1: Source vertex 7884 ↔ Target vertex 5488 (similarity: 0.7646)\n",
      "    Color: RGB(1.00, 0.20, 0.20)\n",
      "  Correspondence 2: Source vertex 9922 ↔ Target vertex 7697 (similarity: 0.7485)\n",
      "    Color: RGB(0.45, 0.90, 0.00)\n",
      "  Correspondence 3: Source vertex 197 ↔ Target vertex 6349 (similarity: 0.3638)\n",
      "    Color: RGB(0.20, 1.00, 1.00)\n",
      "  Correspondence 4: Source vertex 10093 ↔ Target vertex 7696 (similarity: 0.7407)\n",
      "    Color: RGB(0.45, 0.00, 0.90)\n",
      "🎯 Creating combined mesh + 3D marker visualization...\n"
     ]
    },
    {
     "name": "stderr",
     "output_type": "stream",
     "text": [
      "\n"
     ]
    },
    {
     "data": {
      "application/vnd.jupyter.widget-view+json": {
       "model_id": "63e69178aae842f2934b310236796804",
       "version_major": 2,
       "version_minor": 0
      },
      "text/plain": [
       "HBox(children=(Output(), Output()))"
      ]
     },
     "metadata": {},
     "output_type": "display_data"
    },
    {
     "data": {
      "application/vnd.jupyter.widget-view+json": {
       "model_id": "1f989a513b094654a37ca29a98ba4324",
       "version_major": 2,
       "version_minor": 0
      },
      "text/plain": [
       "HBox(children=(Output(), Output()))"
      ]
     },
     "metadata": {},
     "output_type": "display_data"
    },
    {
     "name": "stdout",
     "output_type": "stream",
     "text": [
      "✅ Combined mesh + 3D octahedron markers visualization created!\n",
      "   Each correspondence pair has matching colored 3D octahedrons\n",
      "   Source mesh: 11799 vertices + 24 marker vertices\n",
      "   Target mesh: 13513 vertices + 24 marker vertices\n",
      "\n",
      "📊 Correspondence Statistics:\n",
      "  - Average similarity: 0.6544\n",
      "  - Min similarity: 0.3638\n",
      "  - Max similarity: 0.7646\n",
      "  - Total correspondences: 4\n",
      "\n",
      "✅ Analysis complete!\n"
     ]
    }
   ],
   "source": [
    "# Mesh paths - modify these to use your own meshes\n",
    "source_mesh_path = \"meshes/oakink_beaker_decomp.obj\"\n",
    "target_mesh_path = \"meshes/oakink_jar_decomp.obj\"\n",
    "\n",
    "# source_mesh = MeshContainer().load_from_file(source_mesh_path)\n",
    "target_mesh = MeshContainer().load_from_file(target_mesh_path)\n",
    "\n",
    "print(f\"Source mesh: {len(source_mesh.vert)} vertices, {len(source_mesh.face)} faces\")\n",
    "print(f\"Target mesh: {len(target_mesh.vert)} vertices, {len(target_mesh.face)} faces\")\n",
    "\n",
    "# Analysis parameters\n",
    "prompt = \"a beaker\"  # Text prompt for feature extraction\n",
    "num_views = 10  # Number of views for rendering (reduced for faster computation)\n",
    "\n",
    "print(f\"\\nAnalysis Configuration:\")\n",
    "print(f\"- Text prompt: '{prompt}'\")\n",
    "print(f\"- Number of views: {num_views}\")\n",
    "\n",
    "\n",
    "\n",
    "# Run the complete analysis pipeline\n",
    "similarity_colors, raw_similarities, source_point_idx, closest_distance = run_multi_point_correspondence_analysis(\n",
    "    source_mesh=source_mesh,\n",
    "    target_mesh=target_mesh,\n",
    "    source_points_3d=source_points_3d,\n",
    "    device=device,\n",
    "    pipe=pipe,\n",
    "    dino_model=dino_model,\n",
    "    prompt=prompt,\n",
    "    num_views=num_views\n",
    ")\n",
    "\n",
    "print(\"\\n✅ Analysis complete!\")"
   ]
  },
  {
   "cell_type": "code",
   "execution_count": null,
   "id": "dd540bc5-03d9-4488-b9bf-0b1183332c11",
   "metadata": {},
   "outputs": [],
   "source": []
  },
  {
   "cell_type": "markdown",
   "id": "f693f9b8",
   "metadata": {},
   "source": [
    "## 7. Analyze Results\n",
    "\n",
    "Let's examine the similarity scores and find the most similar regions."
   ]
  },
  {
   "cell_type": "code",
   "execution_count": null,
   "id": "0d472d74",
   "metadata": {},
   "outputs": [],
   "source": [
    "# Find the most similar points on target mesh\n",
    "top_k = 10\n",
    "most_similar_indices = np.argsort(raw_similarities)[-top_k:][::-1]\n",
    "least_similar_indices = np.argsort(raw_similarities)[:top_k]\n",
    "\n",
    "print(f\"📊 Similarity Statistics:\")\n",
    "print(f\"- Min similarity: {raw_similarities.min():.4f}\")\n",
    "print(f\"- Max similarity: {raw_similarities.max():.4f}\")\n",
    "print(f\"- Mean similarity: {raw_similarities.mean():.4f}\")\n",
    "print(f\"- Std similarity: {raw_similarities.std():.4f}\")\n",
    "\n",
    "print(f\"\\n🔥 Top {top_k} most similar vertices on target mesh:\")\n",
    "for i, idx in enumerate(most_similar_indices):\n",
    "    print(f\"  {i+1:2d}. Vertex {idx:5d}: similarity = {raw_similarities[idx]:.4f}\")\n",
    "\n",
    "print(f\"\\n❄️  Bottom {top_k} least similar vertices on target mesh:\")\n",
    "for i, idx in enumerate(least_similar_indices):\n",
    "    print(f\"  {i+1:2d}. Vertex {idx:5d}: similarity = {raw_similarities[idx]:.4f}\")"
   ]
  },
  {
   "cell_type": "markdown",
   "id": "2ddfe71d",
   "metadata": {},
   "source": [
    "## 8. Visualize Similarity Distribution\n",
    "\n",
    "Plot the distribution of similarity scores to understand the data better."
   ]
  },
  {
   "cell_type": "code",
   "execution_count": null,
   "id": "385b7406",
   "metadata": {},
   "outputs": [],
   "source": [
    "import matplotlib.pyplot as plt \n",
    "\n",
    "# Plot similarity distribution\n",
    "plt.figure(figsize=(12, 4))\n",
    "\n",
    "plt.subplot(1, 2, 1)\n",
    "plt.hist(raw_similarities, bins=50, alpha=0.7, edgecolor='black')\n",
    "plt.axvline(raw_similarities.mean(), color='red', linestyle='--', label=f'Mean: {raw_similarities.mean():.3f}')\n",
    "plt.axvline(raw_similarities.max(), color='green', linestyle='--', label=f'Max: {raw_similarities.max():.3f}')\n",
    "plt.xlabel('Similarity Score')\n",
    "plt.ylabel('Frequency')\n",
    "plt.title('Distribution of Similarity Scores')\n",
    "plt.legend()\n",
    "plt.grid(True, alpha=0.3)\n",
    "\n",
    "plt.subplot(1, 2, 2)\n",
    "plt.plot(sorted(raw_similarities, reverse=True), linewidth=2)\n",
    "plt.xlabel('Vertex Rank (sorted by similarity)')\n",
    "plt.ylabel('Similarity Score')\n",
    "plt.title('Similarity Scores (Ranked)')\n",
    "plt.grid(True, alpha=0.3)\n",
    "\n",
    "plt.tight_layout()\n",
    "plt.show()"
   ]
  },
  {
   "cell_type": "markdown",
   "id": "9bec786b",
   "metadata": {},
   "source": [
    "## 9. Interactive Visualization\n",
    "\n",
    "The main result visualization showing:\n",
    "- **Left**: Source mesh (gray) with the selected point highlighted in red\n",
    "- **Right**: Target mesh colored by similarity (warmer colors = more similar)\n",
    "\n",
    "You can interact with the 3D visualization to rotate and zoom the meshes."
   ]
  },
  {
   "cell_type": "code",
   "execution_count": null,
   "id": "645b2a72",
   "metadata": {},
   "outputs": [],
   "source": [
    "print(\"🎨 Interactive Visualization:\")\n",
    "print(\"- Source mesh (left): Gray with red point showing the reference vertex\")\n",
    "print(\"- Target mesh (right): Colored by similarity (warmer colors = more similar)\")\n",
    "print(\"- Use mouse to rotate and zoom the 3D view\")\n",
    "\n",
    "# The visualization was already created by run_point_similarity_analysis\n",
    "# But let's create it again with custom colormap options\n",
    "visualize_point_similarity(\n",
    "    source_mesh=source_mesh,\n",
    "    target_mesh=target_mesh,\n",
    "    source_point_idx=source_point_idx,\n",
    "    similarity_colors=similarity_colors,\n",
    ")"
   ]
  },
  {
   "cell_type": "markdown",
   "id": "65f4dff0",
   "metadata": {},
   "source": [
    "## 10. Experiment with Different Points\n",
    "\n",
    "Try analyzing different points on the source mesh to see how similarity patterns change."
   ]
  },
  {
   "cell_type": "code",
   "execution_count": null,
   "id": "76965326",
   "metadata": {},
   "outputs": [],
   "source": [
    "# Experiment with different source points\n",
    "# You can change these indices and re-run this cell\n",
    "experiment_points = [100, 500, 1500, 2000]  # Different vertex indices to try\n",
    "\n",
    "for point_idx in experiment_points:\n",
    "    if point_idx < len(source_mesh.vert):\n",
    "        print(f\"\\n🔬 Experimenting with source vertex {point_idx}...\")\n",
    "\n",
    "        # Quick analysis with fewer views for faster computation\n",
    "        exp_colors, exp_similarities = point_similarity_colormap(\n",
    "            device=device,\n",
    "            pipe=pipe,\n",
    "            dino_model=dino_model,\n",
    "            source_mesh=source_mesh,\n",
    "            target_mesh=target_mesh,\n",
    "            source_point_idx=point_idx,\n",
    "            prompt=prompt,\n",
    "            num_views=10  # Fewer views for quick experiment\n",
    "        )\n",
    "\n",
    "        # Show quick stats\n",
    "        top_match = np.argmax(exp_similarities)\n",
    "        print(f\"  Best match: vertex {top_match} (similarity: {exp_similarities[top_match]:.4f})\")\n",
    "\n",
    "        # Visualize\n",
    "        visualize_point_similarity(\n",
    "            source_mesh=source_mesh,\n",
    "            target_mesh=target_mesh,\n",
    "            source_point_idx=point_idx,\n",
    "            similarity_colors=exp_colors,\n",
    "            colormap='viridis'\n",
    "        )\n",
    "    else:\n",
    "        print(f\"Skipping vertex {point_idx} (mesh only has {len(source_mesh.vert)} vertices)\")"
   ]
  },
  {
   "cell_type": "markdown",
   "id": "b4e136c9",
   "metadata": {},
   "source": [
    "## 11. Save Results (Optional)\n",
    "\n",
    "Save the similarity data for later analysis."
   ]
  },
  {
   "cell_type": "code",
   "execution_count": null,
   "id": "474618dd",
   "metadata": {},
   "outputs": [],
   "source": [
    "# Save results to files\n",
    "output_prefix = f\"similarity_results_vertex_{source_point_idx}\"\n",
    "\n",
    "# Save similarity scores\n",
    "np.save(f\"{output_prefix}_similarities.npy\", raw_similarities)\n",
    "np.save(f\"{output_prefix}_colors.npy\", similarity_colors)\n",
    "\n",
    "# Save analysis summary\n",
    "summary = {\n",
    "    'source_mesh_path': source_mesh_path,\n",
    "    'target_mesh_path': target_mesh_path,\n",
    "    'source_point_idx': source_point_idx,\n",
    "    'prompt': prompt,\n",
    "    'num_views': num_views,\n",
    "    'min_similarity': float(raw_similarities.min()),\n",
    "    'max_similarity': float(raw_similarities.max()),\n",
    "    'mean_similarity': float(raw_similarities.mean()),\n",
    "    'std_similarity': float(raw_similarities.std()),\n",
    "    'top_matches': [int(idx) for idx in most_similar_indices[:5]]\n",
    "}\n",
    "\n",
    "import json\n",
    "with open(f\"{output_prefix}_summary.json\", 'w') as f:\n",
    "    json.dump(summary, f, indent=2)\n",
    "\n",
    "print(f\"✅ Results saved:\")\n",
    "print(f\"  - Similarities: {output_prefix}_similarities.npy\")\n",
    "print(f\"  - Colors: {output_prefix}_colors.npy\")\n",
    "print(f\"  - Summary: {output_prefix}_summary.json\")"
   ]
  },
  {
   "cell_type": "markdown",
   "id": "d96f80cb",
   "metadata": {},
   "source": [
    "## Summary\n",
    "\n",
    "This notebook demonstrated how to:\n",
    "\n",
    "1. ✅ Load and visualize 3D meshes\n",
    "2. ✅ Extract semantic features using diffusion + DINO models\n",
    "3. ✅ Compute similarity between a specific source point and all target vertices\n",
    "4. ✅ Visualize results with interactive 3D plots\n",
    "5. ✅ Analyze similarity distributions and find best matches\n",
    "6. ✅ Experiment with different source points\n",
    "7. ✅ Save results for future analysis\n",
    "\n",
    "### Next Steps\n",
    "\n",
    "- Try different mesh pairs\n",
    "- Experiment with different prompts\n",
    "- Adjust the number of views for quality vs. speed trade-offs\n",
    "- Use the saved similarity data for further analysis or applications"
   ]
  }
 ],
 "metadata": {
  "kernelspec": {
   "display_name": "Python (diff3f)",
   "language": "python",
   "name": "diff3f"
  },
  "language_info": {
   "codemirror_mode": {
    "name": "ipython",
    "version": 3
   },
   "file_extension": ".py",
   "mimetype": "text/x-python",
   "name": "python",
   "nbconvert_exporter": "python",
   "pygments_lexer": "ipython3",
   "version": "3.10.18"
  }
 },
 "nbformat": 4,
 "nbformat_minor": 5
}
