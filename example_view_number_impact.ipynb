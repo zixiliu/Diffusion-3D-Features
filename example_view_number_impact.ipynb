{
 "cells": [
  {
   "cell_type": "markdown",
   "id": "b155ea17",
   "metadata": {},
   "source": [
    "# Point-to-Mesh Similarity Analysis\n",
    "\n",
    "This notebook demonstrates how to:\n",
    "1. Load two meshes\n",
    "2. Specify a particular point on the source mesh\n",
    "3. Color-map the target mesh based on similarity to that point\n",
    "\n",
    "The analysis uses diffusion features + DINO features to compute semantic similarity between mesh vertices."
   ]
  },
  {
   "cell_type": "markdown",
   "id": "b2dc6797",
   "metadata": {},
   "source": [
    "## 1. Import Dependencies"
   ]
  },
  {
   "cell_type": "code",
   "execution_count": 1,
   "id": "930249c2",
   "metadata": {},
   "outputs": [
    {
     "name": "stderr",
     "output_type": "stream",
     "text": [
      "/home/zixiliu/miniforge3/envs/diff3f/lib/python3.10/site-packages/accelerate/utils/torch_xla.py:18: UserWarning: pkg_resources is deprecated as an API. See https://setuptools.pypa.io/en/latest/pkg_resources.html. The pkg_resources package is slated for removal as early as 2025-11-30. Refrain from using this package or pin to Setuptools<81.\n",
      "  import pkg_resources\n"
     ]
    },
    {
     "name": "stdout",
     "output_type": "stream",
     "text": [
      "Using device: cuda\n"
     ]
    }
   ],
   "source": [
    "import torch\n",
    "from diff3f import get_features_per_vertex\n",
    "from time import time\n",
    "from utils import convert_mesh_container_to_torch_mesh, cosine_similarity, double_plot, get_colors, generate_colors\n",
    "from dataloaders.mesh_container import MeshContainer\n",
    "from diffusion import init_pipe\n",
    "from dino import init_dino\n",
    "from functional_map import compute_surface_map\n",
    "import importlib\n",
    "import meshplot as mp\n",
    "from point_to_mesh_similarity import run_point_similarity_analysis, point_similarity_colormap, visualize_point_similarity, run_multi_point_correspondence_analysis\n",
    "\n",
    "# Set up device\n",
    "device = torch.device(\"cuda\" if torch.cuda.is_available() else \"cpu\")\n",
    "print(f\"Using device: {device}\")"
   ]
  },
  {
   "cell_type": "markdown",
   "id": "91398f0c",
   "metadata": {},
   "source": [
    "## 2. Initialize Models\n",
    "\n",
    "This step loads the diffusion pipeline and DINO model for feature extraction."
   ]
  },
  {
   "cell_type": "code",
   "execution_count": 2,
   "id": "394b3ae4",
   "metadata": {},
   "outputs": [
    {
     "name": "stdout",
     "output_type": "stream",
     "text": [
      "Initializing diffusion pipeline...\n"
     ]
    },
    {
     "name": "stderr",
     "output_type": "stream",
     "text": [
      "/home/zixiliu/miniforge3/envs/diff3f/lib/python3.10/site-packages/diffusers/configuration_utils.py:239: FutureWarning: It is deprecated to pass a pretrained model name or path to `from_config`.If you were trying to load a model, please use <class 'unet_2d_condition.UNet2DConditionModel'>.load_config(...) followed by <class 'unet_2d_condition.UNet2DConditionModel'>.from_config(...) instead. Otherwise, please make sure to pass a configuration dictionary instead. This functionality will be removed in v1.0.0.\n",
      "  deprecate(\"config-passed-as-path\", \"1.0.0\", deprecation_message, standard_warn=False)\n"
     ]
    },
    {
     "data": {
      "application/vnd.jupyter.widget-view+json": {
       "model_id": "e5c434edf473486384e7d8200014ef25",
       "version_major": 2,
       "version_minor": 0
      },
      "text/plain": [
       "Loading pipeline components...:   0%|          | 0/6 [00:00<?, ?it/s]"
      ]
     },
     "metadata": {},
     "output_type": "display_data"
    },
    {
     "name": "stderr",
     "output_type": "stream",
     "text": [
      "You have disabled the safety checker for <class 'pipeline_controlnet_img2img.StableDiffusionControlNetImg2ImgPipeline'> by passing `safety_checker=None`. Ensure that you abide to the conditions of the Stable Diffusion license and do not expose unfiltered results in services or applications open to the public. Both the diffusers team and Hugging Face strongly recommend to keep the safety filter enabled in all public facing circumstances, disabling it only for use-cases that involve analyzing network behavior or auditing its results. For more information, please have a look at https://github.com/huggingface/diffusers/pull/254 .\n"
     ]
    },
    {
     "name": "stdout",
     "output_type": "stream",
     "text": [
      "Initializing DINO model...\n"
     ]
    },
    {
     "name": "stderr",
     "output_type": "stream",
     "text": [
      "Using cache found in /home/zixiliu/.cache/torch/hub/facebookresearch_dinov2_main\n",
      "/home/zixiliu/.cache/torch/hub/facebookresearch_dinov2_main/dinov2/layers/swiglu_ffn.py:43: UserWarning: xFormers is available (SwiGLU)\n",
      "  warnings.warn(\"xFormers is available (SwiGLU)\")\n",
      "/home/zixiliu/.cache/torch/hub/facebookresearch_dinov2_main/dinov2/layers/attention.py:27: UserWarning: xFormers is available (Attention)\n",
      "  warnings.warn(\"xFormers is available (Attention)\")\n",
      "/home/zixiliu/.cache/torch/hub/facebookresearch_dinov2_main/dinov2/layers/block.py:33: UserWarning: xFormers is available (Block)\n",
      "  warnings.warn(\"xFormers is available (Block)\")\n"
     ]
    },
    {
     "name": "stdout",
     "output_type": "stream",
     "text": [
      "Models initialized successfully!\n"
     ]
    }
   ],
   "source": [
    "print(\"Initializing diffusion pipeline...\")\n",
    "pipe = init_pipe(device)\n",
    "\n",
    "print(\"Initializing DINO model...\")\n",
    "dino_model = init_dino(device)\n",
    "\n",
    "print(\"Models initialized successfully!\")"
   ]
  },
  {
   "cell_type": "markdown",
   "id": "af19f72e",
   "metadata": {},
   "source": [
    "## 3. Load Meshes\n",
    "\n",
    "Load your source and target meshes. You can modify the paths below to use your own meshes."
   ]
  },
  {
   "cell_type": "code",
   "execution_count": 9,
   "id": "6bc0c293",
   "metadata": {},
   "outputs": [
    {
     "name": "stdout",
     "output_type": "stream",
     "text": [
      "Source mesh: 11799 vertices, 23334 faces\n",
      "Target mesh: 11392 vertices, 22696 faces\n"
     ]
    }
   ],
   "source": [
    "# Mesh paths - modify these to use your own meshes\n",
    "source_mesh_path = \"meshes/oakink_beaker_decomp2.obj\"\n",
    "target_mesh_path = \"meshes/oakink_mug_decomp.obj\"\n",
    "\n",
    "source_mesh = MeshContainer().load_from_file(source_mesh_path)\n",
    "target_mesh = MeshContainer().load_from_file(target_mesh_path)\n",
    "\n",
    "\n",
    "print(f\"Source mesh: {len(source_mesh.vert)} vertices, {len(source_mesh.face)} faces\")\n",
    "print(f\"Target mesh: {len(target_mesh.vert)} vertices, {len(target_mesh.face)} faces\")"
   ]
  },
  {
   "cell_type": "markdown",
   "id": "354bd759",
   "metadata": {},
   "source": [
    "## 5. Configure Analysis Parameters\n",
    "\n",
    "Set up the parameters for the similarity analysis."
   ]
  },
  {
   "cell_type": "code",
   "execution_count": 10,
   "id": "35136983",
   "metadata": {},
   "outputs": [
    {
     "name": "stdout",
     "output_type": "stream",
     "text": [
      "\n",
      "Analysis Configuration:\n",
      "- Text prompt: 'a beaker'\n",
      "- Number of views: 10\n"
     ]
    }
   ],
   "source": [
    "# Analysis parameters\n",
    "prompt = \"a beaker\"  # Text prompt for feature extraction\n",
    "num_views = 10  # Number of views for rendering (reduced for faster computation)\n",
    "\n",
    "print(f\"\\nAnalysis Configuration:\")\n",
    "print(f\"- Text prompt: '{prompt}'\")\n",
    "print(f\"- Number of views: {num_views}\")"
   ]
  },
  {
   "cell_type": "markdown",
   "id": "22229792-bcb8-4c15-a7f0-91cbbf35e9fd",
   "metadata": {},
   "source": [
    "# Multi point analysis"
   ]
  },
  {
   "cell_type": "code",
   "execution_count": 11,
   "id": "7d1dc2de-b400-4b31-a4ce-6e58cd22e0f6",
   "metadata": {},
   "outputs": [
    {
     "name": "stdout",
     "output_type": "stream",
     "text": [
      "Finding correspondences for 4 source points...\n",
      "Closest vertices to input 3D points:\n",
      "  Point 0: [-0.00793887 -0.0099004  -0.02071472] -> Vertex 7884 (distance: 0.0246)\n",
      "  Point 1: [ 0.01191107  0.00449564 -0.02732792] -> Vertex 9922 (distance: 0.0217)\n",
      "  Point 2: [ 0.01248061  0.00253191 -0.05360645] -> Vertex 197 (distance: 0.0112)\n",
      "  Point 3: [ 0.01231679  0.0029739  -0.00678797] -> Vertex 10093 (distance: 0.0221)\n",
      "Computing features for source mesh...\n",
      "Rendering complete\n"
     ]
    },
    {
     "name": "stderr",
     "output_type": "stream",
     "text": [
      "100%|████████████████████████████████████████████████████████████████████████████████████████████████| 1/1 [00:02<00:00,  2.81s/it]\n"
     ]
    },
    {
     "name": "stdout",
     "output_type": "stream",
     "text": [
      "Number of missing features:  9575\n",
      "Copied features from nearest vertices\n",
      "Time taken in mins:  0.05395894050598145\n",
      "Computing features for target mesh...\n",
      "Rendering complete\n"
     ]
    },
    {
     "name": "stderr",
     "output_type": "stream",
     "text": [
      "100%|████████████████████████████████████████████████████████████████████████████████████████████████| 1/1 [00:02<00:00,  2.48s/it]"
     ]
    },
    {
     "name": "stdout",
     "output_type": "stream",
     "text": [
      "Number of missing features:  9447\n",
      "Copied features from nearest vertices\n",
      "Time taken in mins:  0.04745624462763468\n",
      "  Point 0: Source vertex 7884 -> Target vertex 792 (similarity: 0.4473)\n",
      "  Point 1: Source vertex 9922 -> Target vertex 57 (similarity: 0.5220)\n",
      "  Point 2: Source vertex 197 -> Target vertex 0 (similarity: 0.3557)\n",
      "  Point 3: Source vertex 10093 -> Target vertex 847 (similarity: 0.4324)\n",
      "🎨 Visualizing 4 correspondences:\n",
      "  Correspondence 1: Source vertex 7884 ↔ Target vertex 792 (similarity: 0.4473)\n",
      "    Color: RGB(1.00, 0.20, 0.20)\n",
      "  Correspondence 2: Source vertex 9922 ↔ Target vertex 57 (similarity: 0.5220)\n",
      "    Color: RGB(0.45, 0.90, 0.00)\n",
      "  Correspondence 3: Source vertex 197 ↔ Target vertex 0 (similarity: 0.3557)\n",
      "    Color: RGB(0.20, 1.00, 1.00)\n",
      "  Correspondence 4: Source vertex 10093 ↔ Target vertex 847 (similarity: 0.4324)\n",
      "    Color: RGB(0.45, 0.00, 0.90)\n",
      "🎯 Creating combined mesh + 3D marker visualization...\n"
     ]
    },
    {
     "name": "stderr",
     "output_type": "stream",
     "text": [
      "\n"
     ]
    },
    {
     "data": {
      "application/vnd.jupyter.widget-view+json": {
       "model_id": "b1612260de654251ba8558549361e62e",
       "version_major": 2,
       "version_minor": 0
      },
      "text/plain": [
       "HBox(children=(Output(), Output()))"
      ]
     },
     "metadata": {},
     "output_type": "display_data"
    },
    {
     "data": {
      "application/vnd.jupyter.widget-view+json": {
       "model_id": "8dffafea05274c92adb65cb31b4066cc",
       "version_major": 2,
       "version_minor": 0
      },
      "text/plain": [
       "HBox(children=(Output(), Output()))"
      ]
     },
     "metadata": {},
     "output_type": "display_data"
    },
    {
     "name": "stdout",
     "output_type": "stream",
     "text": [
      "✅ Combined mesh + 3D octahedron markers visualization created!\n",
      "   Each correspondence pair has matching colored 3D octahedrons\n",
      "   Source mesh: 11799 vertices + 24 marker vertices\n",
      "   Target mesh: 11392 vertices + 24 marker vertices\n",
      "\n",
      "📊 Correspondence Statistics:\n",
      "  - Average similarity: 0.4393\n",
      "  - Min similarity: 0.3557\n",
      "  - Max similarity: 0.5220\n",
      "  - Total correspondences: 4\n",
      "\n",
      "✅ Analysis complete!\n"
     ]
    }
   ],
   "source": [
    "import numpy as np\n",
    "source_points_3d = np.array([[-0.00793887, -0.0099004, -0.02071472], \n",
    "                             [0.01191107, 0.00449564, -0.02732792], \n",
    "                             [0.01248061, 0.00253191, -0.05360645], \n",
    "                             [0.01231679, 0.0029739, -0.00678797]])\n",
    "\n",
    "\n",
    "# Analysis parameters\n",
    "prompt = \"a beaker\"  # Text prompt for feature extraction\n",
    "num_views = 1  # Number of views for rendering (reduced for faster computation)\n",
    "\n",
    "\n",
    "# Run the complete analysis pipeline\n",
    "similarity_colors, raw_similarities, source_point_idx, closest_distance = run_multi_point_correspondence_analysis(\n",
    "    source_mesh=source_mesh,\n",
    "    target_mesh=target_mesh,\n",
    "    source_points_3d=source_points_3d,\n",
    "    device=device,\n",
    "    pipe=pipe,\n",
    "    dino_model=dino_model,\n",
    "    prompt=prompt,\n",
    "    num_views=num_views\n",
    ")\n",
    "\n",
    "print(\"\\n✅ Analysis complete!\")"
   ]
  },
  {
   "cell_type": "code",
   "execution_count": 12,
   "id": "59feafee-a4d7-4c8b-a254-45602fe813c7",
   "metadata": {},
   "outputs": [
    {
     "name": "stdout",
     "output_type": "stream",
     "text": [
      "Finding correspondences for 4 source points...\n",
      "Closest vertices to input 3D points:\n",
      "  Point 0: [-0.00793887 -0.0099004  -0.02071472] -> Vertex 7884 (distance: 0.0246)\n",
      "  Point 1: [ 0.01191107  0.00449564 -0.02732792] -> Vertex 9922 (distance: 0.0217)\n",
      "  Point 2: [ 0.01248061  0.00253191 -0.05360645] -> Vertex 197 (distance: 0.0112)\n",
      "  Point 3: [ 0.01231679  0.0029739  -0.00678797] -> Vertex 10093 (distance: 0.0221)\n",
      "Computing features for source mesh...\n",
      "Rendering complete\n"
     ]
    },
    {
     "name": "stderr",
     "output_type": "stream",
     "text": [
      "100%|████████████████████████████████████████████████████████████████████████████████████████████████| 2/2 [00:07<00:00,  3.62s/it]\n"
     ]
    },
    {
     "name": "stdout",
     "output_type": "stream",
     "text": [
      "Number of missing features:  5586\n",
      "Copied features from nearest vertices\n",
      "Time taken in mins:  0.1293342391649882\n",
      "Computing features for target mesh...\n",
      "Rendering complete\n"
     ]
    },
    {
     "name": "stderr",
     "output_type": "stream",
     "text": [
      "100%|████████████████████████████████████████████████████████████████████████████████████████████████| 2/2 [00:05<00:00,  2.52s/it]"
     ]
    },
    {
     "name": "stdout",
     "output_type": "stream",
     "text": [
      "Number of missing features:  5397\n",
      "Copied features from nearest vertices\n",
      "Time taken in mins:  0.09235415856043498\n",
      "  Point 0: Source vertex 7884 -> Target vertex 792 (similarity: 0.4473)\n",
      "  Point 1: Source vertex 9922 -> Target vertex 3234 (similarity: 0.7969)\n",
      "  Point 2: Source vertex 197 -> Target vertex 21 (similarity: 0.3557)\n",
      "  Point 3: Source vertex 10093 -> Target vertex 847 (similarity: 0.4324)\n",
      "🎨 Visualizing 4 correspondences:\n",
      "  Correspondence 1: Source vertex 7884 ↔ Target vertex 792 (similarity: 0.4473)\n",
      "    Color: RGB(1.00, 0.20, 0.20)\n",
      "  Correspondence 2: Source vertex 9922 ↔ Target vertex 3234 (similarity: 0.7969)\n",
      "    Color: RGB(0.45, 0.90, 0.00)\n",
      "  Correspondence 3: Source vertex 197 ↔ Target vertex 21 (similarity: 0.3557)\n",
      "    Color: RGB(0.20, 1.00, 1.00)\n",
      "  Correspondence 4: Source vertex 10093 ↔ Target vertex 847 (similarity: 0.4324)\n",
      "    Color: RGB(0.45, 0.00, 0.90)\n",
      "🎯 Creating combined mesh + 3D marker visualization...\n"
     ]
    },
    {
     "name": "stderr",
     "output_type": "stream",
     "text": [
      "\n"
     ]
    },
    {
     "data": {
      "application/vnd.jupyter.widget-view+json": {
       "model_id": "6aa529ea16c14cf190085298f28bac22",
       "version_major": 2,
       "version_minor": 0
      },
      "text/plain": [
       "HBox(children=(Output(), Output()))"
      ]
     },
     "metadata": {},
     "output_type": "display_data"
    },
    {
     "data": {
      "application/vnd.jupyter.widget-view+json": {
       "model_id": "7d8dc462cc0e44e0a15aa4e49646fa50",
       "version_major": 2,
       "version_minor": 0
      },
      "text/plain": [
       "HBox(children=(Output(), Output()))"
      ]
     },
     "metadata": {},
     "output_type": "display_data"
    },
    {
     "name": "stdout",
     "output_type": "stream",
     "text": [
      "✅ Combined mesh + 3D octahedron markers visualization created!\n",
      "   Each correspondence pair has matching colored 3D octahedrons\n",
      "   Source mesh: 11799 vertices + 24 marker vertices\n",
      "   Target mesh: 11392 vertices + 24 marker vertices\n",
      "\n",
      "📊 Correspondence Statistics:\n",
      "  - Average similarity: 0.5081\n",
      "  - Min similarity: 0.3557\n",
      "  - Max similarity: 0.7969\n",
      "  - Total correspondences: 4\n",
      "\n",
      "✅ Analysis complete!\n"
     ]
    }
   ],
   "source": [
    "num_views = 2  # Number of views for rendering (reduced for faster computation)\n",
    "\n",
    "\n",
    "# Run the complete analysis pipeline\n",
    "similarity_colors, raw_similarities, source_point_idx, closest_distance = run_multi_point_correspondence_analysis(\n",
    "    source_mesh=source_mesh,\n",
    "    target_mesh=target_mesh,\n",
    "    source_points_3d=source_points_3d,\n",
    "    device=device,\n",
    "    pipe=pipe,\n",
    "    dino_model=dino_model,\n",
    "    prompt=prompt,\n",
    "    num_views=num_views\n",
    ")\n",
    "\n",
    "print(\"\\n✅ Analysis complete!\")"
   ]
  },
  {
   "cell_type": "code",
   "execution_count": 13,
   "id": "05de17b4-8d79-4bba-8fdf-291018b54074",
   "metadata": {},
   "outputs": [
    {
     "name": "stdout",
     "output_type": "stream",
     "text": [
      "Finding correspondences for 4 source points...\n",
      "Closest vertices to input 3D points:\n",
      "  Point 0: [-0.00793887 -0.0099004  -0.02071472] -> Vertex 7884 (distance: 0.0246)\n",
      "  Point 1: [ 0.01191107  0.00449564 -0.02732792] -> Vertex 9922 (distance: 0.0217)\n",
      "  Point 2: [ 0.01248061  0.00253191 -0.05360645] -> Vertex 197 (distance: 0.0112)\n",
      "  Point 3: [ 0.01231679  0.0029739  -0.00678797] -> Vertex 10093 (distance: 0.0221)\n",
      "Computing features for source mesh...\n",
      "Rendering complete\n"
     ]
    },
    {
     "name": "stderr",
     "output_type": "stream",
     "text": [
      "100%|████████████████████████████████████████████████████████████████████████████████████████████████| 3/3 [00:08<00:00,  2.81s/it]\n"
     ]
    },
    {
     "name": "stdout",
     "output_type": "stream",
     "text": [
      "Number of missing features:  3356\n",
      "Copied features from nearest vertices\n",
      "Time taken in mins:  0.15901253620783487\n",
      "Computing features for target mesh...\n",
      "Rendering complete\n"
     ]
    },
    {
     "name": "stderr",
     "output_type": "stream",
     "text": [
      "100%|████████████████████████████████████████████████████████████████████████████████████████████████| 3/3 [00:09<00:00,  3.23s/it]"
     ]
    },
    {
     "name": "stdout",
     "output_type": "stream",
     "text": [
      "Number of missing features:  2813\n",
      "Copied features from nearest vertices\n",
      "Time taken in mins:  0.17385975122451783\n",
      "  Point 0: Source vertex 7884 -> Target vertex 792 (similarity: 0.4473)\n",
      "  Point 1: Source vertex 9922 -> Target vertex 3161 (similarity: 0.6377)\n",
      "  Point 2: Source vertex 197 -> Target vertex 21 (similarity: 0.3557)\n",
      "  Point 3: Source vertex 10093 -> Target vertex 3568 (similarity: 0.5601)\n",
      "🎨 Visualizing 4 correspondences:\n",
      "  Correspondence 1: Source vertex 7884 ↔ Target vertex 792 (similarity: 0.4473)\n",
      "    Color: RGB(1.00, 0.20, 0.20)\n",
      "  Correspondence 2: Source vertex 9922 ↔ Target vertex 3161 (similarity: 0.6377)\n",
      "    Color: RGB(0.45, 0.90, 0.00)\n",
      "  Correspondence 3: Source vertex 197 ↔ Target vertex 21 (similarity: 0.3557)\n",
      "    Color: RGB(0.20, 1.00, 1.00)\n",
      "  Correspondence 4: Source vertex 10093 ↔ Target vertex 3568 (similarity: 0.5601)\n",
      "    Color: RGB(0.45, 0.00, 0.90)\n",
      "🎯 Creating combined mesh + 3D marker visualization...\n"
     ]
    },
    {
     "name": "stderr",
     "output_type": "stream",
     "text": [
      "\n"
     ]
    },
    {
     "data": {
      "application/vnd.jupyter.widget-view+json": {
       "model_id": "50243cce7ca343e08fa8d67651c76129",
       "version_major": 2,
       "version_minor": 0
      },
      "text/plain": [
       "HBox(children=(Output(), Output()))"
      ]
     },
     "metadata": {},
     "output_type": "display_data"
    },
    {
     "data": {
      "application/vnd.jupyter.widget-view+json": {
       "model_id": "da659cef5e0f4965872c3d40dc28f312",
       "version_major": 2,
       "version_minor": 0
      },
      "text/plain": [
       "HBox(children=(Output(), Output()))"
      ]
     },
     "metadata": {},
     "output_type": "display_data"
    },
    {
     "name": "stdout",
     "output_type": "stream",
     "text": [
      "✅ Combined mesh + 3D octahedron markers visualization created!\n",
      "   Each correspondence pair has matching colored 3D octahedrons\n",
      "   Source mesh: 11799 vertices + 24 marker vertices\n",
      "   Target mesh: 11392 vertices + 24 marker vertices\n",
      "\n",
      "📊 Correspondence Statistics:\n",
      "  - Average similarity: 0.5002\n",
      "  - Min similarity: 0.3557\n",
      "  - Max similarity: 0.6377\n",
      "  - Total correspondences: 4\n",
      "\n",
      "✅ Analysis complete!\n"
     ]
    }
   ],
   "source": [
    "num_views = 3  # Number of views for rendering (reduced for faster computation)\n",
    "\n",
    "\n",
    "# Run the complete analysis pipeline\n",
    "similarity_colors, raw_similarities, source_point_idx, closest_distance = run_multi_point_correspondence_analysis(\n",
    "    source_mesh=source_mesh,\n",
    "    target_mesh=target_mesh,\n",
    "    source_points_3d=source_points_3d,\n",
    "    device=device,\n",
    "    pipe=pipe,\n",
    "    dino_model=dino_model,\n",
    "    prompt=prompt,\n",
    "    num_views=num_views\n",
    ")\n",
    "\n",
    "print(\"\\n✅ Analysis complete!\")"
   ]
  },
  {
   "cell_type": "code",
   "execution_count": 14,
   "id": "15818b98-4852-416a-8dcf-7c48a79aca0e",
   "metadata": {},
   "outputs": [
    {
     "name": "stdout",
     "output_type": "stream",
     "text": [
      "Finding correspondences for 4 source points...\n",
      "Closest vertices to input 3D points:\n",
      "  Point 0: [-0.00793887 -0.0099004  -0.02071472] -> Vertex 7884 (distance: 0.0246)\n",
      "  Point 1: [ 0.01191107  0.00449564 -0.02732792] -> Vertex 9922 (distance: 0.0217)\n",
      "  Point 2: [ 0.01248061  0.00253191 -0.05360645] -> Vertex 197 (distance: 0.0112)\n",
      "  Point 3: [ 0.01231679  0.0029739  -0.00678797] -> Vertex 10093 (distance: 0.0221)\n",
      "Computing features for source mesh...\n",
      "Rendering complete\n"
     ]
    },
    {
     "name": "stderr",
     "output_type": "stream",
     "text": [
      "100%|████████████████████████████████████████████████████████████████████████████████████████████████| 4/4 [00:11<00:00,  2.85s/it]\n"
     ]
    },
    {
     "name": "stdout",
     "output_type": "stream",
     "text": [
      "Number of missing features:  2667\n",
      "Copied features from nearest vertices\n",
      "Time taken in mins:  0.20461530288060506\n",
      "Computing features for target mesh...\n",
      "Rendering complete\n"
     ]
    },
    {
     "name": "stderr",
     "output_type": "stream",
     "text": [
      "100%|████████████████████████████████████████████████████████████████████████████████████████████████| 4/4 [00:10<00:00,  2.72s/it]"
     ]
    },
    {
     "name": "stdout",
     "output_type": "stream",
     "text": [
      "Number of missing features:  2353\n",
      "Copied features from nearest vertices\n",
      "Time taken in mins:  0.1990134914716085\n",
      "  Point 0: Source vertex 7884 -> Target vertex 8776 (similarity: 0.7314)\n",
      "  Point 1: Source vertex 9922 -> Target vertex 5488 (similarity: 0.5967)\n",
      "  Point 2: Source vertex 197 -> Target vertex 21 (similarity: 0.3557)\n",
      "  Point 3: Source vertex 10093 -> Target vertex 4884 (similarity: 0.4688)\n",
      "🎨 Visualizing 4 correspondences:\n",
      "  Correspondence 1: Source vertex 7884 ↔ Target vertex 8776 (similarity: 0.7314)\n",
      "    Color: RGB(1.00, 0.20, 0.20)\n",
      "  Correspondence 2: Source vertex 9922 ↔ Target vertex 5488 (similarity: 0.5967)\n",
      "    Color: RGB(0.45, 0.90, 0.00)\n",
      "  Correspondence 3: Source vertex 197 ↔ Target vertex 21 (similarity: 0.3557)\n",
      "    Color: RGB(0.20, 1.00, 1.00)\n",
      "  Correspondence 4: Source vertex 10093 ↔ Target vertex 4884 (similarity: 0.4688)\n",
      "    Color: RGB(0.45, 0.00, 0.90)\n",
      "🎯 Creating combined mesh + 3D marker visualization...\n"
     ]
    },
    {
     "name": "stderr",
     "output_type": "stream",
     "text": [
      "\n"
     ]
    },
    {
     "data": {
      "application/vnd.jupyter.widget-view+json": {
       "model_id": "1c8382edd0c74aca93b6bc0f36f9e774",
       "version_major": 2,
       "version_minor": 0
      },
      "text/plain": [
       "HBox(children=(Output(), Output()))"
      ]
     },
     "metadata": {},
     "output_type": "display_data"
    },
    {
     "data": {
      "application/vnd.jupyter.widget-view+json": {
       "model_id": "0af3a63d4e3b42e3b468599e7b7768a7",
       "version_major": 2,
       "version_minor": 0
      },
      "text/plain": [
       "HBox(children=(Output(), Output()))"
      ]
     },
     "metadata": {},
     "output_type": "display_data"
    },
    {
     "name": "stdout",
     "output_type": "stream",
     "text": [
      "✅ Combined mesh + 3D octahedron markers visualization created!\n",
      "   Each correspondence pair has matching colored 3D octahedrons\n",
      "   Source mesh: 11799 vertices + 24 marker vertices\n",
      "   Target mesh: 11392 vertices + 24 marker vertices\n",
      "\n",
      "📊 Correspondence Statistics:\n",
      "  - Average similarity: 0.5381\n",
      "  - Min similarity: 0.3557\n",
      "  - Max similarity: 0.7314\n",
      "  - Total correspondences: 4\n",
      "\n",
      "✅ Analysis complete!\n"
     ]
    }
   ],
   "source": [
    "num_views = 4  # Number of views for rendering (reduced for faster computation)\n",
    "\n",
    "\n",
    "# Run the complete analysis pipeline\n",
    "similarity_colors, raw_similarities, source_point_idx, closest_distance = run_multi_point_correspondence_analysis(\n",
    "    source_mesh=source_mesh,\n",
    "    target_mesh=target_mesh,\n",
    "    source_points_3d=source_points_3d,\n",
    "    device=device,\n",
    "    pipe=pipe,\n",
    "    dino_model=dino_model,\n",
    "    prompt=prompt,\n",
    "    num_views=num_views\n",
    ")\n",
    "\n",
    "print(\"\\n✅ Analysis complete!\")"
   ]
  },
  {
   "cell_type": "code",
   "execution_count": 15,
   "id": "c87612b7-6c9e-4cef-a39d-271437ee8364",
   "metadata": {},
   "outputs": [
    {
     "name": "stdout",
     "output_type": "stream",
     "text": [
      "Finding correspondences for 4 source points...\n",
      "Closest vertices to input 3D points:\n",
      "  Point 0: [-0.00793887 -0.0099004  -0.02071472] -> Vertex 7884 (distance: 0.0246)\n",
      "  Point 1: [ 0.01191107  0.00449564 -0.02732792] -> Vertex 9922 (distance: 0.0217)\n",
      "  Point 2: [ 0.01248061  0.00253191 -0.05360645] -> Vertex 197 (distance: 0.0112)\n",
      "  Point 3: [ 0.01231679  0.0029739  -0.00678797] -> Vertex 10093 (distance: 0.0221)\n",
      "Computing features for source mesh...\n",
      "Rendering complete\n"
     ]
    },
    {
     "name": "stderr",
     "output_type": "stream",
     "text": [
      "100%|████████████████████████████████████████████████████████████████████████████████████████████████| 5/5 [00:15<00:00,  3.00s/it]\n"
     ]
    },
    {
     "name": "stdout",
     "output_type": "stream",
     "text": [
      "Number of missing features:  2326\n",
      "Copied features from nearest vertices\n",
      "Time taken in mins:  0.2725011507670085\n",
      "Computing features for target mesh...\n",
      "Rendering complete\n"
     ]
    },
    {
     "name": "stderr",
     "output_type": "stream",
     "text": [
      "100%|████████████████████████████████████████████████████████████████████████████████████████████████| 5/5 [00:14<00:00,  2.87s/it]"
     ]
    },
    {
     "name": "stdout",
     "output_type": "stream",
     "text": [
      "Number of missing features:  2150\n",
      "Copied features from nearest vertices\n",
      "Time taken in mins:  0.25773532390594484\n",
      "  Point 0: Source vertex 7884 -> Target vertex 8223 (similarity: 0.7344)\n",
      "  Point 1: Source vertex 9922 -> Target vertex 3560 (similarity: 0.7212)\n",
      "  Point 2: Source vertex 197 -> Target vertex 21 (similarity: 0.3557)\n",
      "  Point 3: Source vertex 10093 -> Target vertex 3559 (similarity: 0.6772)\n",
      "🎨 Visualizing 4 correspondences:\n",
      "  Correspondence 1: Source vertex 7884 ↔ Target vertex 8223 (similarity: 0.7344)\n",
      "    Color: RGB(1.00, 0.20, 0.20)\n",
      "  Correspondence 2: Source vertex 9922 ↔ Target vertex 3560 (similarity: 0.7212)\n",
      "    Color: RGB(0.45, 0.90, 0.00)\n",
      "  Correspondence 3: Source vertex 197 ↔ Target vertex 21 (similarity: 0.3557)\n",
      "    Color: RGB(0.20, 1.00, 1.00)\n",
      "  Correspondence 4: Source vertex 10093 ↔ Target vertex 3559 (similarity: 0.6772)\n",
      "    Color: RGB(0.45, 0.00, 0.90)\n",
      "🎯 Creating combined mesh + 3D marker visualization...\n"
     ]
    },
    {
     "name": "stderr",
     "output_type": "stream",
     "text": [
      "\n"
     ]
    },
    {
     "data": {
      "application/vnd.jupyter.widget-view+json": {
       "model_id": "56e287b4bc104efeb22c5121b923bd0a",
       "version_major": 2,
       "version_minor": 0
      },
      "text/plain": [
       "HBox(children=(Output(), Output()))"
      ]
     },
     "metadata": {},
     "output_type": "display_data"
    },
    {
     "data": {
      "application/vnd.jupyter.widget-view+json": {
       "model_id": "5b02fdd35d314c42bd350719acc3f969",
       "version_major": 2,
       "version_minor": 0
      },
      "text/plain": [
       "HBox(children=(Output(), Output()))"
      ]
     },
     "metadata": {},
     "output_type": "display_data"
    },
    {
     "name": "stdout",
     "output_type": "stream",
     "text": [
      "✅ Combined mesh + 3D octahedron markers visualization created!\n",
      "   Each correspondence pair has matching colored 3D octahedrons\n",
      "   Source mesh: 11799 vertices + 24 marker vertices\n",
      "   Target mesh: 11392 vertices + 24 marker vertices\n",
      "\n",
      "📊 Correspondence Statistics:\n",
      "  - Average similarity: 0.6221\n",
      "  - Min similarity: 0.3557\n",
      "  - Max similarity: 0.7344\n",
      "  - Total correspondences: 4\n",
      "\n",
      "✅ Analysis complete!\n"
     ]
    }
   ],
   "source": [
    "num_views = 5  # Number of views for rendering (reduced for faster computation)\n",
    "\n",
    "\n",
    "# Run the complete analysis pipeline\n",
    "similarity_colors, raw_similarities, source_point_idx, closest_distance = run_multi_point_correspondence_analysis(\n",
    "    source_mesh=source_mesh,\n",
    "    target_mesh=target_mesh,\n",
    "    source_points_3d=source_points_3d,\n",
    "    device=device,\n",
    "    pipe=pipe,\n",
    "    dino_model=dino_model,\n",
    "    prompt=prompt,\n",
    "    num_views=num_views\n",
    ")\n",
    "\n",
    "print(\"\\n✅ Analysis complete!\")"
   ]
  },
  {
   "cell_type": "code",
   "execution_count": 16,
   "id": "b10df712-f0b6-4503-aba6-cefe367cb702",
   "metadata": {},
   "outputs": [
    {
     "name": "stdout",
     "output_type": "stream",
     "text": [
      "Finding correspondences for 4 source points...\n",
      "Closest vertices to input 3D points:\n",
      "  Point 0: [-0.00793887 -0.0099004  -0.02071472] -> Vertex 7884 (distance: 0.0246)\n",
      "  Point 1: [ 0.01191107  0.00449564 -0.02732792] -> Vertex 9922 (distance: 0.0217)\n",
      "  Point 2: [ 0.01248061  0.00253191 -0.05360645] -> Vertex 197 (distance: 0.0112)\n",
      "  Point 3: [ 0.01231679  0.0029739  -0.00678797] -> Vertex 10093 (distance: 0.0221)\n",
      "Computing features for source mesh...\n",
      "Rendering complete\n"
     ]
    },
    {
     "name": "stderr",
     "output_type": "stream",
     "text": [
      "100%|██████████████████████████████████████████████████████████████████████████████████████████████| 10/10 [00:32<00:00,  3.23s/it]\n"
     ]
    },
    {
     "name": "stdout",
     "output_type": "stream",
     "text": [
      "Number of missing features:  982\n",
      "Copied features from nearest vertices\n",
      "Time taken in mins:  0.5795831918716431\n",
      "Computing features for target mesh...\n",
      "Rendering complete\n"
     ]
    },
    {
     "name": "stderr",
     "output_type": "stream",
     "text": [
      "100%|██████████████████████████████████████████████████████████████████████████████████████████████| 10/10 [00:30<00:00,  3.02s/it]"
     ]
    },
    {
     "name": "stdout",
     "output_type": "stream",
     "text": [
      "Number of missing features:  1590\n",
      "Copied features from nearest vertices\n",
      "Time taken in mins:  0.5382819096247355\n",
      "  Point 0: Source vertex 7884 -> Target vertex 9296 (similarity: 0.7969)\n",
      "  Point 1: Source vertex 9922 -> Target vertex 3626 (similarity: 0.8384)\n",
      "  Point 2: Source vertex 197 -> Target vertex 21 (similarity: 0.3557)\n",
      "  Point 3: Source vertex 10093 -> Target vertex 3273 (similarity: 0.7959)\n",
      "🎨 Visualizing 4 correspondences:\n",
      "  Correspondence 1: Source vertex 7884 ↔ Target vertex 9296 (similarity: 0.7969)\n",
      "    Color: RGB(1.00, 0.20, 0.20)\n",
      "  Correspondence 2: Source vertex 9922 ↔ Target vertex 3626 (similarity: 0.8384)\n",
      "    Color: RGB(0.45, 0.90, 0.00)\n",
      "  Correspondence 3: Source vertex 197 ↔ Target vertex 21 (similarity: 0.3557)\n",
      "    Color: RGB(0.20, 1.00, 1.00)\n",
      "  Correspondence 4: Source vertex 10093 ↔ Target vertex 3273 (similarity: 0.7959)\n",
      "    Color: RGB(0.45, 0.00, 0.90)\n",
      "🎯 Creating combined mesh + 3D marker visualization...\n"
     ]
    },
    {
     "name": "stderr",
     "output_type": "stream",
     "text": [
      "\n"
     ]
    },
    {
     "data": {
      "application/vnd.jupyter.widget-view+json": {
       "model_id": "9fc2194bfcd04c2d920ad53a79e2060f",
       "version_major": 2,
       "version_minor": 0
      },
      "text/plain": [
       "HBox(children=(Output(), Output()))"
      ]
     },
     "metadata": {},
     "output_type": "display_data"
    },
    {
     "data": {
      "application/vnd.jupyter.widget-view+json": {
       "model_id": "5f62561bd0f6454588863b305401471c",
       "version_major": 2,
       "version_minor": 0
      },
      "text/plain": [
       "HBox(children=(Output(), Output()))"
      ]
     },
     "metadata": {},
     "output_type": "display_data"
    },
    {
     "name": "stdout",
     "output_type": "stream",
     "text": [
      "✅ Combined mesh + 3D octahedron markers visualization created!\n",
      "   Each correspondence pair has matching colored 3D octahedrons\n",
      "   Source mesh: 11799 vertices + 24 marker vertices\n",
      "   Target mesh: 11392 vertices + 24 marker vertices\n",
      "\n",
      "📊 Correspondence Statistics:\n",
      "  - Average similarity: 0.6967\n",
      "  - Min similarity: 0.3557\n",
      "  - Max similarity: 0.8384\n",
      "  - Total correspondences: 4\n",
      "\n",
      "✅ Analysis complete!\n"
     ]
    }
   ],
   "source": [
    "num_views = 10  # Number of views for rendering (reduced for faster computation)\n",
    "\n",
    "\n",
    "# Run the complete analysis pipeline\n",
    "similarity_colors, raw_similarities, source_point_idx, closest_distance = run_multi_point_correspondence_analysis(\n",
    "    source_mesh=source_mesh,\n",
    "    target_mesh=target_mesh,\n",
    "    source_points_3d=source_points_3d,\n",
    "    device=device,\n",
    "    pipe=pipe,\n",
    "    dino_model=dino_model,\n",
    "    prompt=prompt,\n",
    "    num_views=num_views\n",
    ")\n",
    "\n",
    "print(\"\\n✅ Analysis complete!\")"
   ]
  },
  {
   "cell_type": "code",
   "execution_count": 17,
   "id": "30743067-4025-4fcb-ab4c-3a018472fae3",
   "metadata": {},
   "outputs": [
    {
     "name": "stdout",
     "output_type": "stream",
     "text": [
      "Finding correspondences for 4 source points...\n",
      "Closest vertices to input 3D points:\n",
      "  Point 0: [-0.00793887 -0.0099004  -0.02071472] -> Vertex 7884 (distance: 0.0246)\n",
      "  Point 1: [ 0.01191107  0.00449564 -0.02732792] -> Vertex 9922 (distance: 0.0217)\n",
      "  Point 2: [ 0.01248061  0.00253191 -0.05360645] -> Vertex 197 (distance: 0.0112)\n",
      "  Point 3: [ 0.01231679  0.0029739  -0.00678797] -> Vertex 10093 (distance: 0.0221)\n",
      "Computing features for source mesh...\n",
      "Rendering complete\n"
     ]
    },
    {
     "name": "stderr",
     "output_type": "stream",
     "text": [
      "100%|██████████████████████████████████████████████████████████████████████████████████████████████| 15/15 [00:43<00:00,  2.87s/it]\n"
     ]
    },
    {
     "name": "stdout",
     "output_type": "stream",
     "text": [
      "Number of missing features:  577\n",
      "Copied features from nearest vertices\n",
      "Time taken in mins:  0.7689466516176859\n",
      "Computing features for target mesh...\n",
      "Rendering complete\n"
     ]
    },
    {
     "name": "stderr",
     "output_type": "stream",
     "text": [
      "100%|██████████████████████████████████████████████████████████████████████████████████████████████| 15/15 [00:34<00:00,  2.29s/it]"
     ]
    },
    {
     "name": "stdout",
     "output_type": "stream",
     "text": [
      "Number of missing features:  1202\n",
      "Copied features from nearest vertices\n",
      "Time taken in mins:  0.614670459429423\n",
      "  Point 0: Source vertex 7884 -> Target vertex 9291 (similarity: 0.7368)\n",
      "  Point 1: Source vertex 9922 -> Target vertex 3605 (similarity: 0.7598)\n",
      "  Point 2: Source vertex 197 -> Target vertex 21 (similarity: 0.3557)\n",
      "  Point 3: Source vertex 10093 -> Target vertex 3235 (similarity: 0.7603)\n",
      "🎨 Visualizing 4 correspondences:\n",
      "  Correspondence 1: Source vertex 7884 ↔ Target vertex 9291 (similarity: 0.7368)\n",
      "    Color: RGB(1.00, 0.20, 0.20)\n",
      "  Correspondence 2: Source vertex 9922 ↔ Target vertex 3605 (similarity: 0.7598)\n",
      "    Color: RGB(0.45, 0.90, 0.00)\n",
      "  Correspondence 3: Source vertex 197 ↔ Target vertex 21 (similarity: 0.3557)\n",
      "    Color: RGB(0.20, 1.00, 1.00)\n",
      "  Correspondence 4: Source vertex 10093 ↔ Target vertex 3235 (similarity: 0.7603)\n",
      "    Color: RGB(0.45, 0.00, 0.90)\n",
      "🎯 Creating combined mesh + 3D marker visualization...\n"
     ]
    },
    {
     "name": "stderr",
     "output_type": "stream",
     "text": [
      "\n"
     ]
    },
    {
     "data": {
      "application/vnd.jupyter.widget-view+json": {
       "model_id": "c4eb2fe86d224eabaac0f48d3434b413",
       "version_major": 2,
       "version_minor": 0
      },
      "text/plain": [
       "HBox(children=(Output(), Output()))"
      ]
     },
     "metadata": {},
     "output_type": "display_data"
    },
    {
     "data": {
      "application/vnd.jupyter.widget-view+json": {
       "model_id": "5db114dad75d48ec9bed84a03a3cff2c",
       "version_major": 2,
       "version_minor": 0
      },
      "text/plain": [
       "HBox(children=(Output(), Output()))"
      ]
     },
     "metadata": {},
     "output_type": "display_data"
    },
    {
     "name": "stdout",
     "output_type": "stream",
     "text": [
      "✅ Combined mesh + 3D octahedron markers visualization created!\n",
      "   Each correspondence pair has matching colored 3D octahedrons\n",
      "   Source mesh: 11799 vertices + 24 marker vertices\n",
      "   Target mesh: 11392 vertices + 24 marker vertices\n",
      "\n",
      "📊 Correspondence Statistics:\n",
      "  - Average similarity: 0.6531\n",
      "  - Min similarity: 0.3557\n",
      "  - Max similarity: 0.7603\n",
      "  - Total correspondences: 4\n",
      "\n",
      "✅ Analysis complete!\n"
     ]
    }
   ],
   "source": [
    "num_views = 15  # Number of views for rendering (reduced for faster computation)\n",
    "\n",
    "\n",
    "# Run the complete analysis pipeline\n",
    "similarity_colors, raw_similarities, source_point_idx, closest_distance = run_multi_point_correspondence_analysis(\n",
    "    source_mesh=source_mesh,\n",
    "    target_mesh=target_mesh,\n",
    "    source_points_3d=source_points_3d,\n",
    "    device=device,\n",
    "    pipe=pipe,\n",
    "    dino_model=dino_model,\n",
    "    prompt=prompt,\n",
    "    num_views=num_views\n",
    ")\n",
    "\n",
    "print(\"\\n✅ Analysis complete!\")"
   ]
  },
  {
   "cell_type": "code",
   "execution_count": 18,
   "id": "61a330fd-d876-4e96-a23c-be003a8af104",
   "metadata": {},
   "outputs": [
    {
     "name": "stdout",
     "output_type": "stream",
     "text": [
      "Finding correspondences for 4 source points...\n",
      "Closest vertices to input 3D points:\n",
      "  Point 0: [-0.00793887 -0.0099004  -0.02071472] -> Vertex 7884 (distance: 0.0246)\n",
      "  Point 1: [ 0.01191107  0.00449564 -0.02732792] -> Vertex 9922 (distance: 0.0217)\n",
      "  Point 2: [ 0.01248061  0.00253191 -0.05360645] -> Vertex 197 (distance: 0.0112)\n",
      "  Point 3: [ 0.01231679  0.0029739  -0.00678797] -> Vertex 10093 (distance: 0.0221)\n",
      "Computing features for source mesh...\n",
      "Rendering complete\n"
     ]
    },
    {
     "name": "stderr",
     "output_type": "stream",
     "text": [
      "100%|██████████████████████████████████████████████████████████████████████████████████████████████| 20/20 [00:49<00:00,  2.47s/it]\n"
     ]
    },
    {
     "name": "stdout",
     "output_type": "stream",
     "text": [
      "Number of missing features:  521\n",
      "Copied features from nearest vertices\n",
      "Time taken in mins:  0.8800276041030883\n",
      "Computing features for target mesh...\n",
      "Rendering complete\n"
     ]
    },
    {
     "name": "stderr",
     "output_type": "stream",
     "text": [
      "100%|██████████████████████████████████████████████████████████████████████████████████████████████| 20/20 [00:50<00:00,  2.53s/it]"
     ]
    },
    {
     "name": "stdout",
     "output_type": "stream",
     "text": [
      "Number of missing features:  1199\n",
      "Copied features from nearest vertices\n",
      "Time taken in mins:  0.8994696696599325\n",
      "  Point 0: Source vertex 7884 -> Target vertex 9561 (similarity: 0.8096)\n",
      "  Point 1: Source vertex 9922 -> Target vertex 5925 (similarity: 0.8276)\n",
      "  Point 2: Source vertex 197 -> Target vertex 21 (similarity: 0.3557)\n",
      "  Point 3: Source vertex 10093 -> Target vertex 5523 (similarity: 0.8291)\n",
      "🎨 Visualizing 4 correspondences:\n",
      "  Correspondence 1: Source vertex 7884 ↔ Target vertex 9561 (similarity: 0.8096)\n",
      "    Color: RGB(1.00, 0.20, 0.20)\n",
      "  Correspondence 2: Source vertex 9922 ↔ Target vertex 5925 (similarity: 0.8276)\n",
      "    Color: RGB(0.45, 0.90, 0.00)\n",
      "  Correspondence 3: Source vertex 197 ↔ Target vertex 21 (similarity: 0.3557)\n",
      "    Color: RGB(0.20, 1.00, 1.00)\n",
      "  Correspondence 4: Source vertex 10093 ↔ Target vertex 5523 (similarity: 0.8291)\n",
      "    Color: RGB(0.45, 0.00, 0.90)\n",
      "🎯 Creating combined mesh + 3D marker visualization...\n"
     ]
    },
    {
     "name": "stderr",
     "output_type": "stream",
     "text": [
      "\n"
     ]
    },
    {
     "data": {
      "application/vnd.jupyter.widget-view+json": {
       "model_id": "15e1e28a3a054a05b6920e4548799aaf",
       "version_major": 2,
       "version_minor": 0
      },
      "text/plain": [
       "HBox(children=(Output(), Output()))"
      ]
     },
     "metadata": {},
     "output_type": "display_data"
    },
    {
     "data": {
      "application/vnd.jupyter.widget-view+json": {
       "model_id": "9b17e5504c2e4bf7a54a2686dfb48208",
       "version_major": 2,
       "version_minor": 0
      },
      "text/plain": [
       "HBox(children=(Output(), Output()))"
      ]
     },
     "metadata": {},
     "output_type": "display_data"
    },
    {
     "name": "stdout",
     "output_type": "stream",
     "text": [
      "✅ Combined mesh + 3D octahedron markers visualization created!\n",
      "   Each correspondence pair has matching colored 3D octahedrons\n",
      "   Source mesh: 11799 vertices + 24 marker vertices\n",
      "   Target mesh: 11392 vertices + 24 marker vertices\n",
      "\n",
      "📊 Correspondence Statistics:\n",
      "  - Average similarity: 0.7055\n",
      "  - Min similarity: 0.3557\n",
      "  - Max similarity: 0.8291\n",
      "  - Total correspondences: 4\n",
      "\n",
      "✅ Analysis complete!\n"
     ]
    }
   ],
   "source": [
    "num_views = 20  # Number of views for rendering (reduced for faster computation)\n",
    "\n",
    "\n",
    "# Run the complete analysis pipeline\n",
    "similarity_colors, raw_similarities, source_point_idx, closest_distance = run_multi_point_correspondence_analysis(\n",
    "    source_mesh=source_mesh,\n",
    "    target_mesh=target_mesh,\n",
    "    source_points_3d=source_points_3d,\n",
    "    device=device,\n",
    "    pipe=pipe,\n",
    "    dino_model=dino_model,\n",
    "    prompt=prompt,\n",
    "    num_views=num_views\n",
    ")\n",
    "\n",
    "print(\"\\n✅ Analysis complete!\")"
   ]
  },
  {
   "cell_type": "code",
   "execution_count": null,
   "id": "0d5f7994-ac83-47f4-92b8-fb4ae8611e64",
   "metadata": {},
   "outputs": [],
   "source": []
  }
 ],
 "metadata": {
  "kernelspec": {
   "display_name": "Python (diff3f)",
   "language": "python",
   "name": "diff3f"
  },
  "language_info": {
   "codemirror_mode": {
    "name": "ipython",
    "version": 3
   },
   "file_extension": ".py",
   "mimetype": "text/x-python",
   "name": "python",
   "nbconvert_exporter": "python",
   "pygments_lexer": "ipython3",
   "version": "3.10.18"
  }
 },
 "nbformat": 4,
 "nbformat_minor": 5
}
